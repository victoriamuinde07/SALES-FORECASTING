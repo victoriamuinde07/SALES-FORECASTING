{
 "cells": [
  {
   "cell_type": "code",
   "execution_count": 1,
   "id": "12d4d7b1",
   "metadata": {
    "_cell_guid": "b1076dfc-b9ad-4769-8c92-a6c4dae69d19",
    "_uuid": "8f2839f25d086af736a60e9eeb907d3b93b6e0e5",
    "execution": {
     "iopub.execute_input": "2024-11-15T04:22:17.637383Z",
     "iopub.status.busy": "2024-11-15T04:22:17.637093Z",
     "iopub.status.idle": "2024-11-15T04:22:18.973564Z",
     "shell.execute_reply": "2024-11-15T04:22:18.972681Z"
    },
    "papermill": {
     "duration": 1.347284,
     "end_time": "2024-11-15T04:22:18.975810",
     "exception": false,
     "start_time": "2024-11-15T04:22:17.628526",
     "status": "completed"
    },
    "tags": []
   },
   "outputs": [
    {
     "name": "stdout",
     "output_type": "stream",
     "text": [
      "/kaggle/input/store-sales-time-series-forecasting/oil.csv\n",
      "/kaggle/input/store-sales-time-series-forecasting/sample_submission.csv\n",
      "/kaggle/input/store-sales-time-series-forecasting/holidays_events.csv\n",
      "/kaggle/input/store-sales-time-series-forecasting/stores.csv\n",
      "/kaggle/input/store-sales-time-series-forecasting/train.csv\n",
      "/kaggle/input/store-sales-time-series-forecasting/test.csv\n",
      "/kaggle/input/store-sales-time-series-forecasting/transactions.csv\n"
     ]
    }
   ],
   "source": [
    "# This Python 3 environment comes with many helpful analytics libraries installed\n",
    "# It is defined by the kaggle/python Docker image: https://github.com/kaggle/docker-python\n",
    "# For example, here's several helpful packages to load\n",
    "\n",
    "import numpy as np # linear algebra\n",
    "import pandas as pd # data processing, CSV file I/O (e.g. pd.read_csv)\n",
    "\n",
    "# Input data files are available in the read-only \"../input/\" directory\n",
    "# For example, running this (by clicking run or pressing Shift+Enter) will list all files under the input directory\n",
    "\n",
    "import os\n",
    "for dirname, _, filenames in os.walk('/kaggle/input'):\n",
    "    for filename in filenames:\n",
    "        print(os.path.join(dirname, filename))\n",
    "\n",
    "# You can write up to 20GB to the current directory (/kaggle/working/) that gets preserved as output when you create a version using \"Save & Run All\" \n",
    "# You can also write temporary files to /kaggle/temp/, but they won't be saved outside of the current session"
   ]
  },
  {
   "cell_type": "code",
   "execution_count": 2,
   "id": "8315a992",
   "metadata": {
    "execution": {
     "iopub.execute_input": "2024-11-15T04:22:18.991569Z",
     "iopub.status.busy": "2024-11-15T04:22:18.991141Z",
     "iopub.status.idle": "2024-11-15T04:22:19.246953Z",
     "shell.execute_reply": "2024-11-15T04:22:19.246005Z"
    },
    "papermill": {
     "duration": 0.266849,
     "end_time": "2024-11-15T04:22:19.249992",
     "exception": false,
     "start_time": "2024-11-15T04:22:18.983143",
     "status": "completed"
    },
    "tags": []
   },
   "outputs": [
    {
     "name": "stdout",
     "output_type": "stream",
     "text": [
      "Train data\n",
      "        id  sales\n",
      "0  3000888    0.0\n",
      "1  3000889    0.0\n",
      "2  3000890    0.0\n",
      "3  3000891    0.0\n",
      "4  3000892    0.0\n",
      "<class 'pandas.core.frame.DataFrame'>\n",
      "RangeIndex: 28512 entries, 0 to 28511\n",
      "Data columns (total 2 columns):\n",
      " #   Column  Non-Null Count  Dtype  \n",
      "---  ------  --------------  -----  \n",
      " 0   id      28512 non-null  int64  \n",
      " 1   sales   28512 non-null  float64\n",
      "dtypes: float64(1), int64(1)\n",
      "memory usage: 445.6 KB\n",
      "None\n",
      "\n",
      "Test data\n",
      "        id        date  store_nbr      family  onpromotion\n",
      "0  3000888  2017-08-16          1  AUTOMOTIVE            0\n",
      "1  3000889  2017-08-16          1   BABY CARE            0\n",
      "2  3000890  2017-08-16          1      BEAUTY            2\n",
      "3  3000891  2017-08-16          1   BEVERAGES           20\n",
      "4  3000892  2017-08-16          1       BOOKS            0\n",
      "<class 'pandas.core.frame.DataFrame'>\n",
      "RangeIndex: 28512 entries, 0 to 28511\n",
      "Data columns (total 5 columns):\n",
      " #   Column       Non-Null Count  Dtype \n",
      "---  ------       --------------  ----- \n",
      " 0   id           28512 non-null  int64 \n",
      " 1   date         28512 non-null  object\n",
      " 2   store_nbr    28512 non-null  int64 \n",
      " 3   family       28512 non-null  object\n",
      " 4   onpromotion  28512 non-null  int64 \n",
      "dtypes: int64(3), object(2)\n",
      "memory usage: 1.1+ MB\n",
      "None\n",
      "\n",
      "Holidays data\n",
      "         date     type    locale locale_name                    description  \\\n",
      "0  2012-03-02  Holiday     Local       Manta             Fundacion de Manta   \n",
      "1  2012-04-01  Holiday  Regional    Cotopaxi  Provincializacion de Cotopaxi   \n",
      "2  2012-04-12  Holiday     Local      Cuenca            Fundacion de Cuenca   \n",
      "3  2012-04-14  Holiday     Local    Libertad      Cantonizacion de Libertad   \n",
      "4  2012-04-21  Holiday     Local    Riobamba      Cantonizacion de Riobamba   \n",
      "\n",
      "   transferred  \n",
      "0        False  \n",
      "1        False  \n",
      "2        False  \n",
      "3        False  \n",
      "4        False  \n",
      "<class 'pandas.core.frame.DataFrame'>\n",
      "RangeIndex: 350 entries, 0 to 349\n",
      "Data columns (total 6 columns):\n",
      " #   Column       Non-Null Count  Dtype \n",
      "---  ------       --------------  ----- \n",
      " 0   date         350 non-null    object\n",
      " 1   type         350 non-null    object\n",
      " 2   locale       350 non-null    object\n",
      " 3   locale_name  350 non-null    object\n",
      " 4   description  350 non-null    object\n",
      " 5   transferred  350 non-null    bool  \n",
      "dtypes: bool(1), object(5)\n",
      "memory usage: 14.1+ KB\n",
      "None\n",
      "\n",
      "Store data\n",
      "   store_nbr           city                           state type  cluster\n",
      "0          1          Quito                       Pichincha    D       13\n",
      "1          2          Quito                       Pichincha    D       13\n",
      "2          3          Quito                       Pichincha    D        8\n",
      "3          4          Quito                       Pichincha    D        9\n",
      "4          5  Santo Domingo  Santo Domingo de los Tsachilas    D        4\n",
      "<class 'pandas.core.frame.DataFrame'>\n",
      "RangeIndex: 54 entries, 0 to 53\n",
      "Data columns (total 5 columns):\n",
      " #   Column     Non-Null Count  Dtype \n",
      "---  ------     --------------  ----- \n",
      " 0   store_nbr  54 non-null     int64 \n",
      " 1   city       54 non-null     object\n",
      " 2   state      54 non-null     object\n",
      " 3   type       54 non-null     object\n",
      " 4   cluster    54 non-null     int64 \n",
      "dtypes: int64(2), object(3)\n",
      "memory usage: 2.2+ KB\n",
      "None\n",
      "\n",
      "Transactions data\n",
      "         date  store_nbr  transactions\n",
      "0  2013-01-01         25           770\n",
      "1  2013-01-02          1          2111\n",
      "2  2013-01-02          2          2358\n",
      "3  2013-01-02          3          3487\n",
      "4  2013-01-02          4          1922\n",
      "<class 'pandas.core.frame.DataFrame'>\n",
      "RangeIndex: 83488 entries, 0 to 83487\n",
      "Data columns (total 3 columns):\n",
      " #   Column        Non-Null Count  Dtype \n",
      "---  ------        --------------  ----- \n",
      " 0   date          83488 non-null  object\n",
      " 1   store_nbr     83488 non-null  int64 \n",
      " 2   transactions  83488 non-null  int64 \n",
      "dtypes: int64(2), object(1)\n",
      "memory usage: 1.9+ MB\n",
      "None\n",
      "\n",
      "Oil data\n",
      "         date  dcoilwtico\n",
      "0  2013-01-01         NaN\n",
      "1  2013-01-02       93.14\n",
      "2  2013-01-03       92.97\n",
      "3  2013-01-04       93.12\n",
      "4  2013-01-07       93.20\n",
      "<class 'pandas.core.frame.DataFrame'>\n",
      "RangeIndex: 1218 entries, 0 to 1217\n",
      "Data columns (total 2 columns):\n",
      " #   Column      Non-Null Count  Dtype  \n",
      "---  ------      --------------  -----  \n",
      " 0   date        1218 non-null   object \n",
      " 1   dcoilwtico  1175 non-null   float64\n",
      "dtypes: float64(1), object(1)\n",
      "memory usage: 19.2+ KB\n",
      "None\n"
     ]
    }
   ],
   "source": [
    "import pandas as pd \n",
    "train = pd.read_csv('/kaggle/input/store-sales-time-series-forecasting/sample_submission.csv')\n",
    "test = pd.read_csv('/kaggle/input/store-sales-time-series-forecasting/test.csv')\n",
    "holidays = pd.read_csv('/kaggle/input/store-sales-time-series-forecasting/holidays_events.csv')\n",
    "stores = pd.read_csv('/kaggle/input/store-sales-time-series-forecasting/stores.csv')\n",
    "transactions = pd.read_csv('/kaggle/input/store-sales-time-series-forecasting/transactions.csv')\n",
    "oil = pd.read_csv('/kaggle/input/store-sales-time-series-forecasting/oil.csv')\n",
    "\n",
    "print(\"Train data\")\n",
    "print(train.head())\n",
    "print(train.info())\n",
    "\n",
    "print('\\nTest data')\n",
    "print(test.head())\n",
    "print(test.info())\n",
    "\n",
    "print('\\nHolidays data')\n",
    "print(holidays.head())\n",
    "print(holidays.info())\n",
    "\n",
    "print('\\nStore data')\n",
    "print(stores.head())\n",
    "print(stores.info())\n",
    "\n",
    "print('\\nTransactions data')\n",
    "print(transactions.head())\n",
    "print(transactions.info())\n",
    "\n",
    "print('\\nOil data')\n",
    "print(oil.head())\n",
    "print(oil.info())"
   ]
  },
  {
   "cell_type": "code",
   "execution_count": 3,
   "id": "f406fb75",
   "metadata": {
    "execution": {
     "iopub.execute_input": "2024-11-15T04:22:19.266330Z",
     "iopub.status.busy": "2024-11-15T04:22:19.266044Z",
     "iopub.status.idle": "2024-11-15T04:22:19.272932Z",
     "shell.execute_reply": "2024-11-15T04:22:19.271905Z"
    },
    "papermill": {
     "duration": 0.017175,
     "end_time": "2024-11-15T04:22:19.274886",
     "exception": false,
     "start_time": "2024-11-15T04:22:19.257711",
     "status": "completed"
    },
    "tags": []
   },
   "outputs": [
    {
     "data": {
      "text/plain": [
       "Index(['id', 'sales'], dtype='object')"
      ]
     },
     "execution_count": 3,
     "metadata": {},
     "output_type": "execute_result"
    }
   ],
   "source": [
    "train.columns"
   ]
  },
  {
   "cell_type": "code",
   "execution_count": 4,
   "id": "b566927a",
   "metadata": {
    "execution": {
     "iopub.execute_input": "2024-11-15T04:22:19.292909Z",
     "iopub.status.busy": "2024-11-15T04:22:19.292548Z",
     "iopub.status.idle": "2024-11-15T04:22:19.299861Z",
     "shell.execute_reply": "2024-11-15T04:22:19.298953Z"
    },
    "papermill": {
     "duration": 0.01855,
     "end_time": "2024-11-15T04:22:19.302009",
     "exception": false,
     "start_time": "2024-11-15T04:22:19.283459",
     "status": "completed"
    },
    "tags": []
   },
   "outputs": [
    {
     "data": {
      "text/plain": [
       "id       0\n",
       "sales    0\n",
       "dtype: int64"
      ]
     },
     "execution_count": 4,
     "metadata": {},
     "output_type": "execute_result"
    }
   ],
   "source": [
    "train.isna().sum()"
   ]
  },
  {
   "cell_type": "code",
   "execution_count": 5,
   "id": "3865b886",
   "metadata": {
    "execution": {
     "iopub.execute_input": "2024-11-15T04:22:19.318425Z",
     "iopub.status.busy": "2024-11-15T04:22:19.318111Z",
     "iopub.status.idle": "2024-11-15T04:22:19.325059Z",
     "shell.execute_reply": "2024-11-15T04:22:19.324165Z"
    },
    "papermill": {
     "duration": 0.017318,
     "end_time": "2024-11-15T04:22:19.327017",
     "exception": false,
     "start_time": "2024-11-15T04:22:19.309699",
     "status": "completed"
    },
    "tags": []
   },
   "outputs": [
    {
     "data": {
      "text/plain": [
       "date           0\n",
       "dcoilwtico    43\n",
       "dtype: int64"
      ]
     },
     "execution_count": 5,
     "metadata": {},
     "output_type": "execute_result"
    }
   ],
   "source": [
    "oil.isna().sum()"
   ]
  },
  {
   "cell_type": "code",
   "execution_count": 6,
   "id": "2254eeed",
   "metadata": {
    "execution": {
     "iopub.execute_input": "2024-11-15T04:22:19.343250Z",
     "iopub.status.busy": "2024-11-15T04:22:19.342971Z",
     "iopub.status.idle": "2024-11-15T04:22:19.363609Z",
     "shell.execute_reply": "2024-11-15T04:22:19.362784Z"
    },
    "papermill": {
     "duration": 0.030763,
     "end_time": "2024-11-15T04:22:19.365391",
     "exception": false,
     "start_time": "2024-11-15T04:22:19.334628",
     "status": "completed"
    },
    "tags": []
   },
   "outputs": [
    {
     "data": {
      "text/plain": [
       "date          0\n",
       "dcoilwtico    0\n",
       "dtype: int64"
      ]
     },
     "execution_count": 6,
     "metadata": {},
     "output_type": "execute_result"
    }
   ],
   "source": [
    "oil['date'] = pd.to_datetime(oil['date']) \n",
    "oil = oil.sort_values(by='date') \n",
    "# Forward fill as an alternative to interpolation\n",
    "oil['dcoilwtico'] = oil['dcoilwtico'].ffill()\n",
    "oil['dcoilwtico'] = oil['dcoilwtico'].bfill()\n",
    "oil.isna().sum()"
   ]
  },
  {
   "cell_type": "code",
   "execution_count": 7,
   "id": "7f1ae365",
   "metadata": {
    "execution": {
     "iopub.execute_input": "2024-11-15T04:22:19.382037Z",
     "iopub.status.busy": "2024-11-15T04:22:19.381402Z",
     "iopub.status.idle": "2024-11-15T04:22:19.387071Z",
     "shell.execute_reply": "2024-11-15T04:22:19.386277Z"
    },
    "papermill": {
     "duration": 0.015855,
     "end_time": "2024-11-15T04:22:19.388925",
     "exception": false,
     "start_time": "2024-11-15T04:22:19.373070",
     "status": "completed"
    },
    "tags": []
   },
   "outputs": [
    {
     "data": {
      "text/plain": [
       "Index(['date', 'type', 'locale', 'locale_name', 'description', 'transferred'], dtype='object')"
      ]
     },
     "execution_count": 7,
     "metadata": {},
     "output_type": "execute_result"
    }
   ],
   "source": [
    "holidays.columns"
   ]
  },
  {
   "cell_type": "code",
   "execution_count": 8,
   "id": "2afe5133",
   "metadata": {
    "execution": {
     "iopub.execute_input": "2024-11-15T04:22:19.405921Z",
     "iopub.status.busy": "2024-11-15T04:22:19.405664Z",
     "iopub.status.idle": "2024-11-15T04:22:19.413592Z",
     "shell.execute_reply": "2024-11-15T04:22:19.412769Z"
    },
    "papermill": {
     "duration": 0.018239,
     "end_time": "2024-11-15T04:22:19.415353",
     "exception": false,
     "start_time": "2024-11-15T04:22:19.397114",
     "status": "completed"
    },
    "tags": []
   },
   "outputs": [],
   "source": [
    "holidays['date'] = pd.to_datetime(holidays['date'])\n",
    "holidays = holidays.sort_values(by='date')\n",
    "\n"
   ]
  },
  {
   "cell_type": "code",
   "execution_count": 9,
   "id": "4bf268e4",
   "metadata": {
    "execution": {
     "iopub.execute_input": "2024-11-15T04:22:19.431925Z",
     "iopub.status.busy": "2024-11-15T04:22:19.431381Z",
     "iopub.status.idle": "2024-11-15T04:22:19.436823Z",
     "shell.execute_reply": "2024-11-15T04:22:19.435983Z"
    },
    "papermill": {
     "duration": 0.015557,
     "end_time": "2024-11-15T04:22:19.438657",
     "exception": false,
     "start_time": "2024-11-15T04:22:19.423100",
     "status": "completed"
    },
    "tags": []
   },
   "outputs": [
    {
     "data": {
      "text/plain": [
       "Index(['date', 'store_nbr', 'transactions'], dtype='object')"
      ]
     },
     "execution_count": 9,
     "metadata": {},
     "output_type": "execute_result"
    }
   ],
   "source": [
    "transactions.columns"
   ]
  },
  {
   "cell_type": "code",
   "execution_count": 10,
   "id": "6552d10d",
   "metadata": {
    "execution": {
     "iopub.execute_input": "2024-11-15T04:22:19.455881Z",
     "iopub.status.busy": "2024-11-15T04:22:19.455327Z",
     "iopub.status.idle": "2024-11-15T04:22:19.479221Z",
     "shell.execute_reply": "2024-11-15T04:22:19.478477Z"
    },
    "papermill": {
     "duration": 0.034895,
     "end_time": "2024-11-15T04:22:19.481451",
     "exception": false,
     "start_time": "2024-11-15T04:22:19.446556",
     "status": "completed"
    },
    "tags": []
   },
   "outputs": [],
   "source": [
    "transactions['date'] = pd.to_datetime(transactions['date'])\n",
    "transactions = transactions.sort_values(by='date')"
   ]
  },
  {
   "cell_type": "code",
   "execution_count": 11,
   "id": "64fe2416",
   "metadata": {
    "execution": {
     "iopub.execute_input": "2024-11-15T04:22:19.500305Z",
     "iopub.status.busy": "2024-11-15T04:22:19.499825Z",
     "iopub.status.idle": "2024-11-15T04:22:19.516680Z",
     "shell.execute_reply": "2024-11-15T04:22:19.515748Z"
    },
    "papermill": {
     "duration": 0.028297,
     "end_time": "2024-11-15T04:22:19.518740",
     "exception": false,
     "start_time": "2024-11-15T04:22:19.490443",
     "status": "completed"
    },
    "tags": []
   },
   "outputs": [
    {
     "name": "stdout",
     "output_type": "stream",
     "text": [
      "<class 'pandas.core.frame.DataFrame'>\n",
      "RangeIndex: 28512 entries, 0 to 28511\n",
      "Data columns (total 2 columns):\n",
      " #   Column  Non-Null Count  Dtype  \n",
      "---  ------  --------------  -----  \n",
      " 0   id      28512 non-null  int64  \n",
      " 1   sales   28512 non-null  float64\n",
      "dtypes: float64(1), int64(1)\n",
      "memory usage: 445.6 KB\n"
     ]
    },
    {
     "data": {
      "text/html": [
       "<div>\n",
       "<style scoped>\n",
       "    .dataframe tbody tr th:only-of-type {\n",
       "        vertical-align: middle;\n",
       "    }\n",
       "\n",
       "    .dataframe tbody tr th {\n",
       "        vertical-align: top;\n",
       "    }\n",
       "\n",
       "    .dataframe thead th {\n",
       "        text-align: right;\n",
       "    }\n",
       "</style>\n",
       "<table border=\"1\" class=\"dataframe\">\n",
       "  <thead>\n",
       "    <tr style=\"text-align: right;\">\n",
       "      <th></th>\n",
       "      <th>id</th>\n",
       "      <th>sales</th>\n",
       "    </tr>\n",
       "  </thead>\n",
       "  <tbody>\n",
       "    <tr>\n",
       "      <th>0</th>\n",
       "      <td>3000888</td>\n",
       "      <td>0.0</td>\n",
       "    </tr>\n",
       "    <tr>\n",
       "      <th>1</th>\n",
       "      <td>3000889</td>\n",
       "      <td>0.0</td>\n",
       "    </tr>\n",
       "    <tr>\n",
       "      <th>2</th>\n",
       "      <td>3000890</td>\n",
       "      <td>0.0</td>\n",
       "    </tr>\n",
       "    <tr>\n",
       "      <th>3</th>\n",
       "      <td>3000891</td>\n",
       "      <td>0.0</td>\n",
       "    </tr>\n",
       "    <tr>\n",
       "      <th>4</th>\n",
       "      <td>3000892</td>\n",
       "      <td>0.0</td>\n",
       "    </tr>\n",
       "  </tbody>\n",
       "</table>\n",
       "</div>"
      ],
      "text/plain": [
       "        id  sales\n",
       "0  3000888    0.0\n",
       "1  3000889    0.0\n",
       "2  3000890    0.0\n",
       "3  3000891    0.0\n",
       "4  3000892    0.0"
      ]
     },
     "execution_count": 11,
     "metadata": {},
     "output_type": "execute_result"
    }
   ],
   "source": [
    "train.info()\n",
    "train.head()"
   ]
  },
  {
   "cell_type": "markdown",
   "id": "475094fb",
   "metadata": {
    "papermill": {
     "duration": 0.007916,
     "end_time": "2024-11-15T04:22:19.534964",
     "exception": false,
     "start_time": "2024-11-15T04:22:19.527048",
     "status": "completed"
    },
    "tags": []
   },
   "source": [
    "adding a date column in the train dataset"
   ]
  },
  {
   "cell_type": "code",
   "execution_count": 12,
   "id": "66a0ac47",
   "metadata": {
    "execution": {
     "iopub.execute_input": "2024-11-15T04:22:19.552585Z",
     "iopub.status.busy": "2024-11-15T04:22:19.552237Z",
     "iopub.status.idle": "2024-11-15T04:22:19.560309Z",
     "shell.execute_reply": "2024-11-15T04:22:19.559512Z"
    },
    "papermill": {
     "duration": 0.018909,
     "end_time": "2024-11-15T04:22:19.562244",
     "exception": false,
     "start_time": "2024-11-15T04:22:19.543335",
     "status": "completed"
    },
    "tags": []
   },
   "outputs": [
    {
     "name": "stdout",
     "output_type": "stream",
     "text": [
      "3000888 3029399\n",
      "[nan  1.]\n"
     ]
    }
   ],
   "source": [
    "print(train['id'].min(),train['id'].max())\n",
    "print(train['id'].diff().unique())"
   ]
  },
  {
   "cell_type": "markdown",
   "id": "2914f37e",
   "metadata": {
    "papermill": {
     "duration": 0.008108,
     "end_time": "2024-11-15T04:22:19.578682",
     "exception": false,
     "start_time": "2024-11-15T04:22:19.570574",
     "status": "completed"
    },
    "tags": []
   },
   "source": []
  },
  {
   "cell_type": "code",
   "execution_count": 13,
   "id": "4206a058",
   "metadata": {
    "execution": {
     "iopub.execute_input": "2024-11-15T04:22:19.596955Z",
     "iopub.status.busy": "2024-11-15T04:22:19.596685Z",
     "iopub.status.idle": "2024-11-15T04:22:19.610969Z",
     "shell.execute_reply": "2024-11-15T04:22:19.610304Z"
    },
    "papermill": {
     "duration": 0.025783,
     "end_time": "2024-11-15T04:22:19.613046",
     "exception": false,
     "start_time": "2024-11-15T04:22:19.587263",
     "status": "completed"
    },
    "tags": []
   },
   "outputs": [],
   "source": [
    "start_date = transactions['date'].min()\n",
    "train['date'] = pd.date_range(start=start_date,periods=len(train),freq='D')"
   ]
  },
  {
   "cell_type": "code",
   "execution_count": 14,
   "id": "2d26905f",
   "metadata": {
    "execution": {
     "iopub.execute_input": "2024-11-15T04:22:19.630515Z",
     "iopub.status.busy": "2024-11-15T04:22:19.630214Z",
     "iopub.status.idle": "2024-11-15T04:22:19.650972Z",
     "shell.execute_reply": "2024-11-15T04:22:19.650253Z"
    },
    "papermill": {
     "duration": 0.031824,
     "end_time": "2024-11-15T04:22:19.653066",
     "exception": false,
     "start_time": "2024-11-15T04:22:19.621242",
     "status": "completed"
    },
    "tags": []
   },
   "outputs": [],
   "source": [
    "train = train.merge(holidays[['date','type','locale','locale_name','description','transferred']],\n",
    "                   on='date',\n",
    "                   how='left')"
   ]
  },
  {
   "cell_type": "code",
   "execution_count": 15,
   "id": "67e4d0d3",
   "metadata": {
    "execution": {
     "iopub.execute_input": "2024-11-15T04:22:19.670980Z",
     "iopub.status.busy": "2024-11-15T04:22:19.670705Z",
     "iopub.status.idle": "2024-11-15T04:22:19.702074Z",
     "shell.execute_reply": "2024-11-15T04:22:19.701232Z"
    },
    "papermill": {
     "duration": 0.042923,
     "end_time": "2024-11-15T04:22:19.704430",
     "exception": false,
     "start_time": "2024-11-15T04:22:19.661507",
     "status": "completed"
    },
    "tags": []
   },
   "outputs": [],
   "source": [
    "train['store_nbr'] = 1\n",
    "train = train.merge(transactions[['date','store_nbr','transactions']],on=['date','store_nbr'],how='left')"
   ]
  },
  {
   "cell_type": "markdown",
   "id": "c98108d3",
   "metadata": {
    "papermill": {
     "duration": 0.007898,
     "end_time": "2024-11-15T04:22:19.720843",
     "exception": false,
     "start_time": "2024-11-15T04:22:19.712945",
     "status": "completed"
    },
    "tags": []
   },
   "source": [
    " **Feature Engineering**"
   ]
  },
  {
   "cell_type": "markdown",
   "id": "aabe1c46",
   "metadata": {
    "papermill": {
     "duration": 0.008171,
     "end_time": "2024-11-15T04:22:19.737235",
     "exception": false,
     "start_time": "2024-11-15T04:22:19.729064",
     "status": "completed"
    },
    "tags": []
   },
   "source": [
    "Creating date based features"
   ]
  },
  {
   "cell_type": "code",
   "execution_count": 16,
   "id": "c6e8822e",
   "metadata": {
    "execution": {
     "iopub.execute_input": "2024-11-15T04:22:19.754937Z",
     "iopub.status.busy": "2024-11-15T04:22:19.754648Z",
     "iopub.status.idle": "2024-11-15T04:22:19.780136Z",
     "shell.execute_reply": "2024-11-15T04:22:19.779318Z"
    },
    "papermill": {
     "duration": 0.036661,
     "end_time": "2024-11-15T04:22:19.782192",
     "exception": false,
     "start_time": "2024-11-15T04:22:19.745531",
     "status": "completed"
    },
    "tags": []
   },
   "outputs": [
    {
     "data": {
      "text/html": [
       "<div>\n",
       "<style scoped>\n",
       "    .dataframe tbody tr th:only-of-type {\n",
       "        vertical-align: middle;\n",
       "    }\n",
       "\n",
       "    .dataframe tbody tr th {\n",
       "        vertical-align: top;\n",
       "    }\n",
       "\n",
       "    .dataframe thead th {\n",
       "        text-align: right;\n",
       "    }\n",
       "</style>\n",
       "<table border=\"1\" class=\"dataframe\">\n",
       "  <thead>\n",
       "    <tr style=\"text-align: right;\">\n",
       "      <th></th>\n",
       "      <th>id</th>\n",
       "      <th>sales</th>\n",
       "      <th>date</th>\n",
       "      <th>type</th>\n",
       "      <th>locale</th>\n",
       "      <th>locale_name</th>\n",
       "      <th>description</th>\n",
       "      <th>transferred</th>\n",
       "      <th>store_nbr</th>\n",
       "      <th>transactions</th>\n",
       "      <th>day_of_week</th>\n",
       "      <th>month</th>\n",
       "      <th>quarter</th>\n",
       "      <th>year</th>\n",
       "      <th>is_weekend</th>\n",
       "    </tr>\n",
       "  </thead>\n",
       "  <tbody>\n",
       "    <tr>\n",
       "      <th>0</th>\n",
       "      <td>3000888</td>\n",
       "      <td>0.0</td>\n",
       "      <td>2013-01-01</td>\n",
       "      <td>Holiday</td>\n",
       "      <td>National</td>\n",
       "      <td>Ecuador</td>\n",
       "      <td>Primer dia del ano</td>\n",
       "      <td>False</td>\n",
       "      <td>1</td>\n",
       "      <td>NaN</td>\n",
       "      <td>1</td>\n",
       "      <td>1</td>\n",
       "      <td>1</td>\n",
       "      <td>2013</td>\n",
       "      <td>False</td>\n",
       "    </tr>\n",
       "    <tr>\n",
       "      <th>1</th>\n",
       "      <td>3000889</td>\n",
       "      <td>0.0</td>\n",
       "      <td>2013-01-02</td>\n",
       "      <td>NaN</td>\n",
       "      <td>NaN</td>\n",
       "      <td>NaN</td>\n",
       "      <td>NaN</td>\n",
       "      <td>NaN</td>\n",
       "      <td>1</td>\n",
       "      <td>2111.0</td>\n",
       "      <td>2</td>\n",
       "      <td>1</td>\n",
       "      <td>1</td>\n",
       "      <td>2013</td>\n",
       "      <td>False</td>\n",
       "    </tr>\n",
       "    <tr>\n",
       "      <th>2</th>\n",
       "      <td>3000890</td>\n",
       "      <td>0.0</td>\n",
       "      <td>2013-01-03</td>\n",
       "      <td>NaN</td>\n",
       "      <td>NaN</td>\n",
       "      <td>NaN</td>\n",
       "      <td>NaN</td>\n",
       "      <td>NaN</td>\n",
       "      <td>1</td>\n",
       "      <td>1833.0</td>\n",
       "      <td>3</td>\n",
       "      <td>1</td>\n",
       "      <td>1</td>\n",
       "      <td>2013</td>\n",
       "      <td>False</td>\n",
       "    </tr>\n",
       "    <tr>\n",
       "      <th>3</th>\n",
       "      <td>3000891</td>\n",
       "      <td>0.0</td>\n",
       "      <td>2013-01-04</td>\n",
       "      <td>NaN</td>\n",
       "      <td>NaN</td>\n",
       "      <td>NaN</td>\n",
       "      <td>NaN</td>\n",
       "      <td>NaN</td>\n",
       "      <td>1</td>\n",
       "      <td>1863.0</td>\n",
       "      <td>4</td>\n",
       "      <td>1</td>\n",
       "      <td>1</td>\n",
       "      <td>2013</td>\n",
       "      <td>False</td>\n",
       "    </tr>\n",
       "    <tr>\n",
       "      <th>4</th>\n",
       "      <td>3000892</td>\n",
       "      <td>0.0</td>\n",
       "      <td>2013-01-05</td>\n",
       "      <td>Work Day</td>\n",
       "      <td>National</td>\n",
       "      <td>Ecuador</td>\n",
       "      <td>Recupero puente Navidad</td>\n",
       "      <td>False</td>\n",
       "      <td>1</td>\n",
       "      <td>1509.0</td>\n",
       "      <td>5</td>\n",
       "      <td>1</td>\n",
       "      <td>1</td>\n",
       "      <td>2013</td>\n",
       "      <td>True</td>\n",
       "    </tr>\n",
       "  </tbody>\n",
       "</table>\n",
       "</div>"
      ],
      "text/plain": [
       "        id  sales       date      type    locale locale_name  \\\n",
       "0  3000888    0.0 2013-01-01   Holiday  National     Ecuador   \n",
       "1  3000889    0.0 2013-01-02       NaN       NaN         NaN   \n",
       "2  3000890    0.0 2013-01-03       NaN       NaN         NaN   \n",
       "3  3000891    0.0 2013-01-04       NaN       NaN         NaN   \n",
       "4  3000892    0.0 2013-01-05  Work Day  National     Ecuador   \n",
       "\n",
       "               description transferred  store_nbr  transactions  day_of_week  \\\n",
       "0       Primer dia del ano       False          1           NaN            1   \n",
       "1                      NaN         NaN          1        2111.0            2   \n",
       "2                      NaN         NaN          1        1833.0            3   \n",
       "3                      NaN         NaN          1        1863.0            4   \n",
       "4  Recupero puente Navidad       False          1        1509.0            5   \n",
       "\n",
       "   month  quarter  year  is_weekend  \n",
       "0      1        1  2013       False  \n",
       "1      1        1  2013       False  \n",
       "2      1        1  2013       False  \n",
       "3      1        1  2013       False  \n",
       "4      1        1  2013        True  "
      ]
     },
     "execution_count": 16,
     "metadata": {},
     "output_type": "execute_result"
    }
   ],
   "source": [
    "train['day_of_week'] = train['date'].dt.dayofweek\n",
    "train['month'] = train['date'].dt.month\n",
    "train['quarter'] = train['date'].dt.quarter\n",
    "train['year'] = train['date'].dt.year\n",
    "train['is_weekend'] = train['date'].dt.dayofweek >=5\n",
    "train.head()"
   ]
  },
  {
   "cell_type": "code",
   "execution_count": 17,
   "id": "7fb0e91c",
   "metadata": {
    "execution": {
     "iopub.execute_input": "2024-11-15T04:22:19.800494Z",
     "iopub.status.busy": "2024-11-15T04:22:19.800185Z",
     "iopub.status.idle": "2024-11-15T04:22:19.812619Z",
     "shell.execute_reply": "2024-11-15T04:22:19.811701Z"
    },
    "papermill": {
     "duration": 0.023697,
     "end_time": "2024-11-15T04:22:19.814411",
     "exception": false,
     "start_time": "2024-11-15T04:22:19.790714",
     "status": "completed"
    },
    "tags": []
   },
   "outputs": [
    {
     "data": {
      "text/plain": [
       "id                  0\n",
       "sales               0\n",
       "date                0\n",
       "type            28235\n",
       "locale          28235\n",
       "locale_name     28235\n",
       "description     28235\n",
       "transferred     28235\n",
       "store_nbr           0\n",
       "transactions    26838\n",
       "day_of_week         0\n",
       "month               0\n",
       "quarter             0\n",
       "year                0\n",
       "is_weekend          0\n",
       "dtype: int64"
      ]
     },
     "execution_count": 17,
     "metadata": {},
     "output_type": "execute_result"
    }
   ],
   "source": [
    "train.isna().sum()"
   ]
  },
  {
   "cell_type": "code",
   "execution_count": 18,
   "id": "9535b554",
   "metadata": {
    "execution": {
     "iopub.execute_input": "2024-11-15T04:22:19.832938Z",
     "iopub.status.busy": "2024-11-15T04:22:19.832596Z",
     "iopub.status.idle": "2024-11-15T04:22:19.850872Z",
     "shell.execute_reply": "2024-11-15T04:22:19.850173Z"
    },
    "papermill": {
     "duration": 0.029809,
     "end_time": "2024-11-15T04:22:19.852945",
     "exception": false,
     "start_time": "2024-11-15T04:22:19.823136",
     "status": "completed"
    },
    "tags": []
   },
   "outputs": [],
   "source": [
    "train['locale']=train['locale'].ffill()\n",
    "train['locale_name'] = train['locale_name'].ffill()\n",
    "train['description'] = train['description'].ffill()\n",
    "\n"
   ]
  },
  {
   "cell_type": "code",
   "execution_count": 19,
   "id": "8b8f796b",
   "metadata": {
    "execution": {
     "iopub.execute_input": "2024-11-15T04:22:19.871431Z",
     "iopub.status.busy": "2024-11-15T04:22:19.871166Z",
     "iopub.status.idle": "2024-11-15T04:22:19.885321Z",
     "shell.execute_reply": "2024-11-15T04:22:19.884469Z"
    },
    "papermill": {
     "duration": 0.025644,
     "end_time": "2024-11-15T04:22:19.887222",
     "exception": false,
     "start_time": "2024-11-15T04:22:19.861578",
     "status": "completed"
    },
    "tags": []
   },
   "outputs": [
    {
     "name": "stderr",
     "output_type": "stream",
     "text": [
      "/tmp/ipykernel_23/297256371.py:1: FutureWarning: Downcasting object dtype arrays on .fillna, .ffill, .bfill is deprecated and will change in a future version. Call result.infer_objects(copy=False) instead. To opt-in to the future behavior, set `pd.set_option('future.no_silent_downcasting', True)`\n",
      "  train['transferred'].ffill()\n"
     ]
    },
    {
     "data": {
      "text/plain": [
       "0        False\n",
       "1        False\n",
       "2        False\n",
       "3        False\n",
       "4        False\n",
       "         ...  \n",
       "28539    False\n",
       "28540    False\n",
       "28541    False\n",
       "28542    False\n",
       "28543    False\n",
       "Name: transferred, Length: 28544, dtype: bool"
      ]
     },
     "execution_count": 19,
     "metadata": {},
     "output_type": "execute_result"
    }
   ],
   "source": [
    "train['transferred'].ffill()"
   ]
  },
  {
   "cell_type": "code",
   "execution_count": 20,
   "id": "89969045",
   "metadata": {
    "execution": {
     "iopub.execute_input": "2024-11-15T04:22:19.906172Z",
     "iopub.status.busy": "2024-11-15T04:22:19.905904Z",
     "iopub.status.idle": "2024-11-15T04:22:19.924430Z",
     "shell.execute_reply": "2024-11-15T04:22:19.923590Z"
    },
    "papermill": {
     "duration": 0.030395,
     "end_time": "2024-11-15T04:22:19.926535",
     "exception": false,
     "start_time": "2024-11-15T04:22:19.896140",
     "status": "completed"
    },
    "tags": []
   },
   "outputs": [
    {
     "data": {
      "text/plain": [
       "id                  0\n",
       "sales               0\n",
       "date                0\n",
       "type            28235\n",
       "locale              0\n",
       "locale_name         0\n",
       "description         0\n",
       "transferred     28235\n",
       "store_nbr           0\n",
       "transactions    26838\n",
       "day_of_week         0\n",
       "month               0\n",
       "quarter             0\n",
       "year                0\n",
       "is_weekend          0\n",
       "dtype: int64"
      ]
     },
     "execution_count": 20,
     "metadata": {},
     "output_type": "execute_result"
    }
   ],
   "source": [
    "train.isna().sum()"
   ]
  },
  {
   "cell_type": "code",
   "execution_count": 21,
   "id": "24b85b71",
   "metadata": {
    "execution": {
     "iopub.execute_input": "2024-11-15T04:22:19.946209Z",
     "iopub.status.busy": "2024-11-15T04:22:19.945752Z",
     "iopub.status.idle": "2024-11-15T04:22:19.959356Z",
     "shell.execute_reply": "2024-11-15T04:22:19.958291Z"
    },
    "papermill": {
     "duration": 0.025157,
     "end_time": "2024-11-15T04:22:19.961222",
     "exception": false,
     "start_time": "2024-11-15T04:22:19.936065",
     "status": "completed"
    },
    "tags": []
   },
   "outputs": [
    {
     "name": "stderr",
     "output_type": "stream",
     "text": [
      "/tmp/ipykernel_23/297256371.py:1: FutureWarning: Downcasting object dtype arrays on .fillna, .ffill, .bfill is deprecated and will change in a future version. Call result.infer_objects(copy=False) instead. To opt-in to the future behavior, set `pd.set_option('future.no_silent_downcasting', True)`\n",
      "  train['transferred'].ffill()\n"
     ]
    },
    {
     "data": {
      "text/plain": [
       "0        False\n",
       "1        False\n",
       "2        False\n",
       "3        False\n",
       "4        False\n",
       "         ...  \n",
       "28539    False\n",
       "28540    False\n",
       "28541    False\n",
       "28542    False\n",
       "28543    False\n",
       "Name: transferred, Length: 28544, dtype: bool"
      ]
     },
     "execution_count": 21,
     "metadata": {},
     "output_type": "execute_result"
    }
   ],
   "source": [
    "train['transferred'].ffill()"
   ]
  },
  {
   "cell_type": "code",
   "execution_count": 22,
   "id": "0e254c16",
   "metadata": {
    "execution": {
     "iopub.execute_input": "2024-11-15T04:22:19.980824Z",
     "iopub.status.busy": "2024-11-15T04:22:19.980546Z",
     "iopub.status.idle": "2024-11-15T04:22:19.998174Z",
     "shell.execute_reply": "2024-11-15T04:22:19.997300Z"
    },
    "papermill": {
     "duration": 0.029587,
     "end_time": "2024-11-15T04:22:19.999998",
     "exception": false,
     "start_time": "2024-11-15T04:22:19.970411",
     "status": "completed"
    },
    "tags": []
   },
   "outputs": [
    {
     "data": {
      "text/plain": [
       "id                  0\n",
       "sales               0\n",
       "date                0\n",
       "type            28235\n",
       "locale              0\n",
       "locale_name         0\n",
       "description         0\n",
       "transferred     28235\n",
       "store_nbr           0\n",
       "transactions    26838\n",
       "day_of_week         0\n",
       "month               0\n",
       "quarter             0\n",
       "year                0\n",
       "is_weekend          0\n",
       "dtype: int64"
      ]
     },
     "execution_count": 22,
     "metadata": {},
     "output_type": "execute_result"
    }
   ],
   "source": [
    "train.isna().sum()"
   ]
  }
 ],
 "metadata": {
  "kaggle": {
   "accelerator": "nvidiaTeslaT4",
   "dataSources": [
    {
     "databundleVersionId": 2887556,
     "sourceId": 29781,
     "sourceType": "competition"
    }
   ],
   "dockerImageVersionId": 30787,
   "isGpuEnabled": true,
   "isInternetEnabled": true,
   "language": "python",
   "sourceType": "notebook"
  },
  "kernelspec": {
   "display_name": "Python 3",
   "language": "python",
   "name": "python3"
  },
  "language_info": {
   "codemirror_mode": {
    "name": "ipython",
    "version": 3
   },
   "file_extension": ".py",
   "mimetype": "text/x-python",
   "name": "python",
   "nbconvert_exporter": "python",
   "pygments_lexer": "ipython3",
   "version": "3.10.14"
  },
  "papermill": {
   "default_parameters": {},
   "duration": 6.695194,
   "end_time": "2024-11-15T04:22:20.326891",
   "environment_variables": {},
   "exception": null,
   "input_path": "__notebook__.ipynb",
   "output_path": "__notebook__.ipynb",
   "parameters": {},
   "start_time": "2024-11-15T04:22:13.631697",
   "version": "2.6.0"
  }
 },
 "nbformat": 4,
 "nbformat_minor": 5
}
