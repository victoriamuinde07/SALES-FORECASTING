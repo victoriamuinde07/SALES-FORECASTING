{
 "cells": [
  {
   "cell_type": "code",
   "execution_count": 1,
   "id": "4303ec6f",
   "metadata": {
    "_cell_guid": "b1076dfc-b9ad-4769-8c92-a6c4dae69d19",
    "_uuid": "8f2839f25d086af736a60e9eeb907d3b93b6e0e5",
    "execution": {
     "iopub.execute_input": "2024-11-14T12:50:39.355093Z",
     "iopub.status.busy": "2024-11-14T12:50:39.354708Z",
     "iopub.status.idle": "2024-11-14T12:50:40.021482Z",
     "shell.execute_reply": "2024-11-14T12:50:40.020462Z"
    },
    "papermill": {
     "duration": 0.67765,
     "end_time": "2024-11-14T12:50:40.023824",
     "exception": false,
     "start_time": "2024-11-14T12:50:39.346174",
     "status": "completed"
    },
    "tags": []
   },
   "outputs": [
    {
     "name": "stdout",
     "output_type": "stream",
     "text": [
      "/kaggle/input/store-sales-time-series-forecasting/oil.csv\n",
      "/kaggle/input/store-sales-time-series-forecasting/sample_submission.csv\n",
      "/kaggle/input/store-sales-time-series-forecasting/holidays_events.csv\n",
      "/kaggle/input/store-sales-time-series-forecasting/stores.csv\n",
      "/kaggle/input/store-sales-time-series-forecasting/train.csv\n",
      "/kaggle/input/store-sales-time-series-forecasting/test.csv\n",
      "/kaggle/input/store-sales-time-series-forecasting/transactions.csv\n"
     ]
    }
   ],
   "source": [
    "# This Python 3 environment comes with many helpful analytics libraries installed\n",
    "# It is defined by the kaggle/python Docker image: https://github.com/kaggle/docker-python\n",
    "# For example, here's several helpful packages to load\n",
    "\n",
    "import numpy as np # linear algebra\n",
    "import pandas as pd # data processing, CSV file I/O (e.g. pd.read_csv)\n",
    "\n",
    "# Input data files are available in the read-only \"../input/\" directory\n",
    "# For example, running this (by clicking run or pressing Shift+Enter) will list all files under the input directory\n",
    "\n",
    "import os\n",
    "for dirname, _, filenames in os.walk('/kaggle/input'):\n",
    "    for filename in filenames:\n",
    "        print(os.path.join(dirname, filename))\n",
    "\n",
    "# You can write up to 20GB to the current directory (/kaggle/working/) that gets preserved as output when you create a version using \"Save & Run All\" \n",
    "# You can also write temporary files to /kaggle/temp/, but they won't be saved outside of the current session"
   ]
  },
  {
   "cell_type": "code",
   "execution_count": 2,
   "id": "663116f8",
   "metadata": {
    "execution": {
     "iopub.execute_input": "2024-11-14T12:50:40.036259Z",
     "iopub.status.busy": "2024-11-14T12:50:40.035882Z",
     "iopub.status.idle": "2024-11-14T12:50:40.236790Z",
     "shell.execute_reply": "2024-11-14T12:50:40.235783Z"
    },
    "papermill": {
     "duration": 0.209694,
     "end_time": "2024-11-14T12:50:40.239254",
     "exception": false,
     "start_time": "2024-11-14T12:50:40.029560",
     "status": "completed"
    },
    "tags": []
   },
   "outputs": [
    {
     "name": "stdout",
     "output_type": "stream",
     "text": [
      "Train data\n",
      "        id  sales\n",
      "0  3000888    0.0\n",
      "1  3000889    0.0\n",
      "2  3000890    0.0\n",
      "3  3000891    0.0\n",
      "4  3000892    0.0\n",
      "<class 'pandas.core.frame.DataFrame'>\n",
      "RangeIndex: 28512 entries, 0 to 28511\n",
      "Data columns (total 2 columns):\n",
      " #   Column  Non-Null Count  Dtype  \n",
      "---  ------  --------------  -----  \n",
      " 0   id      28512 non-null  int64  \n",
      " 1   sales   28512 non-null  float64\n",
      "dtypes: float64(1), int64(1)\n",
      "memory usage: 445.6 KB\n",
      "None\n",
      "\n",
      "Test data\n",
      "        id        date  store_nbr      family  onpromotion\n",
      "0  3000888  2017-08-16          1  AUTOMOTIVE            0\n",
      "1  3000889  2017-08-16          1   BABY CARE            0\n",
      "2  3000890  2017-08-16          1      BEAUTY            2\n",
      "3  3000891  2017-08-16          1   BEVERAGES           20\n",
      "4  3000892  2017-08-16          1       BOOKS            0\n",
      "<class 'pandas.core.frame.DataFrame'>\n",
      "RangeIndex: 28512 entries, 0 to 28511\n",
      "Data columns (total 5 columns):\n",
      " #   Column       Non-Null Count  Dtype \n",
      "---  ------       --------------  ----- \n",
      " 0   id           28512 non-null  int64 \n",
      " 1   date         28512 non-null  object\n",
      " 2   store_nbr    28512 non-null  int64 \n",
      " 3   family       28512 non-null  object\n",
      " 4   onpromotion  28512 non-null  int64 \n",
      "dtypes: int64(3), object(2)\n",
      "memory usage: 1.1+ MB\n",
      "None\n",
      "\n",
      "Holidays data\n",
      "         date     type    locale locale_name                    description  \\\n",
      "0  2012-03-02  Holiday     Local       Manta             Fundacion de Manta   \n",
      "1  2012-04-01  Holiday  Regional    Cotopaxi  Provincializacion de Cotopaxi   \n",
      "2  2012-04-12  Holiday     Local      Cuenca            Fundacion de Cuenca   \n",
      "3  2012-04-14  Holiday     Local    Libertad      Cantonizacion de Libertad   \n",
      "4  2012-04-21  Holiday     Local    Riobamba      Cantonizacion de Riobamba   \n",
      "\n",
      "   transferred  \n",
      "0        False  \n",
      "1        False  \n",
      "2        False  \n",
      "3        False  \n",
      "4        False  \n",
      "<class 'pandas.core.frame.DataFrame'>\n",
      "RangeIndex: 350 entries, 0 to 349\n",
      "Data columns (total 6 columns):\n",
      " #   Column       Non-Null Count  Dtype \n",
      "---  ------       --------------  ----- \n",
      " 0   date         350 non-null    object\n",
      " 1   type         350 non-null    object\n",
      " 2   locale       350 non-null    object\n",
      " 3   locale_name  350 non-null    object\n",
      " 4   description  350 non-null    object\n",
      " 5   transferred  350 non-null    bool  \n",
      "dtypes: bool(1), object(5)\n",
      "memory usage: 14.1+ KB\n",
      "None\n",
      "\n",
      "Store data\n",
      "   store_nbr           city                           state type  cluster\n",
      "0          1          Quito                       Pichincha    D       13\n",
      "1          2          Quito                       Pichincha    D       13\n",
      "2          3          Quito                       Pichincha    D        8\n",
      "3          4          Quito                       Pichincha    D        9\n",
      "4          5  Santo Domingo  Santo Domingo de los Tsachilas    D        4\n",
      "<class 'pandas.core.frame.DataFrame'>\n",
      "RangeIndex: 54 entries, 0 to 53\n",
      "Data columns (total 5 columns):\n",
      " #   Column     Non-Null Count  Dtype \n",
      "---  ------     --------------  ----- \n",
      " 0   store_nbr  54 non-null     int64 \n",
      " 1   city       54 non-null     object\n",
      " 2   state      54 non-null     object\n",
      " 3   type       54 non-null     object\n",
      " 4   cluster    54 non-null     int64 \n",
      "dtypes: int64(2), object(3)\n",
      "memory usage: 2.2+ KB\n",
      "None\n",
      "\n",
      "Transactions data\n",
      "         date  store_nbr  transactions\n",
      "0  2013-01-01         25           770\n",
      "1  2013-01-02          1          2111\n",
      "2  2013-01-02          2          2358\n",
      "3  2013-01-02          3          3487\n",
      "4  2013-01-02          4          1922\n",
      "<class 'pandas.core.frame.DataFrame'>\n",
      "RangeIndex: 83488 entries, 0 to 83487\n",
      "Data columns (total 3 columns):\n",
      " #   Column        Non-Null Count  Dtype \n",
      "---  ------        --------------  ----- \n",
      " 0   date          83488 non-null  object\n",
      " 1   store_nbr     83488 non-null  int64 \n",
      " 2   transactions  83488 non-null  int64 \n",
      "dtypes: int64(2), object(1)\n",
      "memory usage: 1.9+ MB\n",
      "None\n",
      "\n",
      "Oil data\n",
      "         date  dcoilwtico\n",
      "0  2013-01-01         NaN\n",
      "1  2013-01-02       93.14\n",
      "2  2013-01-03       92.97\n",
      "3  2013-01-04       93.12\n",
      "4  2013-01-07       93.20\n",
      "<class 'pandas.core.frame.DataFrame'>\n",
      "RangeIndex: 1218 entries, 0 to 1217\n",
      "Data columns (total 2 columns):\n",
      " #   Column      Non-Null Count  Dtype  \n",
      "---  ------      --------------  -----  \n",
      " 0   date        1218 non-null   object \n",
      " 1   dcoilwtico  1175 non-null   float64\n",
      "dtypes: float64(1), object(1)\n",
      "memory usage: 19.2+ KB\n",
      "None\n"
     ]
    }
   ],
   "source": [
    "import pandas as pd \n",
    "train = pd.read_csv('/kaggle/input/store-sales-time-series-forecasting/sample_submission.csv')\n",
    "test = pd.read_csv('/kaggle/input/store-sales-time-series-forecasting/test.csv')\n",
    "holidays = pd.read_csv('/kaggle/input/store-sales-time-series-forecasting/holidays_events.csv')\n",
    "stores = pd.read_csv('/kaggle/input/store-sales-time-series-forecasting/stores.csv')\n",
    "transactions = pd.read_csv('/kaggle/input/store-sales-time-series-forecasting/transactions.csv')\n",
    "oil = pd.read_csv('/kaggle/input/store-sales-time-series-forecasting/oil.csv')\n",
    "\n",
    "print(\"Train data\")\n",
    "print(train.head())\n",
    "print(train.info())\n",
    "\n",
    "print('\\nTest data')\n",
    "print(test.head())\n",
    "print(test.info())\n",
    "\n",
    "print('\\nHolidays data')\n",
    "print(holidays.head())\n",
    "print(holidays.info())\n",
    "\n",
    "print('\\nStore data')\n",
    "print(stores.head())\n",
    "print(stores.info())\n",
    "\n",
    "print('\\nTransactions data')\n",
    "print(transactions.head())\n",
    "print(transactions.info())\n",
    "\n",
    "print('\\nOil data')\n",
    "print(oil.head())\n",
    "print(oil.info())"
   ]
  },
  {
   "cell_type": "code",
   "execution_count": 3,
   "id": "39ae1e55",
   "metadata": {
    "execution": {
     "iopub.execute_input": "2024-11-14T12:50:40.252896Z",
     "iopub.status.busy": "2024-11-14T12:50:40.252507Z",
     "iopub.status.idle": "2024-11-14T12:50:40.259943Z",
     "shell.execute_reply": "2024-11-14T12:50:40.259108Z"
    },
    "papermill": {
     "duration": 0.016453,
     "end_time": "2024-11-14T12:50:40.261954",
     "exception": false,
     "start_time": "2024-11-14T12:50:40.245501",
     "status": "completed"
    },
    "tags": []
   },
   "outputs": [
    {
     "data": {
      "text/plain": [
       "Index(['id', 'sales'], dtype='object')"
      ]
     },
     "execution_count": 3,
     "metadata": {},
     "output_type": "execute_result"
    }
   ],
   "source": [
    "train.columns"
   ]
  },
  {
   "cell_type": "code",
   "execution_count": 4,
   "id": "2f45efb0",
   "metadata": {
    "execution": {
     "iopub.execute_input": "2024-11-14T12:50:40.276370Z",
     "iopub.status.busy": "2024-11-14T12:50:40.275689Z",
     "iopub.status.idle": "2024-11-14T12:50:40.283084Z",
     "shell.execute_reply": "2024-11-14T12:50:40.282232Z"
    },
    "papermill": {
     "duration": 0.016089,
     "end_time": "2024-11-14T12:50:40.284967",
     "exception": false,
     "start_time": "2024-11-14T12:50:40.268878",
     "status": "completed"
    },
    "tags": []
   },
   "outputs": [
    {
     "data": {
      "text/plain": [
       "id       0\n",
       "sales    0\n",
       "dtype: int64"
      ]
     },
     "execution_count": 4,
     "metadata": {},
     "output_type": "execute_result"
    }
   ],
   "source": [
    "train.isna().sum()"
   ]
  },
  {
   "cell_type": "code",
   "execution_count": 5,
   "id": "ec3cefa6",
   "metadata": {
    "execution": {
     "iopub.execute_input": "2024-11-14T12:50:40.298018Z",
     "iopub.status.busy": "2024-11-14T12:50:40.297748Z",
     "iopub.status.idle": "2024-11-14T12:50:40.305308Z",
     "shell.execute_reply": "2024-11-14T12:50:40.304401Z"
    },
    "papermill": {
     "duration": 0.016419,
     "end_time": "2024-11-14T12:50:40.307290",
     "exception": false,
     "start_time": "2024-11-14T12:50:40.290871",
     "status": "completed"
    },
    "tags": []
   },
   "outputs": [
    {
     "data": {
      "text/plain": [
       "date           0\n",
       "dcoilwtico    43\n",
       "dtype: int64"
      ]
     },
     "execution_count": 5,
     "metadata": {},
     "output_type": "execute_result"
    }
   ],
   "source": [
    "oil.isna().sum()"
   ]
  },
  {
   "cell_type": "code",
   "execution_count": 6,
   "id": "77b3466d",
   "metadata": {
    "execution": {
     "iopub.execute_input": "2024-11-14T12:50:40.320421Z",
     "iopub.status.busy": "2024-11-14T12:50:40.320126Z",
     "iopub.status.idle": "2024-11-14T12:50:40.337779Z",
     "shell.execute_reply": "2024-11-14T12:50:40.336817Z"
    },
    "papermill": {
     "duration": 0.026602,
     "end_time": "2024-11-14T12:50:40.339948",
     "exception": false,
     "start_time": "2024-11-14T12:50:40.313346",
     "status": "completed"
    },
    "tags": []
   },
   "outputs": [
    {
     "data": {
      "text/plain": [
       "date          0\n",
       "dcoilwtico    0\n",
       "dtype: int64"
      ]
     },
     "execution_count": 6,
     "metadata": {},
     "output_type": "execute_result"
    }
   ],
   "source": [
    "oil['date'] = pd.to_datetime(oil['date']) \n",
    "oil = oil.sort_values(by='date') \n",
    "# Forward fill as an alternative to interpolation\n",
    "oil['dcoilwtico'] = oil['dcoilwtico'].ffill()\n",
    "oil['dcoilwtico'] = oil['dcoilwtico'].bfill()\n",
    "oil.isna().sum()"
   ]
  },
  {
   "cell_type": "code",
   "execution_count": 7,
   "id": "95be7677",
   "metadata": {
    "execution": {
     "iopub.execute_input": "2024-11-14T12:50:40.354255Z",
     "iopub.status.busy": "2024-11-14T12:50:40.353963Z",
     "iopub.status.idle": "2024-11-14T12:50:40.359483Z",
     "shell.execute_reply": "2024-11-14T12:50:40.358665Z"
    },
    "papermill": {
     "duration": 0.01451,
     "end_time": "2024-11-14T12:50:40.361333",
     "exception": false,
     "start_time": "2024-11-14T12:50:40.346823",
     "status": "completed"
    },
    "tags": []
   },
   "outputs": [
    {
     "data": {
      "text/plain": [
       "Index(['date', 'type', 'locale', 'locale_name', 'description', 'transferred'], dtype='object')"
      ]
     },
     "execution_count": 7,
     "metadata": {},
     "output_type": "execute_result"
    }
   ],
   "source": [
    "holidays.columns"
   ]
  },
  {
   "cell_type": "code",
   "execution_count": 8,
   "id": "b6b69673",
   "metadata": {
    "execution": {
     "iopub.execute_input": "2024-11-14T12:50:40.375351Z",
     "iopub.status.busy": "2024-11-14T12:50:40.374685Z",
     "iopub.status.idle": "2024-11-14T12:50:40.381607Z",
     "shell.execute_reply": "2024-11-14T12:50:40.380838Z"
    },
    "papermill": {
     "duration": 0.015954,
     "end_time": "2024-11-14T12:50:40.383628",
     "exception": false,
     "start_time": "2024-11-14T12:50:40.367674",
     "status": "completed"
    },
    "tags": []
   },
   "outputs": [],
   "source": [
    "holidays['date'] = pd.to_datetime(holidays['date'])\n",
    "holidays = holidays.sort_values(by='date')\n",
    "\n"
   ]
  },
  {
   "cell_type": "code",
   "execution_count": 9,
   "id": "9abd6fb0",
   "metadata": {
    "execution": {
     "iopub.execute_input": "2024-11-14T12:50:40.397521Z",
     "iopub.status.busy": "2024-11-14T12:50:40.397234Z",
     "iopub.status.idle": "2024-11-14T12:50:40.402746Z",
     "shell.execute_reply": "2024-11-14T12:50:40.401837Z"
    },
    "papermill": {
     "duration": 0.014715,
     "end_time": "2024-11-14T12:50:40.404571",
     "exception": false,
     "start_time": "2024-11-14T12:50:40.389856",
     "status": "completed"
    },
    "tags": []
   },
   "outputs": [
    {
     "data": {
      "text/plain": [
       "Index(['date', 'store_nbr', 'transactions'], dtype='object')"
      ]
     },
     "execution_count": 9,
     "metadata": {},
     "output_type": "execute_result"
    }
   ],
   "source": [
    "transactions.columns"
   ]
  },
  {
   "cell_type": "code",
   "execution_count": 10,
   "id": "1f0725c4",
   "metadata": {
    "execution": {
     "iopub.execute_input": "2024-11-14T12:50:40.418901Z",
     "iopub.status.busy": "2024-11-14T12:50:40.418213Z",
     "iopub.status.idle": "2024-11-14T12:50:40.442353Z",
     "shell.execute_reply": "2024-11-14T12:50:40.441572Z"
    },
    "papermill": {
     "duration": 0.033341,
     "end_time": "2024-11-14T12:50:40.444316",
     "exception": false,
     "start_time": "2024-11-14T12:50:40.410975",
     "status": "completed"
    },
    "tags": []
   },
   "outputs": [],
   "source": [
    "transactions['date'] = pd.to_datetime(transactions['date'])\n",
    "transactions = transactions.sort_values(by='date')"
   ]
  },
  {
   "cell_type": "code",
   "execution_count": 11,
   "id": "24350daa",
   "metadata": {
    "execution": {
     "iopub.execute_input": "2024-11-14T12:50:40.458552Z",
     "iopub.status.busy": "2024-11-14T12:50:40.458249Z",
     "iopub.status.idle": "2024-11-14T12:50:40.474031Z",
     "shell.execute_reply": "2024-11-14T12:50:40.473017Z"
    },
    "papermill": {
     "duration": 0.025273,
     "end_time": "2024-11-14T12:50:40.476050",
     "exception": false,
     "start_time": "2024-11-14T12:50:40.450777",
     "status": "completed"
    },
    "tags": []
   },
   "outputs": [
    {
     "name": "stdout",
     "output_type": "stream",
     "text": [
      "<class 'pandas.core.frame.DataFrame'>\n",
      "RangeIndex: 28512 entries, 0 to 28511\n",
      "Data columns (total 2 columns):\n",
      " #   Column  Non-Null Count  Dtype  \n",
      "---  ------  --------------  -----  \n",
      " 0   id      28512 non-null  int64  \n",
      " 1   sales   28512 non-null  float64\n",
      "dtypes: float64(1), int64(1)\n",
      "memory usage: 445.6 KB\n"
     ]
    },
    {
     "data": {
      "text/html": [
       "<div>\n",
       "<style scoped>\n",
       "    .dataframe tbody tr th:only-of-type {\n",
       "        vertical-align: middle;\n",
       "    }\n",
       "\n",
       "    .dataframe tbody tr th {\n",
       "        vertical-align: top;\n",
       "    }\n",
       "\n",
       "    .dataframe thead th {\n",
       "        text-align: right;\n",
       "    }\n",
       "</style>\n",
       "<table border=\"1\" class=\"dataframe\">\n",
       "  <thead>\n",
       "    <tr style=\"text-align: right;\">\n",
       "      <th></th>\n",
       "      <th>id</th>\n",
       "      <th>sales</th>\n",
       "    </tr>\n",
       "  </thead>\n",
       "  <tbody>\n",
       "    <tr>\n",
       "      <th>0</th>\n",
       "      <td>3000888</td>\n",
       "      <td>0.0</td>\n",
       "    </tr>\n",
       "    <tr>\n",
       "      <th>1</th>\n",
       "      <td>3000889</td>\n",
       "      <td>0.0</td>\n",
       "    </tr>\n",
       "    <tr>\n",
       "      <th>2</th>\n",
       "      <td>3000890</td>\n",
       "      <td>0.0</td>\n",
       "    </tr>\n",
       "    <tr>\n",
       "      <th>3</th>\n",
       "      <td>3000891</td>\n",
       "      <td>0.0</td>\n",
       "    </tr>\n",
       "    <tr>\n",
       "      <th>4</th>\n",
       "      <td>3000892</td>\n",
       "      <td>0.0</td>\n",
       "    </tr>\n",
       "  </tbody>\n",
       "</table>\n",
       "</div>"
      ],
      "text/plain": [
       "        id  sales\n",
       "0  3000888    0.0\n",
       "1  3000889    0.0\n",
       "2  3000890    0.0\n",
       "3  3000891    0.0\n",
       "4  3000892    0.0"
      ]
     },
     "execution_count": 11,
     "metadata": {},
     "output_type": "execute_result"
    }
   ],
   "source": [
    "train.info()\n",
    "train.head()"
   ]
  },
  {
   "cell_type": "markdown",
   "id": "91b68a8b",
   "metadata": {
    "papermill": {
     "duration": 0.006441,
     "end_time": "2024-11-14T12:50:40.489382",
     "exception": false,
     "start_time": "2024-11-14T12:50:40.482941",
     "status": "completed"
    },
    "tags": []
   },
   "source": [
    "adding a date column in the train dataset"
   ]
  },
  {
   "cell_type": "code",
   "execution_count": 12,
   "id": "28782ffe",
   "metadata": {
    "execution": {
     "iopub.execute_input": "2024-11-14T12:50:40.504441Z",
     "iopub.status.busy": "2024-11-14T12:50:40.504125Z",
     "iopub.status.idle": "2024-11-14T12:50:40.512559Z",
     "shell.execute_reply": "2024-11-14T12:50:40.511404Z"
    },
    "papermill": {
     "duration": 0.018331,
     "end_time": "2024-11-14T12:50:40.514548",
     "exception": false,
     "start_time": "2024-11-14T12:50:40.496217",
     "status": "completed"
    },
    "tags": []
   },
   "outputs": [
    {
     "name": "stdout",
     "output_type": "stream",
     "text": [
      "3000888 3029399\n",
      "[nan  1.]\n"
     ]
    }
   ],
   "source": [
    "print(train['id'].min(),train['id'].max())\n",
    "print(train['id'].diff().unique())"
   ]
  },
  {
   "cell_type": "code",
   "execution_count": 13,
   "id": "fd52e625",
   "metadata": {
    "execution": {
     "iopub.execute_input": "2024-11-14T12:50:40.529734Z",
     "iopub.status.busy": "2024-11-14T12:50:40.529012Z",
     "iopub.status.idle": "2024-11-14T12:50:40.539036Z",
     "shell.execute_reply": "2024-11-14T12:50:40.538312Z"
    },
    "papermill": {
     "duration": 0.019646,
     "end_time": "2024-11-14T12:50:40.541029",
     "exception": false,
     "start_time": "2024-11-14T12:50:40.521383",
     "status": "completed"
    },
    "tags": []
   },
   "outputs": [],
   "source": [
    "start_date = transactions['date'].min()\n",
    "train['date'] = pd.date_range(start=start_date,periods=len(train),freq='D')"
   ]
  },
  {
   "cell_type": "code",
   "execution_count": 14,
   "id": "cdaf0ba7",
   "metadata": {
    "execution": {
     "iopub.execute_input": "2024-11-14T12:50:40.556231Z",
     "iopub.status.busy": "2024-11-14T12:50:40.555644Z",
     "iopub.status.idle": "2024-11-14T12:50:40.574307Z",
     "shell.execute_reply": "2024-11-14T12:50:40.573595Z"
    },
    "papermill": {
     "duration": 0.028694,
     "end_time": "2024-11-14T12:50:40.576520",
     "exception": false,
     "start_time": "2024-11-14T12:50:40.547826",
     "status": "completed"
    },
    "tags": []
   },
   "outputs": [],
   "source": [
    "train = train.merge(holidays[['date','type','locale','locale_name','description','transferred']],\n",
    "                   on='date',\n",
    "                   how='left')"
   ]
  },
  {
   "cell_type": "code",
   "execution_count": 15,
   "id": "43ea8714",
   "metadata": {
    "execution": {
     "iopub.execute_input": "2024-11-14T12:50:40.592068Z",
     "iopub.status.busy": "2024-11-14T12:50:40.591793Z",
     "iopub.status.idle": "2024-11-14T12:50:40.622601Z",
     "shell.execute_reply": "2024-11-14T12:50:40.621808Z"
    },
    "papermill": {
     "duration": 0.041055,
     "end_time": "2024-11-14T12:50:40.624914",
     "exception": false,
     "start_time": "2024-11-14T12:50:40.583859",
     "status": "completed"
    },
    "tags": []
   },
   "outputs": [],
   "source": [
    "train['store_nbr'] = 1\n",
    "train = train.merge(transactions[['date','store_nbr','transactions']],on=['date','store_nbr'],how='left')"
   ]
  },
  {
   "cell_type": "markdown",
   "id": "810ab341",
   "metadata": {
    "papermill": {
     "duration": 0.00647,
     "end_time": "2024-11-14T12:50:40.639036",
     "exception": false,
     "start_time": "2024-11-14T12:50:40.632566",
     "status": "completed"
    },
    "tags": []
   },
   "source": [
    " **Feature Engineering**"
   ]
  },
  {
   "cell_type": "markdown",
   "id": "05c3ae4d",
   "metadata": {
    "papermill": {
     "duration": 0.006415,
     "end_time": "2024-11-14T12:50:40.652137",
     "exception": false,
     "start_time": "2024-11-14T12:50:40.645722",
     "status": "completed"
    },
    "tags": []
   },
   "source": [
    "Creating date based features"
   ]
  },
  {
   "cell_type": "code",
   "execution_count": 16,
   "id": "71b2c93f",
   "metadata": {
    "execution": {
     "iopub.execute_input": "2024-11-14T12:50:40.666777Z",
     "iopub.status.busy": "2024-11-14T12:50:40.666456Z",
     "iopub.status.idle": "2024-11-14T12:50:40.692473Z",
     "shell.execute_reply": "2024-11-14T12:50:40.691471Z"
    },
    "papermill": {
     "duration": 0.035541,
     "end_time": "2024-11-14T12:50:40.694368",
     "exception": false,
     "start_time": "2024-11-14T12:50:40.658827",
     "status": "completed"
    },
    "tags": []
   },
   "outputs": [
    {
     "data": {
      "text/html": [
       "<div>\n",
       "<style scoped>\n",
       "    .dataframe tbody tr th:only-of-type {\n",
       "        vertical-align: middle;\n",
       "    }\n",
       "\n",
       "    .dataframe tbody tr th {\n",
       "        vertical-align: top;\n",
       "    }\n",
       "\n",
       "    .dataframe thead th {\n",
       "        text-align: right;\n",
       "    }\n",
       "</style>\n",
       "<table border=\"1\" class=\"dataframe\">\n",
       "  <thead>\n",
       "    <tr style=\"text-align: right;\">\n",
       "      <th></th>\n",
       "      <th>id</th>\n",
       "      <th>sales</th>\n",
       "      <th>date</th>\n",
       "      <th>type</th>\n",
       "      <th>locale</th>\n",
       "      <th>locale_name</th>\n",
       "      <th>description</th>\n",
       "      <th>transferred</th>\n",
       "      <th>store_nbr</th>\n",
       "      <th>transactions</th>\n",
       "      <th>day_of_week</th>\n",
       "      <th>month</th>\n",
       "      <th>quarter</th>\n",
       "      <th>year</th>\n",
       "      <th>is_weekend</th>\n",
       "    </tr>\n",
       "  </thead>\n",
       "  <tbody>\n",
       "    <tr>\n",
       "      <th>0</th>\n",
       "      <td>3000888</td>\n",
       "      <td>0.0</td>\n",
       "      <td>2013-01-01</td>\n",
       "      <td>Holiday</td>\n",
       "      <td>National</td>\n",
       "      <td>Ecuador</td>\n",
       "      <td>Primer dia del ano</td>\n",
       "      <td>False</td>\n",
       "      <td>1</td>\n",
       "      <td>NaN</td>\n",
       "      <td>1</td>\n",
       "      <td>1</td>\n",
       "      <td>1</td>\n",
       "      <td>2013</td>\n",
       "      <td>False</td>\n",
       "    </tr>\n",
       "    <tr>\n",
       "      <th>1</th>\n",
       "      <td>3000889</td>\n",
       "      <td>0.0</td>\n",
       "      <td>2013-01-02</td>\n",
       "      <td>NaN</td>\n",
       "      <td>NaN</td>\n",
       "      <td>NaN</td>\n",
       "      <td>NaN</td>\n",
       "      <td>NaN</td>\n",
       "      <td>1</td>\n",
       "      <td>2111.0</td>\n",
       "      <td>2</td>\n",
       "      <td>1</td>\n",
       "      <td>1</td>\n",
       "      <td>2013</td>\n",
       "      <td>False</td>\n",
       "    </tr>\n",
       "    <tr>\n",
       "      <th>2</th>\n",
       "      <td>3000890</td>\n",
       "      <td>0.0</td>\n",
       "      <td>2013-01-03</td>\n",
       "      <td>NaN</td>\n",
       "      <td>NaN</td>\n",
       "      <td>NaN</td>\n",
       "      <td>NaN</td>\n",
       "      <td>NaN</td>\n",
       "      <td>1</td>\n",
       "      <td>1833.0</td>\n",
       "      <td>3</td>\n",
       "      <td>1</td>\n",
       "      <td>1</td>\n",
       "      <td>2013</td>\n",
       "      <td>False</td>\n",
       "    </tr>\n",
       "    <tr>\n",
       "      <th>3</th>\n",
       "      <td>3000891</td>\n",
       "      <td>0.0</td>\n",
       "      <td>2013-01-04</td>\n",
       "      <td>NaN</td>\n",
       "      <td>NaN</td>\n",
       "      <td>NaN</td>\n",
       "      <td>NaN</td>\n",
       "      <td>NaN</td>\n",
       "      <td>1</td>\n",
       "      <td>1863.0</td>\n",
       "      <td>4</td>\n",
       "      <td>1</td>\n",
       "      <td>1</td>\n",
       "      <td>2013</td>\n",
       "      <td>False</td>\n",
       "    </tr>\n",
       "    <tr>\n",
       "      <th>4</th>\n",
       "      <td>3000892</td>\n",
       "      <td>0.0</td>\n",
       "      <td>2013-01-05</td>\n",
       "      <td>Work Day</td>\n",
       "      <td>National</td>\n",
       "      <td>Ecuador</td>\n",
       "      <td>Recupero puente Navidad</td>\n",
       "      <td>False</td>\n",
       "      <td>1</td>\n",
       "      <td>1509.0</td>\n",
       "      <td>5</td>\n",
       "      <td>1</td>\n",
       "      <td>1</td>\n",
       "      <td>2013</td>\n",
       "      <td>True</td>\n",
       "    </tr>\n",
       "  </tbody>\n",
       "</table>\n",
       "</div>"
      ],
      "text/plain": [
       "        id  sales       date      type    locale locale_name  \\\n",
       "0  3000888    0.0 2013-01-01   Holiday  National     Ecuador   \n",
       "1  3000889    0.0 2013-01-02       NaN       NaN         NaN   \n",
       "2  3000890    0.0 2013-01-03       NaN       NaN         NaN   \n",
       "3  3000891    0.0 2013-01-04       NaN       NaN         NaN   \n",
       "4  3000892    0.0 2013-01-05  Work Day  National     Ecuador   \n",
       "\n",
       "               description transferred  store_nbr  transactions  day_of_week  \\\n",
       "0       Primer dia del ano       False          1           NaN            1   \n",
       "1                      NaN         NaN          1        2111.0            2   \n",
       "2                      NaN         NaN          1        1833.0            3   \n",
       "3                      NaN         NaN          1        1863.0            4   \n",
       "4  Recupero puente Navidad       False          1        1509.0            5   \n",
       "\n",
       "   month  quarter  year  is_weekend  \n",
       "0      1        1  2013       False  \n",
       "1      1        1  2013       False  \n",
       "2      1        1  2013       False  \n",
       "3      1        1  2013       False  \n",
       "4      1        1  2013        True  "
      ]
     },
     "execution_count": 16,
     "metadata": {},
     "output_type": "execute_result"
    }
   ],
   "source": [
    "train['day_of_week'] = train['date'].dt.dayofweek\n",
    "train['month'] = train['date'].dt.month\n",
    "train['quarter'] = train['date'].dt.quarter\n",
    "train['year'] = train['date'].dt.year\n",
    "train['is_weekend'] = train['date'].dt.dayofweek >=5\n",
    "train.head()"
   ]
  }
 ],
 "metadata": {
  "kaggle": {
   "accelerator": "nvidiaTeslaT4",
   "dataSources": [
    {
     "databundleVersionId": 2887556,
     "sourceId": 29781,
     "sourceType": "competition"
    }
   ],
   "dockerImageVersionId": 30787,
   "isGpuEnabled": true,
   "isInternetEnabled": true,
   "language": "python",
   "sourceType": "notebook"
  },
  "kernelspec": {
   "display_name": "Python 3",
   "language": "python",
   "name": "python3"
  },
  "language_info": {
   "codemirror_mode": {
    "name": "ipython",
    "version": 3
   },
   "file_extension": ".py",
   "mimetype": "text/x-python",
   "name": "python",
   "nbconvert_exporter": "python",
   "pygments_lexer": "ipython3",
   "version": "3.10.14"
  },
  "papermill": {
   "default_parameters": {},
   "duration": 4.252898,
   "end_time": "2024-11-14T12:50:41.019748",
   "environment_variables": {},
   "exception": null,
   "input_path": "__notebook__.ipynb",
   "output_path": "__notebook__.ipynb",
   "parameters": {},
   "start_time": "2024-11-14T12:50:36.766850",
   "version": "2.6.0"
  }
 },
 "nbformat": 4,
 "nbformat_minor": 5
}
