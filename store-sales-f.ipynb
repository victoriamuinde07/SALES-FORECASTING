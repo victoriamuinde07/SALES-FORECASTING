{
 "cells": [
  {
   "cell_type": "code",
   "execution_count": 1,
   "id": "72bb8151",
   "metadata": {
    "_cell_guid": "b1076dfc-b9ad-4769-8c92-a6c4dae69d19",
    "_uuid": "8f2839f25d086af736a60e9eeb907d3b93b6e0e5",
    "execution": {
     "iopub.execute_input": "2024-11-19T05:55:58.761429Z",
     "iopub.status.busy": "2024-11-19T05:55:58.761068Z",
     "iopub.status.idle": "2024-11-19T05:55:59.434812Z",
     "shell.execute_reply": "2024-11-19T05:55:59.433399Z"
    },
    "papermill": {
     "duration": 0.684625,
     "end_time": "2024-11-19T05:55:59.436801",
     "exception": false,
     "start_time": "2024-11-19T05:55:58.752176",
     "status": "completed"
    },
    "tags": []
   },
   "outputs": [
    {
     "name": "stdout",
     "output_type": "stream",
     "text": [
      "/kaggle/input/store-sales-time-series-forecasting/oil.csv\n",
      "/kaggle/input/store-sales-time-series-forecasting/sample_submission.csv\n",
      "/kaggle/input/store-sales-time-series-forecasting/holidays_events.csv\n",
      "/kaggle/input/store-sales-time-series-forecasting/stores.csv\n",
      "/kaggle/input/store-sales-time-series-forecasting/train.csv\n",
      "/kaggle/input/store-sales-time-series-forecasting/test.csv\n",
      "/kaggle/input/store-sales-time-series-forecasting/transactions.csv\n"
     ]
    }
   ],
   "source": [
    "# This Python 3 environment comes with many helpful analytics libraries installed\n",
    "# It is defined by the kaggle/python Docker image: https://github.com/kaggle/docker-python\n",
    "# For example, here's several helpful packages to load\n",
    "\n",
    "import numpy as np # linear algebra\n",
    "import pandas as pd # data processing, CSV file I/O (e.g. pd.read_csv)\n",
    "\n",
    "# Input data files are available in the read-only \"../input/\" directory\n",
    "# For example, running this (by clicking run or pressing Shift+Enter) will list all files under the input directory\n",
    "\n",
    "import os\n",
    "for dirname, _, filenames in os.walk('/kaggle/input'):\n",
    "    for filename in filenames:\n",
    "        print(os.path.join(dirname, filename))\n",
    "\n",
    "# You can write up to 20GB to the current directory (/kaggle/working/) that gets preserved as output when you create a version using \"Save & Run All\" \n",
    "# You can also write temporary files to /kaggle/temp/, but they won't be saved outside of the current session"
   ]
  },
  {
   "cell_type": "code",
   "execution_count": 2,
   "id": "8e29dd21",
   "metadata": {
    "execution": {
     "iopub.execute_input": "2024-11-19T05:55:59.453705Z",
     "iopub.status.busy": "2024-11-19T05:55:59.453285Z",
     "iopub.status.idle": "2024-11-19T05:55:59.629469Z",
     "shell.execute_reply": "2024-11-19T05:55:59.628628Z"
    },
    "papermill": {
     "duration": 0.186613,
     "end_time": "2024-11-19T05:55:59.631826",
     "exception": false,
     "start_time": "2024-11-19T05:55:59.445213",
     "status": "completed"
    },
    "tags": []
   },
   "outputs": [
    {
     "name": "stdout",
     "output_type": "stream",
     "text": [
      "Train data\n",
      "        id  sales\n",
      "0  3000888    0.0\n",
      "1  3000889    0.0\n",
      "2  3000890    0.0\n",
      "3  3000891    0.0\n",
      "4  3000892    0.0\n",
      "<class 'pandas.core.frame.DataFrame'>\n",
      "RangeIndex: 28512 entries, 0 to 28511\n",
      "Data columns (total 2 columns):\n",
      " #   Column  Non-Null Count  Dtype  \n",
      "---  ------  --------------  -----  \n",
      " 0   id      28512 non-null  int64  \n",
      " 1   sales   28512 non-null  float64\n",
      "dtypes: float64(1), int64(1)\n",
      "memory usage: 445.6 KB\n",
      "None\n",
      "\n",
      "Test data\n",
      "        id        date  store_nbr      family  onpromotion\n",
      "0  3000888  2017-08-16          1  AUTOMOTIVE            0\n",
      "1  3000889  2017-08-16          1   BABY CARE            0\n",
      "2  3000890  2017-08-16          1      BEAUTY            2\n",
      "3  3000891  2017-08-16          1   BEVERAGES           20\n",
      "4  3000892  2017-08-16          1       BOOKS            0\n",
      "<class 'pandas.core.frame.DataFrame'>\n",
      "RangeIndex: 28512 entries, 0 to 28511\n",
      "Data columns (total 5 columns):\n",
      " #   Column       Non-Null Count  Dtype \n",
      "---  ------       --------------  ----- \n",
      " 0   id           28512 non-null  int64 \n",
      " 1   date         28512 non-null  object\n",
      " 2   store_nbr    28512 non-null  int64 \n",
      " 3   family       28512 non-null  object\n",
      " 4   onpromotion  28512 non-null  int64 \n",
      "dtypes: int64(3), object(2)\n",
      "memory usage: 1.1+ MB\n",
      "None\n",
      "\n",
      "Holidays data\n",
      "         date     type    locale locale_name                    description  \\\n",
      "0  2012-03-02  Holiday     Local       Manta             Fundacion de Manta   \n",
      "1  2012-04-01  Holiday  Regional    Cotopaxi  Provincializacion de Cotopaxi   \n",
      "2  2012-04-12  Holiday     Local      Cuenca            Fundacion de Cuenca   \n",
      "3  2012-04-14  Holiday     Local    Libertad      Cantonizacion de Libertad   \n",
      "4  2012-04-21  Holiday     Local    Riobamba      Cantonizacion de Riobamba   \n",
      "\n",
      "   transferred  \n",
      "0        False  \n",
      "1        False  \n",
      "2        False  \n",
      "3        False  \n",
      "4        False  \n",
      "<class 'pandas.core.frame.DataFrame'>\n",
      "RangeIndex: 350 entries, 0 to 349\n",
      "Data columns (total 6 columns):\n",
      " #   Column       Non-Null Count  Dtype \n",
      "---  ------       --------------  ----- \n",
      " 0   date         350 non-null    object\n",
      " 1   type         350 non-null    object\n",
      " 2   locale       350 non-null    object\n",
      " 3   locale_name  350 non-null    object\n",
      " 4   description  350 non-null    object\n",
      " 5   transferred  350 non-null    bool  \n",
      "dtypes: bool(1), object(5)\n",
      "memory usage: 14.1+ KB\n",
      "None\n",
      "\n",
      "Store data\n",
      "   store_nbr           city                           state type  cluster\n",
      "0          1          Quito                       Pichincha    D       13\n",
      "1          2          Quito                       Pichincha    D       13\n",
      "2          3          Quito                       Pichincha    D        8\n",
      "3          4          Quito                       Pichincha    D        9\n",
      "4          5  Santo Domingo  Santo Domingo de los Tsachilas    D        4\n",
      "<class 'pandas.core.frame.DataFrame'>\n",
      "RangeIndex: 54 entries, 0 to 53\n",
      "Data columns (total 5 columns):\n",
      " #   Column     Non-Null Count  Dtype \n",
      "---  ------     --------------  ----- \n",
      " 0   store_nbr  54 non-null     int64 \n",
      " 1   city       54 non-null     object\n",
      " 2   state      54 non-null     object\n",
      " 3   type       54 non-null     object\n",
      " 4   cluster    54 non-null     int64 \n",
      "dtypes: int64(2), object(3)\n",
      "memory usage: 2.2+ KB\n",
      "None\n",
      "\n",
      "Transactions data\n",
      "         date  store_nbr  transactions\n",
      "0  2013-01-01         25           770\n",
      "1  2013-01-02          1          2111\n",
      "2  2013-01-02          2          2358\n",
      "3  2013-01-02          3          3487\n",
      "4  2013-01-02          4          1922\n",
      "<class 'pandas.core.frame.DataFrame'>\n",
      "RangeIndex: 83488 entries, 0 to 83487\n",
      "Data columns (total 3 columns):\n",
      " #   Column        Non-Null Count  Dtype \n",
      "---  ------        --------------  ----- \n",
      " 0   date          83488 non-null  object\n",
      " 1   store_nbr     83488 non-null  int64 \n",
      " 2   transactions  83488 non-null  int64 \n",
      "dtypes: int64(2), object(1)\n",
      "memory usage: 1.9+ MB\n",
      "None\n",
      "\n",
      "Oil data\n",
      "         date  dcoilwtico\n",
      "0  2013-01-01         NaN\n",
      "1  2013-01-02       93.14\n",
      "2  2013-01-03       92.97\n",
      "3  2013-01-04       93.12\n",
      "4  2013-01-07       93.20\n",
      "<class 'pandas.core.frame.DataFrame'>\n",
      "RangeIndex: 1218 entries, 0 to 1217\n",
      "Data columns (total 2 columns):\n",
      " #   Column      Non-Null Count  Dtype  \n",
      "---  ------      --------------  -----  \n",
      " 0   date        1218 non-null   object \n",
      " 1   dcoilwtico  1175 non-null   float64\n",
      "dtypes: float64(1), object(1)\n",
      "memory usage: 19.2+ KB\n",
      "None\n"
     ]
    }
   ],
   "source": [
    "import pandas as pd \n",
    "train = pd.read_csv('/kaggle/input/store-sales-time-series-forecasting/sample_submission.csv')\n",
    "test = pd.read_csv('/kaggle/input/store-sales-time-series-forecasting/test.csv')\n",
    "holidays = pd.read_csv('/kaggle/input/store-sales-time-series-forecasting/holidays_events.csv')\n",
    "stores = pd.read_csv('/kaggle/input/store-sales-time-series-forecasting/stores.csv')\n",
    "transactions = pd.read_csv('/kaggle/input/store-sales-time-series-forecasting/transactions.csv')\n",
    "oil = pd.read_csv('/kaggle/input/store-sales-time-series-forecasting/oil.csv')\n",
    "\n",
    "print(\"Train data\")\n",
    "print(train.head())\n",
    "print(train.info())\n",
    "\n",
    "print('\\nTest data')\n",
    "print(test.head())\n",
    "print(test.info())\n",
    "\n",
    "print('\\nHolidays data')\n",
    "print(holidays.head())\n",
    "print(holidays.info())\n",
    "\n",
    "print('\\nStore data')\n",
    "print(stores.head())\n",
    "print(stores.info())\n",
    "\n",
    "print('\\nTransactions data')\n",
    "print(transactions.head())\n",
    "print(transactions.info())\n",
    "\n",
    "print('\\nOil data')\n",
    "print(oil.head())\n",
    "print(oil.info())"
   ]
  },
  {
   "cell_type": "code",
   "execution_count": 3,
   "id": "0f9f7393",
   "metadata": {
    "execution": {
     "iopub.execute_input": "2024-11-19T05:55:59.648425Z",
     "iopub.status.busy": "2024-11-19T05:55:59.648157Z",
     "iopub.status.idle": "2024-11-19T05:55:59.654126Z",
     "shell.execute_reply": "2024-11-19T05:55:59.653337Z"
    },
    "papermill": {
     "duration": 0.016132,
     "end_time": "2024-11-19T05:55:59.655700",
     "exception": false,
     "start_time": "2024-11-19T05:55:59.639568",
     "status": "completed"
    },
    "tags": []
   },
   "outputs": [
    {
     "data": {
      "text/plain": [
       "Index(['id', 'sales'], dtype='object')"
      ]
     },
     "execution_count": 3,
     "metadata": {},
     "output_type": "execute_result"
    }
   ],
   "source": [
    "train.columns"
   ]
  },
  {
   "cell_type": "code",
   "execution_count": 4,
   "id": "1a2fe4e5",
   "metadata": {
    "execution": {
     "iopub.execute_input": "2024-11-19T05:55:59.670939Z",
     "iopub.status.busy": "2024-11-19T05:55:59.670722Z",
     "iopub.status.idle": "2024-11-19T05:55:59.676516Z",
     "shell.execute_reply": "2024-11-19T05:55:59.675852Z"
    },
    "papermill": {
     "duration": 0.015295,
     "end_time": "2024-11-19T05:55:59.678234",
     "exception": false,
     "start_time": "2024-11-19T05:55:59.662939",
     "status": "completed"
    },
    "tags": []
   },
   "outputs": [
    {
     "data": {
      "text/plain": [
       "id       0\n",
       "sales    0\n",
       "dtype: int64"
      ]
     },
     "execution_count": 4,
     "metadata": {},
     "output_type": "execute_result"
    }
   ],
   "source": [
    "train.isna().sum()"
   ]
  },
  {
   "cell_type": "code",
   "execution_count": 5,
   "id": "bf9d3f2b",
   "metadata": {
    "execution": {
     "iopub.execute_input": "2024-11-19T05:55:59.693616Z",
     "iopub.status.busy": "2024-11-19T05:55:59.693404Z",
     "iopub.status.idle": "2024-11-19T05:55:59.700044Z",
     "shell.execute_reply": "2024-11-19T05:55:59.699354Z"
    },
    "papermill": {
     "duration": 0.016063,
     "end_time": "2024-11-19T05:55:59.701620",
     "exception": false,
     "start_time": "2024-11-19T05:55:59.685557",
     "status": "completed"
    },
    "tags": []
   },
   "outputs": [
    {
     "data": {
      "text/plain": [
       "date           0\n",
       "dcoilwtico    43\n",
       "dtype: int64"
      ]
     },
     "execution_count": 5,
     "metadata": {},
     "output_type": "execute_result"
    }
   ],
   "source": [
    "oil.isna().sum()"
   ]
  },
  {
   "cell_type": "code",
   "execution_count": 6,
   "id": "675e4adb",
   "metadata": {
    "execution": {
     "iopub.execute_input": "2024-11-19T05:55:59.717200Z",
     "iopub.status.busy": "2024-11-19T05:55:59.716930Z",
     "iopub.status.idle": "2024-11-19T05:55:59.731987Z",
     "shell.execute_reply": "2024-11-19T05:55:59.731201Z"
    },
    "papermill": {
     "duration": 0.024804,
     "end_time": "2024-11-19T05:55:59.733780",
     "exception": false,
     "start_time": "2024-11-19T05:55:59.708976",
     "status": "completed"
    },
    "tags": []
   },
   "outputs": [
    {
     "data": {
      "text/plain": [
       "date          0\n",
       "dcoilwtico    0\n",
       "dtype: int64"
      ]
     },
     "execution_count": 6,
     "metadata": {},
     "output_type": "execute_result"
    }
   ],
   "source": [
    "oil['date'] = pd.to_datetime(oil['date']) \n",
    "oil = oil.sort_values(by='date') \n",
    "# Forward fill as an alternative to interpolation\n",
    "oil['dcoilwtico'] = oil['dcoilwtico'].ffill()\n",
    "oil['dcoilwtico'] = oil['dcoilwtico'].bfill()\n",
    "oil.isna().sum()"
   ]
  },
  {
   "cell_type": "code",
   "execution_count": 7,
   "id": "0f5f74b3",
   "metadata": {
    "execution": {
     "iopub.execute_input": "2024-11-19T05:55:59.750179Z",
     "iopub.status.busy": "2024-11-19T05:55:59.749555Z",
     "iopub.status.idle": "2024-11-19T05:55:59.754708Z",
     "shell.execute_reply": "2024-11-19T05:55:59.753908Z"
    },
    "papermill": {
     "duration": 0.014684,
     "end_time": "2024-11-19T05:55:59.756287",
     "exception": false,
     "start_time": "2024-11-19T05:55:59.741603",
     "status": "completed"
    },
    "tags": []
   },
   "outputs": [
    {
     "data": {
      "text/plain": [
       "Index(['date', 'type', 'locale', 'locale_name', 'description', 'transferred'], dtype='object')"
      ]
     },
     "execution_count": 7,
     "metadata": {},
     "output_type": "execute_result"
    }
   ],
   "source": [
    "holidays.columns"
   ]
  },
  {
   "cell_type": "code",
   "execution_count": 8,
   "id": "1449d09c",
   "metadata": {
    "execution": {
     "iopub.execute_input": "2024-11-19T05:55:59.772118Z",
     "iopub.status.busy": "2024-11-19T05:55:59.771857Z",
     "iopub.status.idle": "2024-11-19T05:55:59.778646Z",
     "shell.execute_reply": "2024-11-19T05:55:59.777781Z"
    },
    "papermill": {
     "duration": 0.016378,
     "end_time": "2024-11-19T05:55:59.780137",
     "exception": false,
     "start_time": "2024-11-19T05:55:59.763759",
     "status": "completed"
    },
    "tags": []
   },
   "outputs": [],
   "source": [
    "holidays['date'] = pd.to_datetime(holidays['date'])\n",
    "holidays = holidays.sort_values(by='date')\n",
    "\n"
   ]
  },
  {
   "cell_type": "code",
   "execution_count": 9,
   "id": "53707eab",
   "metadata": {
    "execution": {
     "iopub.execute_input": "2024-11-19T05:55:59.797411Z",
     "iopub.status.busy": "2024-11-19T05:55:59.796900Z",
     "iopub.status.idle": "2024-11-19T05:55:59.801808Z",
     "shell.execute_reply": "2024-11-19T05:55:59.800992Z"
    },
    "papermill": {
     "duration": 0.01603,
     "end_time": "2024-11-19T05:55:59.803489",
     "exception": false,
     "start_time": "2024-11-19T05:55:59.787459",
     "status": "completed"
    },
    "tags": []
   },
   "outputs": [
    {
     "data": {
      "text/plain": [
       "Index(['date', 'store_nbr', 'transactions'], dtype='object')"
      ]
     },
     "execution_count": 9,
     "metadata": {},
     "output_type": "execute_result"
    }
   ],
   "source": [
    "transactions.columns"
   ]
  },
  {
   "cell_type": "code",
   "execution_count": 10,
   "id": "8835a7f1",
   "metadata": {
    "execution": {
     "iopub.execute_input": "2024-11-19T05:55:59.819582Z",
     "iopub.status.busy": "2024-11-19T05:55:59.819332Z",
     "iopub.status.idle": "2024-11-19T05:55:59.837071Z",
     "shell.execute_reply": "2024-11-19T05:55:59.836303Z"
    },
    "papermill": {
     "duration": 0.027909,
     "end_time": "2024-11-19T05:55:59.838795",
     "exception": false,
     "start_time": "2024-11-19T05:55:59.810886",
     "status": "completed"
    },
    "tags": []
   },
   "outputs": [],
   "source": [
    "transactions['date'] = pd.to_datetime(transactions['date'])\n",
    "transactions = transactions.sort_values(by='date')"
   ]
  },
  {
   "cell_type": "code",
   "execution_count": 11,
   "id": "303333a0",
   "metadata": {
    "execution": {
     "iopub.execute_input": "2024-11-19T05:55:59.854940Z",
     "iopub.status.busy": "2024-11-19T05:55:59.854362Z",
     "iopub.status.idle": "2024-11-19T05:55:59.867711Z",
     "shell.execute_reply": "2024-11-19T05:55:59.866966Z"
    },
    "papermill": {
     "duration": 0.022974,
     "end_time": "2024-11-19T05:55:59.869283",
     "exception": false,
     "start_time": "2024-11-19T05:55:59.846309",
     "status": "completed"
    },
    "tags": []
   },
   "outputs": [
    {
     "name": "stdout",
     "output_type": "stream",
     "text": [
      "<class 'pandas.core.frame.DataFrame'>\n",
      "RangeIndex: 28512 entries, 0 to 28511\n",
      "Data columns (total 2 columns):\n",
      " #   Column  Non-Null Count  Dtype  \n",
      "---  ------  --------------  -----  \n",
      " 0   id      28512 non-null  int64  \n",
      " 1   sales   28512 non-null  float64\n",
      "dtypes: float64(1), int64(1)\n",
      "memory usage: 445.6 KB\n"
     ]
    },
    {
     "data": {
      "text/html": [
       "<div>\n",
       "<style scoped>\n",
       "    .dataframe tbody tr th:only-of-type {\n",
       "        vertical-align: middle;\n",
       "    }\n",
       "\n",
       "    .dataframe tbody tr th {\n",
       "        vertical-align: top;\n",
       "    }\n",
       "\n",
       "    .dataframe thead th {\n",
       "        text-align: right;\n",
       "    }\n",
       "</style>\n",
       "<table border=\"1\" class=\"dataframe\">\n",
       "  <thead>\n",
       "    <tr style=\"text-align: right;\">\n",
       "      <th></th>\n",
       "      <th>id</th>\n",
       "      <th>sales</th>\n",
       "    </tr>\n",
       "  </thead>\n",
       "  <tbody>\n",
       "    <tr>\n",
       "      <th>0</th>\n",
       "      <td>3000888</td>\n",
       "      <td>0.0</td>\n",
       "    </tr>\n",
       "    <tr>\n",
       "      <th>1</th>\n",
       "      <td>3000889</td>\n",
       "      <td>0.0</td>\n",
       "    </tr>\n",
       "    <tr>\n",
       "      <th>2</th>\n",
       "      <td>3000890</td>\n",
       "      <td>0.0</td>\n",
       "    </tr>\n",
       "    <tr>\n",
       "      <th>3</th>\n",
       "      <td>3000891</td>\n",
       "      <td>0.0</td>\n",
       "    </tr>\n",
       "    <tr>\n",
       "      <th>4</th>\n",
       "      <td>3000892</td>\n",
       "      <td>0.0</td>\n",
       "    </tr>\n",
       "  </tbody>\n",
       "</table>\n",
       "</div>"
      ],
      "text/plain": [
       "        id  sales\n",
       "0  3000888    0.0\n",
       "1  3000889    0.0\n",
       "2  3000890    0.0\n",
       "3  3000891    0.0\n",
       "4  3000892    0.0"
      ]
     },
     "execution_count": 11,
     "metadata": {},
     "output_type": "execute_result"
    }
   ],
   "source": [
    "train.info()\n",
    "train.head()"
   ]
  },
  {
   "cell_type": "markdown",
   "id": "1f32bf10",
   "metadata": {
    "papermill": {
     "duration": 0.007307,
     "end_time": "2024-11-19T05:55:59.884225",
     "exception": false,
     "start_time": "2024-11-19T05:55:59.876918",
     "status": "completed"
    },
    "tags": []
   },
   "source": [
    "adding a date column in the train dataset"
   ]
  },
  {
   "cell_type": "code",
   "execution_count": 12,
   "id": "edd99ec9",
   "metadata": {
    "execution": {
     "iopub.execute_input": "2024-11-19T05:55:59.900367Z",
     "iopub.status.busy": "2024-11-19T05:55:59.899677Z",
     "iopub.status.idle": "2024-11-19T05:55:59.906988Z",
     "shell.execute_reply": "2024-11-19T05:55:59.906043Z"
    },
    "papermill": {
     "duration": 0.016926,
     "end_time": "2024-11-19T05:55:59.908561",
     "exception": false,
     "start_time": "2024-11-19T05:55:59.891635",
     "status": "completed"
    },
    "tags": []
   },
   "outputs": [
    {
     "name": "stdout",
     "output_type": "stream",
     "text": [
      "3000888 3029399\n",
      "[nan  1.]\n"
     ]
    }
   ],
   "source": [
    "print(train['id'].min(),train['id'].max())\n",
    "print(train['id'].diff().unique())"
   ]
  },
  {
   "cell_type": "markdown",
   "id": "330a4de8",
   "metadata": {
    "papermill": {
     "duration": 0.007414,
     "end_time": "2024-11-19T05:55:59.923804",
     "exception": false,
     "start_time": "2024-11-19T05:55:59.916390",
     "status": "completed"
    },
    "tags": []
   },
   "source": []
  },
  {
   "cell_type": "code",
   "execution_count": 13,
   "id": "18c32a6d",
   "metadata": {
    "execution": {
     "iopub.execute_input": "2024-11-19T05:55:59.940211Z",
     "iopub.status.busy": "2024-11-19T05:55:59.939954Z",
     "iopub.status.idle": "2024-11-19T05:55:59.949292Z",
     "shell.execute_reply": "2024-11-19T05:55:59.948491Z"
    },
    "papermill": {
     "duration": 0.019316,
     "end_time": "2024-11-19T05:55:59.950768",
     "exception": false,
     "start_time": "2024-11-19T05:55:59.931452",
     "status": "completed"
    },
    "tags": []
   },
   "outputs": [],
   "source": [
    "start_date = transactions['date'].min()\n",
    "train['date'] = pd.date_range(start=start_date,periods=len(train),freq='D')"
   ]
  },
  {
   "cell_type": "code",
   "execution_count": 14,
   "id": "40fb794e",
   "metadata": {
    "execution": {
     "iopub.execute_input": "2024-11-19T05:55:59.966916Z",
     "iopub.status.busy": "2024-11-19T05:55:59.966678Z",
     "iopub.status.idle": "2024-11-19T05:55:59.983179Z",
     "shell.execute_reply": "2024-11-19T05:55:59.982462Z"
    },
    "papermill": {
     "duration": 0.026276,
     "end_time": "2024-11-19T05:55:59.984812",
     "exception": false,
     "start_time": "2024-11-19T05:55:59.958536",
     "status": "completed"
    },
    "tags": []
   },
   "outputs": [],
   "source": [
    "train = train.merge(holidays[['date','type','locale','locale_name','description','transferred']],\n",
    "                   on='date',\n",
    "                   how='left')"
   ]
  },
  {
   "cell_type": "code",
   "execution_count": 15,
   "id": "25bb1155",
   "metadata": {
    "execution": {
     "iopub.execute_input": "2024-11-19T05:56:00.001710Z",
     "iopub.status.busy": "2024-11-19T05:56:00.000980Z",
     "iopub.status.idle": "2024-11-19T05:56:00.028929Z",
     "shell.execute_reply": "2024-11-19T05:56:00.028337Z"
    },
    "papermill": {
     "duration": 0.038137,
     "end_time": "2024-11-19T05:56:00.030819",
     "exception": false,
     "start_time": "2024-11-19T05:55:59.992682",
     "status": "completed"
    },
    "tags": []
   },
   "outputs": [],
   "source": [
    "train['store_nbr'] = 1\n",
    "train = train.merge(transactions[['date','store_nbr','transactions']],on=['date','store_nbr'],how='left')"
   ]
  },
  {
   "cell_type": "markdown",
   "id": "037737b1",
   "metadata": {
    "papermill": {
     "duration": 0.007586,
     "end_time": "2024-11-19T05:56:00.046342",
     "exception": false,
     "start_time": "2024-11-19T05:56:00.038756",
     "status": "completed"
    },
    "tags": []
   },
   "source": [
    " **Feature Engineering**"
   ]
  },
  {
   "cell_type": "markdown",
   "id": "fe8caa9c",
   "metadata": {
    "papermill": {
     "duration": 0.007508,
     "end_time": "2024-11-19T05:56:00.061423",
     "exception": false,
     "start_time": "2024-11-19T05:56:00.053915",
     "status": "completed"
    },
    "tags": []
   },
   "source": [
    "Creating date based features"
   ]
  },
  {
   "cell_type": "code",
   "execution_count": 16,
   "id": "74e3c943",
   "metadata": {
    "execution": {
     "iopub.execute_input": "2024-11-19T05:56:00.077944Z",
     "iopub.status.busy": "2024-11-19T05:56:00.077684Z",
     "iopub.status.idle": "2024-11-19T05:56:00.098516Z",
     "shell.execute_reply": "2024-11-19T05:56:00.097728Z"
    },
    "papermill": {
     "duration": 0.03087,
     "end_time": "2024-11-19T05:56:00.100026",
     "exception": false,
     "start_time": "2024-11-19T05:56:00.069156",
     "status": "completed"
    },
    "tags": []
   },
   "outputs": [
    {
     "data": {
      "text/html": [
       "<div>\n",
       "<style scoped>\n",
       "    .dataframe tbody tr th:only-of-type {\n",
       "        vertical-align: middle;\n",
       "    }\n",
       "\n",
       "    .dataframe tbody tr th {\n",
       "        vertical-align: top;\n",
       "    }\n",
       "\n",
       "    .dataframe thead th {\n",
       "        text-align: right;\n",
       "    }\n",
       "</style>\n",
       "<table border=\"1\" class=\"dataframe\">\n",
       "  <thead>\n",
       "    <tr style=\"text-align: right;\">\n",
       "      <th></th>\n",
       "      <th>id</th>\n",
       "      <th>sales</th>\n",
       "      <th>date</th>\n",
       "      <th>type</th>\n",
       "      <th>locale</th>\n",
       "      <th>locale_name</th>\n",
       "      <th>description</th>\n",
       "      <th>transferred</th>\n",
       "      <th>store_nbr</th>\n",
       "      <th>transactions</th>\n",
       "      <th>day_of_week</th>\n",
       "      <th>month</th>\n",
       "      <th>quarter</th>\n",
       "      <th>year</th>\n",
       "      <th>is_weekend</th>\n",
       "    </tr>\n",
       "  </thead>\n",
       "  <tbody>\n",
       "    <tr>\n",
       "      <th>0</th>\n",
       "      <td>3000888</td>\n",
       "      <td>0.0</td>\n",
       "      <td>2013-01-01</td>\n",
       "      <td>Holiday</td>\n",
       "      <td>National</td>\n",
       "      <td>Ecuador</td>\n",
       "      <td>Primer dia del ano</td>\n",
       "      <td>False</td>\n",
       "      <td>1</td>\n",
       "      <td>NaN</td>\n",
       "      <td>1</td>\n",
       "      <td>1</td>\n",
       "      <td>1</td>\n",
       "      <td>2013</td>\n",
       "      <td>False</td>\n",
       "    </tr>\n",
       "    <tr>\n",
       "      <th>1</th>\n",
       "      <td>3000889</td>\n",
       "      <td>0.0</td>\n",
       "      <td>2013-01-02</td>\n",
       "      <td>NaN</td>\n",
       "      <td>NaN</td>\n",
       "      <td>NaN</td>\n",
       "      <td>NaN</td>\n",
       "      <td>NaN</td>\n",
       "      <td>1</td>\n",
       "      <td>2111.0</td>\n",
       "      <td>2</td>\n",
       "      <td>1</td>\n",
       "      <td>1</td>\n",
       "      <td>2013</td>\n",
       "      <td>False</td>\n",
       "    </tr>\n",
       "    <tr>\n",
       "      <th>2</th>\n",
       "      <td>3000890</td>\n",
       "      <td>0.0</td>\n",
       "      <td>2013-01-03</td>\n",
       "      <td>NaN</td>\n",
       "      <td>NaN</td>\n",
       "      <td>NaN</td>\n",
       "      <td>NaN</td>\n",
       "      <td>NaN</td>\n",
       "      <td>1</td>\n",
       "      <td>1833.0</td>\n",
       "      <td>3</td>\n",
       "      <td>1</td>\n",
       "      <td>1</td>\n",
       "      <td>2013</td>\n",
       "      <td>False</td>\n",
       "    </tr>\n",
       "    <tr>\n",
       "      <th>3</th>\n",
       "      <td>3000891</td>\n",
       "      <td>0.0</td>\n",
       "      <td>2013-01-04</td>\n",
       "      <td>NaN</td>\n",
       "      <td>NaN</td>\n",
       "      <td>NaN</td>\n",
       "      <td>NaN</td>\n",
       "      <td>NaN</td>\n",
       "      <td>1</td>\n",
       "      <td>1863.0</td>\n",
       "      <td>4</td>\n",
       "      <td>1</td>\n",
       "      <td>1</td>\n",
       "      <td>2013</td>\n",
       "      <td>False</td>\n",
       "    </tr>\n",
       "    <tr>\n",
       "      <th>4</th>\n",
       "      <td>3000892</td>\n",
       "      <td>0.0</td>\n",
       "      <td>2013-01-05</td>\n",
       "      <td>Work Day</td>\n",
       "      <td>National</td>\n",
       "      <td>Ecuador</td>\n",
       "      <td>Recupero puente Navidad</td>\n",
       "      <td>False</td>\n",
       "      <td>1</td>\n",
       "      <td>1509.0</td>\n",
       "      <td>5</td>\n",
       "      <td>1</td>\n",
       "      <td>1</td>\n",
       "      <td>2013</td>\n",
       "      <td>True</td>\n",
       "    </tr>\n",
       "  </tbody>\n",
       "</table>\n",
       "</div>"
      ],
      "text/plain": [
       "        id  sales       date      type    locale locale_name  \\\n",
       "0  3000888    0.0 2013-01-01   Holiday  National     Ecuador   \n",
       "1  3000889    0.0 2013-01-02       NaN       NaN         NaN   \n",
       "2  3000890    0.0 2013-01-03       NaN       NaN         NaN   \n",
       "3  3000891    0.0 2013-01-04       NaN       NaN         NaN   \n",
       "4  3000892    0.0 2013-01-05  Work Day  National     Ecuador   \n",
       "\n",
       "               description transferred  store_nbr  transactions  day_of_week  \\\n",
       "0       Primer dia del ano       False          1           NaN            1   \n",
       "1                      NaN         NaN          1        2111.0            2   \n",
       "2                      NaN         NaN          1        1833.0            3   \n",
       "3                      NaN         NaN          1        1863.0            4   \n",
       "4  Recupero puente Navidad       False          1        1509.0            5   \n",
       "\n",
       "   month  quarter  year  is_weekend  \n",
       "0      1        1  2013       False  \n",
       "1      1        1  2013       False  \n",
       "2      1        1  2013       False  \n",
       "3      1        1  2013       False  \n",
       "4      1        1  2013        True  "
      ]
     },
     "execution_count": 16,
     "metadata": {},
     "output_type": "execute_result"
    }
   ],
   "source": [
    "train['day_of_week'] = train['date'].dt.dayofweek\n",
    "train['month'] = train['date'].dt.month\n",
    "train['quarter'] = train['date'].dt.quarter\n",
    "train['year'] = train['date'].dt.year\n",
    "train['is_weekend'] = train['date'].dt.dayofweek >=5\n",
    "train.head()"
   ]
  },
  {
   "cell_type": "code",
   "execution_count": 17,
   "id": "734c56cb",
   "metadata": {
    "execution": {
     "iopub.execute_input": "2024-11-19T05:56:00.116850Z",
     "iopub.status.busy": "2024-11-19T05:56:00.116611Z",
     "iopub.status.idle": "2024-11-19T05:56:00.126924Z",
     "shell.execute_reply": "2024-11-19T05:56:00.126071Z"
    },
    "papermill": {
     "duration": 0.020239,
     "end_time": "2024-11-19T05:56:00.128510",
     "exception": false,
     "start_time": "2024-11-19T05:56:00.108271",
     "status": "completed"
    },
    "tags": []
   },
   "outputs": [
    {
     "data": {
      "text/plain": [
       "id                  0\n",
       "sales               0\n",
       "date                0\n",
       "type            28235\n",
       "locale          28235\n",
       "locale_name     28235\n",
       "description     28235\n",
       "transferred     28235\n",
       "store_nbr           0\n",
       "transactions    26838\n",
       "day_of_week         0\n",
       "month               0\n",
       "quarter             0\n",
       "year                0\n",
       "is_weekend          0\n",
       "dtype: int64"
      ]
     },
     "execution_count": 17,
     "metadata": {},
     "output_type": "execute_result"
    }
   ],
   "source": [
    "train.isna().sum()"
   ]
  },
  {
   "cell_type": "code",
   "execution_count": 18,
   "id": "598ee2d6",
   "metadata": {
    "execution": {
     "iopub.execute_input": "2024-11-19T05:56:00.145142Z",
     "iopub.status.busy": "2024-11-19T05:56:00.144872Z",
     "iopub.status.idle": "2024-11-19T05:56:00.156685Z",
     "shell.execute_reply": "2024-11-19T05:56:00.155908Z"
    },
    "papermill": {
     "duration": 0.021964,
     "end_time": "2024-11-19T05:56:00.158281",
     "exception": false,
     "start_time": "2024-11-19T05:56:00.136317",
     "status": "completed"
    },
    "tags": []
   },
   "outputs": [],
   "source": [
    "train['locale']=train['locale'].ffill()\n",
    "train['locale_name'] = train['locale_name'].ffill()\n",
    "train['description'] = train['description'].ffill()\n",
    "\n"
   ]
  },
  {
   "cell_type": "code",
   "execution_count": 19,
   "id": "46e1662a",
   "metadata": {
    "execution": {
     "iopub.execute_input": "2024-11-19T05:56:00.174890Z",
     "iopub.status.busy": "2024-11-19T05:56:00.174679Z",
     "iopub.status.idle": "2024-11-19T05:56:00.186378Z",
     "shell.execute_reply": "2024-11-19T05:56:00.185518Z"
    },
    "papermill": {
     "duration": 0.021967,
     "end_time": "2024-11-19T05:56:00.188122",
     "exception": false,
     "start_time": "2024-11-19T05:56:00.166155",
     "status": "completed"
    },
    "tags": []
   },
   "outputs": [
    {
     "data": {
      "text/plain": [
       "id                  0\n",
       "sales               0\n",
       "date                0\n",
       "type            28235\n",
       "locale              0\n",
       "locale_name         0\n",
       "description         0\n",
       "transferred     28235\n",
       "store_nbr           0\n",
       "transactions    26838\n",
       "day_of_week         0\n",
       "month               0\n",
       "quarter             0\n",
       "year                0\n",
       "is_weekend          0\n",
       "dtype: int64"
      ]
     },
     "execution_count": 19,
     "metadata": {},
     "output_type": "execute_result"
    }
   ],
   "source": [
    "train.isna().sum()"
   ]
  },
  {
   "cell_type": "code",
   "execution_count": 20,
   "id": "5698cee6",
   "metadata": {
    "execution": {
     "iopub.execute_input": "2024-11-19T05:56:00.205933Z",
     "iopub.status.busy": "2024-11-19T05:56:00.205693Z",
     "iopub.status.idle": "2024-11-19T05:56:00.212046Z",
     "shell.execute_reply": "2024-11-19T05:56:00.211419Z"
    },
    "papermill": {
     "duration": 0.016823,
     "end_time": "2024-11-19T05:56:00.213770",
     "exception": false,
     "start_time": "2024-11-19T05:56:00.196947",
     "status": "completed"
    },
    "tags": []
   },
   "outputs": [
    {
     "data": {
      "text/plain": [
       "0           NaN\n",
       "1        2111.0\n",
       "2        1833.0\n",
       "3        1863.0\n",
       "4        1509.0\n",
       "          ...  \n",
       "28539    1693.0\n",
       "28540    1693.0\n",
       "28541    1693.0\n",
       "28542    1693.0\n",
       "28543    1693.0\n",
       "Name: transactions, Length: 28544, dtype: float64"
      ]
     },
     "execution_count": 20,
     "metadata": {},
     "output_type": "execute_result"
    }
   ],
   "source": [
    "train['transactions'].ffill()"
   ]
  },
  {
   "cell_type": "code",
   "execution_count": 21,
   "id": "77fa9662",
   "metadata": {
    "execution": {
     "iopub.execute_input": "2024-11-19T05:56:00.230872Z",
     "iopub.status.busy": "2024-11-19T05:56:00.230636Z",
     "iopub.status.idle": "2024-11-19T05:56:00.241726Z",
     "shell.execute_reply": "2024-11-19T05:56:00.240974Z"
    },
    "papermill": {
     "duration": 0.021458,
     "end_time": "2024-11-19T05:56:00.243265",
     "exception": false,
     "start_time": "2024-11-19T05:56:00.221807",
     "status": "completed"
    },
    "tags": []
   },
   "outputs": [
    {
     "data": {
      "text/plain": [
       "id                  0\n",
       "sales               0\n",
       "date                0\n",
       "type            28235\n",
       "locale              0\n",
       "locale_name         0\n",
       "description         0\n",
       "transferred     28235\n",
       "store_nbr           0\n",
       "transactions    26838\n",
       "day_of_week         0\n",
       "month               0\n",
       "quarter             0\n",
       "year                0\n",
       "is_weekend          0\n",
       "dtype: int64"
      ]
     },
     "execution_count": 21,
     "metadata": {},
     "output_type": "execute_result"
    }
   ],
   "source": [
    "train.isna().sum()"
   ]
  },
  {
   "cell_type": "code",
   "execution_count": 22,
   "id": "ef0559a3",
   "metadata": {
    "execution": {
     "iopub.execute_input": "2024-11-19T05:56:00.260705Z",
     "iopub.status.busy": "2024-11-19T05:56:00.260468Z",
     "iopub.status.idle": "2024-11-19T05:56:00.265244Z",
     "shell.execute_reply": "2024-11-19T05:56:00.264511Z"
    },
    "papermill": {
     "duration": 0.015319,
     "end_time": "2024-11-19T05:56:00.266841",
     "exception": false,
     "start_time": "2024-11-19T05:56:00.251522",
     "status": "completed"
    },
    "tags": []
   },
   "outputs": [
    {
     "data": {
      "text/plain": [
       "dtype('O')"
      ]
     },
     "execution_count": 22,
     "metadata": {},
     "output_type": "execute_result"
    }
   ],
   "source": [
    "train['transferred'].dtype"
   ]
  },
  {
   "cell_type": "code",
   "execution_count": 23,
   "id": "1d82f2aa",
   "metadata": {
    "execution": {
     "iopub.execute_input": "2024-11-19T05:56:00.284022Z",
     "iopub.status.busy": "2024-11-19T05:56:00.283783Z",
     "iopub.status.idle": "2024-11-19T05:56:00.289390Z",
     "shell.execute_reply": "2024-11-19T05:56:00.288584Z"
    },
    "papermill": {
     "duration": 0.0162,
     "end_time": "2024-11-19T05:56:00.291084",
     "exception": false,
     "start_time": "2024-11-19T05:56:00.274884",
     "status": "completed"
    },
    "tags": []
   },
   "outputs": [],
   "source": [
    "train['type'] = train['type'].fillna('No Holiday')"
   ]
  },
  {
   "cell_type": "code",
   "execution_count": 24,
   "id": "c5c83f5f",
   "metadata": {
    "execution": {
     "iopub.execute_input": "2024-11-19T05:56:00.309665Z",
     "iopub.status.busy": "2024-11-19T05:56:00.309435Z",
     "iopub.status.idle": "2024-11-19T05:56:00.313699Z",
     "shell.execute_reply": "2024-11-19T05:56:00.313030Z"
    },
    "papermill": {
     "duration": 0.015375,
     "end_time": "2024-11-19T05:56:00.315273",
     "exception": false,
     "start_time": "2024-11-19T05:56:00.299898",
     "status": "completed"
    },
    "tags": []
   },
   "outputs": [],
   "source": [
    "train['transactions'] = train['transactions'].fillna(0)"
   ]
  },
  {
   "cell_type": "code",
   "execution_count": 25,
   "id": "11138c89",
   "metadata": {
    "execution": {
     "iopub.execute_input": "2024-11-19T05:56:00.334190Z",
     "iopub.status.busy": "2024-11-19T05:56:00.333896Z",
     "iopub.status.idle": "2024-11-19T05:56:00.347556Z",
     "shell.execute_reply": "2024-11-19T05:56:00.346598Z"
    },
    "papermill": {
     "duration": 0.024884,
     "end_time": "2024-11-19T05:56:00.349344",
     "exception": false,
     "start_time": "2024-11-19T05:56:00.324460",
     "status": "completed"
    },
    "tags": []
   },
   "outputs": [
    {
     "data": {
      "text/plain": [
       "id                  0\n",
       "sales               0\n",
       "date                0\n",
       "type                0\n",
       "locale              0\n",
       "locale_name         0\n",
       "description         0\n",
       "transferred     28235\n",
       "store_nbr           0\n",
       "transactions        0\n",
       "day_of_week         0\n",
       "month               0\n",
       "quarter             0\n",
       "year                0\n",
       "is_weekend          0\n",
       "dtype: int64"
      ]
     },
     "execution_count": 25,
     "metadata": {},
     "output_type": "execute_result"
    }
   ],
   "source": [
    "train.isna().sum()"
   ]
  },
  {
   "cell_type": "code",
   "execution_count": 26,
   "id": "8e5b0641",
   "metadata": {
    "execution": {
     "iopub.execute_input": "2024-11-19T05:56:00.367904Z",
     "iopub.status.busy": "2024-11-19T05:56:00.367654Z",
     "iopub.status.idle": "2024-11-19T05:56:00.401629Z",
     "shell.execute_reply": "2024-11-19T05:56:00.400830Z"
    },
    "papermill": {
     "duration": 0.045163,
     "end_time": "2024-11-19T05:56:00.403182",
     "exception": false,
     "start_time": "2024-11-19T05:56:00.358019",
     "status": "completed"
    },
    "tags": []
   },
   "outputs": [
    {
     "data": {
      "text/html": [
       "<div>\n",
       "<style scoped>\n",
       "    .dataframe tbody tr th:only-of-type {\n",
       "        vertical-align: middle;\n",
       "    }\n",
       "\n",
       "    .dataframe tbody tr th {\n",
       "        vertical-align: top;\n",
       "    }\n",
       "\n",
       "    .dataframe thead th {\n",
       "        text-align: right;\n",
       "    }\n",
       "</style>\n",
       "<table border=\"1\" class=\"dataframe\">\n",
       "  <thead>\n",
       "    <tr style=\"text-align: right;\">\n",
       "      <th></th>\n",
       "      <th>id</th>\n",
       "      <th>sales</th>\n",
       "      <th>date</th>\n",
       "      <th>store_nbr</th>\n",
       "      <th>transactions</th>\n",
       "      <th>day_of_week</th>\n",
       "      <th>month</th>\n",
       "      <th>quarter</th>\n",
       "      <th>year</th>\n",
       "    </tr>\n",
       "  </thead>\n",
       "  <tbody>\n",
       "    <tr>\n",
       "      <th>count</th>\n",
       "      <td>2.854400e+04</td>\n",
       "      <td>28544.0</td>\n",
       "      <td>28544</td>\n",
       "      <td>28544.0</td>\n",
       "      <td>28544.000000</td>\n",
       "      <td>28544.000000</td>\n",
       "      <td>28544.000000</td>\n",
       "      <td>28544.000000</td>\n",
       "      <td>28544.000000</td>\n",
       "    </tr>\n",
       "    <tr>\n",
       "      <th>mean</th>\n",
       "      <td>3.015129e+06</td>\n",
       "      <td>0.0</td>\n",
       "      <td>2051-12-28 15:51:57.713004544</td>\n",
       "      <td>1.0</td>\n",
       "      <td>90.987598</td>\n",
       "      <td>3.000666</td>\n",
       "      <td>6.519514</td>\n",
       "      <td>2.507567</td>\n",
       "      <td>2051.491487</td>\n",
       "    </tr>\n",
       "    <tr>\n",
       "      <th>min</th>\n",
       "      <td>3.000888e+06</td>\n",
       "      <td>0.0</td>\n",
       "      <td>2013-01-01 00:00:00</td>\n",
       "      <td>1.0</td>\n",
       "      <td>0.000000</td>\n",
       "      <td>0.000000</td>\n",
       "      <td>1.000000</td>\n",
       "      <td>1.000000</td>\n",
       "      <td>2013.000000</td>\n",
       "    </tr>\n",
       "    <tr>\n",
       "      <th>25%</th>\n",
       "      <td>3.007992e+06</td>\n",
       "      <td>0.0</td>\n",
       "      <td>2032-06-13 18:00:00</td>\n",
       "      <td>1.0</td>\n",
       "      <td>0.000000</td>\n",
       "      <td>1.000000</td>\n",
       "      <td>4.000000</td>\n",
       "      <td>2.000000</td>\n",
       "      <td>2032.000000</td>\n",
       "    </tr>\n",
       "    <tr>\n",
       "      <th>50%</th>\n",
       "      <td>3.015128e+06</td>\n",
       "      <td>0.0</td>\n",
       "      <td>2051-12-27 12:00:00</td>\n",
       "      <td>1.0</td>\n",
       "      <td>0.000000</td>\n",
       "      <td>3.000000</td>\n",
       "      <td>7.000000</td>\n",
       "      <td>3.000000</td>\n",
       "      <td>2051.000000</td>\n",
       "    </tr>\n",
       "    <tr>\n",
       "      <th>75%</th>\n",
       "      <td>3.022263e+06</td>\n",
       "      <td>0.0</td>\n",
       "      <td>2071-07-11 06:00:00</td>\n",
       "      <td>1.0</td>\n",
       "      <td>0.000000</td>\n",
       "      <td>5.000000</td>\n",
       "      <td>10.000000</td>\n",
       "      <td>4.000000</td>\n",
       "      <td>2071.000000</td>\n",
       "    </tr>\n",
       "    <tr>\n",
       "      <th>max</th>\n",
       "      <td>3.029399e+06</td>\n",
       "      <td>0.0</td>\n",
       "      <td>2091-01-23 00:00:00</td>\n",
       "      <td>1.0</td>\n",
       "      <td>3023.000000</td>\n",
       "      <td>6.000000</td>\n",
       "      <td>12.000000</td>\n",
       "      <td>4.000000</td>\n",
       "      <td>2091.000000</td>\n",
       "    </tr>\n",
       "    <tr>\n",
       "      <th>std</th>\n",
       "      <td>8.238168e+03</td>\n",
       "      <td>0.0</td>\n",
       "      <td>NaN</td>\n",
       "      <td>0.0</td>\n",
       "      <td>381.558198</td>\n",
       "      <td>2.000026</td>\n",
       "      <td>3.450295</td>\n",
       "      <td>1.117213</td>\n",
       "      <td>22.553822</td>\n",
       "    </tr>\n",
       "  </tbody>\n",
       "</table>\n",
       "</div>"
      ],
      "text/plain": [
       "                 id    sales                           date  store_nbr  \\\n",
       "count  2.854400e+04  28544.0                          28544    28544.0   \n",
       "mean   3.015129e+06      0.0  2051-12-28 15:51:57.713004544        1.0   \n",
       "min    3.000888e+06      0.0            2013-01-01 00:00:00        1.0   \n",
       "25%    3.007992e+06      0.0            2032-06-13 18:00:00        1.0   \n",
       "50%    3.015128e+06      0.0            2051-12-27 12:00:00        1.0   \n",
       "75%    3.022263e+06      0.0            2071-07-11 06:00:00        1.0   \n",
       "max    3.029399e+06      0.0            2091-01-23 00:00:00        1.0   \n",
       "std    8.238168e+03      0.0                            NaN        0.0   \n",
       "\n",
       "       transactions   day_of_week         month       quarter          year  \n",
       "count  28544.000000  28544.000000  28544.000000  28544.000000  28544.000000  \n",
       "mean      90.987598      3.000666      6.519514      2.507567   2051.491487  \n",
       "min        0.000000      0.000000      1.000000      1.000000   2013.000000  \n",
       "25%        0.000000      1.000000      4.000000      2.000000   2032.000000  \n",
       "50%        0.000000      3.000000      7.000000      3.000000   2051.000000  \n",
       "75%        0.000000      5.000000     10.000000      4.000000   2071.000000  \n",
       "max     3023.000000      6.000000     12.000000      4.000000   2091.000000  \n",
       "std      381.558198      2.000026      3.450295      1.117213     22.553822  "
      ]
     },
     "execution_count": 26,
     "metadata": {},
     "output_type": "execute_result"
    }
   ],
   "source": [
    "train.describe()"
   ]
  },
  {
   "cell_type": "markdown",
   "id": "4c46a5f0",
   "metadata": {
    "papermill": {
     "duration": 0.008795,
     "end_time": "2024-11-19T05:56:00.420513",
     "exception": false,
     "start_time": "2024-11-19T05:56:00.411718",
     "status": "completed"
    },
    "tags": []
   },
   "source": [
    "The date looks so unrealistic.\n",
    "checking if id is aligned with date"
   ]
  },
  {
   "cell_type": "code",
   "execution_count": 27,
   "id": "731e4329",
   "metadata": {
    "execution": {
     "iopub.execute_input": "2024-11-19T05:56:00.438637Z",
     "iopub.status.busy": "2024-11-19T05:56:00.438351Z",
     "iopub.status.idle": "2024-11-19T05:56:00.448448Z",
     "shell.execute_reply": "2024-11-19T05:56:00.447522Z"
    },
    "papermill": {
     "duration": 0.020803,
     "end_time": "2024-11-19T05:56:00.450048",
     "exception": false,
     "start_time": "2024-11-19T05:56:00.429245",
     "status": "completed"
    },
    "tags": []
   },
   "outputs": [
    {
     "name": "stdout",
     "output_type": "stream",
     "text": [
      "Unique IDs: 28512,Unique Dates: 28512\n"
     ]
    }
   ],
   "source": [
    "unique_dates = train[['id','date']].drop_duplicates()\n",
    "print(f\"Unique IDs: {unique_dates['id'].nunique()},Unique Dates: {unique_dates['date'].nunique()}\")"
   ]
  },
  {
   "cell_type": "code",
   "execution_count": 28,
   "id": "72eae521",
   "metadata": {
    "execution": {
     "iopub.execute_input": "2024-11-19T05:56:00.468307Z",
     "iopub.status.busy": "2024-11-19T05:56:00.468021Z",
     "iopub.status.idle": "2024-11-19T05:56:00.472855Z",
     "shell.execute_reply": "2024-11-19T05:56:00.472136Z"
    },
    "papermill": {
     "duration": 0.015543,
     "end_time": "2024-11-19T05:56:00.474394",
     "exception": false,
     "start_time": "2024-11-19T05:56:00.458851",
     "status": "completed"
    },
    "tags": []
   },
   "outputs": [
    {
     "name": "stdout",
     "output_type": "stream",
     "text": [
      "Date range: 2013-01-01 00:00:00 to 2091-01-23 00:00:00\n"
     ]
    }
   ],
   "source": [
    "print(f\"Date range: {train['date'].min()} to {train['date'].max()}\")"
   ]
  },
  {
   "cell_type": "code",
   "execution_count": 29,
   "id": "2865ca39",
   "metadata": {
    "execution": {
     "iopub.execute_input": "2024-11-19T05:56:00.492774Z",
     "iopub.status.busy": "2024-11-19T05:56:00.492522Z",
     "iopub.status.idle": "2024-11-19T05:56:00.498646Z",
     "shell.execute_reply": "2024-11-19T05:56:00.497655Z"
    },
    "papermill": {
     "duration": 0.017483,
     "end_time": "2024-11-19T05:56:00.500342",
     "exception": false,
     "start_time": "2024-11-19T05:56:00.482859",
     "status": "completed"
    },
    "tags": []
   },
   "outputs": [],
   "source": [
    "start_date = '2012-01-01'\n",
    "end_date = '2024-01-01'\n",
    "\n",
    "train = train[(train['date'] >= start_date) & (train['date'] <= end_date)]"
   ]
  },
  {
   "cell_type": "code",
   "execution_count": 30,
   "id": "efb8090b",
   "metadata": {
    "execution": {
     "iopub.execute_input": "2024-11-19T05:56:00.518755Z",
     "iopub.status.busy": "2024-11-19T05:56:00.518516Z",
     "iopub.status.idle": "2024-11-19T05:56:00.544927Z",
     "shell.execute_reply": "2024-11-19T05:56:00.544134Z"
    },
    "papermill": {
     "duration": 0.037515,
     "end_time": "2024-11-19T05:56:00.546621",
     "exception": false,
     "start_time": "2024-11-19T05:56:00.509106",
     "status": "completed"
    },
    "tags": []
   },
   "outputs": [
    {
     "data": {
      "text/html": [
       "<div>\n",
       "<style scoped>\n",
       "    .dataframe tbody tr th:only-of-type {\n",
       "        vertical-align: middle;\n",
       "    }\n",
       "\n",
       "    .dataframe tbody tr th {\n",
       "        vertical-align: top;\n",
       "    }\n",
       "\n",
       "    .dataframe thead th {\n",
       "        text-align: right;\n",
       "    }\n",
       "</style>\n",
       "<table border=\"1\" class=\"dataframe\">\n",
       "  <thead>\n",
       "    <tr style=\"text-align: right;\">\n",
       "      <th></th>\n",
       "      <th>id</th>\n",
       "      <th>sales</th>\n",
       "      <th>date</th>\n",
       "      <th>store_nbr</th>\n",
       "      <th>transactions</th>\n",
       "      <th>day_of_week</th>\n",
       "      <th>month</th>\n",
       "      <th>quarter</th>\n",
       "      <th>year</th>\n",
       "    </tr>\n",
       "  </thead>\n",
       "  <tbody>\n",
       "    <tr>\n",
       "      <th>count</th>\n",
       "      <td>4.050000e+03</td>\n",
       "      <td>4050.0</td>\n",
       "      <td>4050</td>\n",
       "      <td>4050.0</td>\n",
       "      <td>4050.000000</td>\n",
       "      <td>4050.000000</td>\n",
       "      <td>4050.000000</td>\n",
       "      <td>4050.000000</td>\n",
       "      <td>4050.000000</td>\n",
       "    </tr>\n",
       "    <tr>\n",
       "      <th>mean</th>\n",
       "      <td>3.002889e+06</td>\n",
       "      <td>0.0</td>\n",
       "      <td>2018-06-24 16:23:49.333333504</td>\n",
       "      <td>1.0</td>\n",
       "      <td>641.271605</td>\n",
       "      <td>3.005185</td>\n",
       "      <td>6.529136</td>\n",
       "      <td>2.509877</td>\n",
       "      <td>2017.979506</td>\n",
       "    </tr>\n",
       "    <tr>\n",
       "      <th>min</th>\n",
       "      <td>3.000888e+06</td>\n",
       "      <td>0.0</td>\n",
       "      <td>2013-01-01 00:00:00</td>\n",
       "      <td>1.0</td>\n",
       "      <td>0.000000</td>\n",
       "      <td>0.000000</td>\n",
       "      <td>1.000000</td>\n",
       "      <td>1.000000</td>\n",
       "      <td>2013.000000</td>\n",
       "    </tr>\n",
       "    <tr>\n",
       "      <th>25%</th>\n",
       "      <td>3.001886e+06</td>\n",
       "      <td>0.0</td>\n",
       "      <td>2015-09-26 06:00:00</td>\n",
       "      <td>1.0</td>\n",
       "      <td>0.000000</td>\n",
       "      <td>1.000000</td>\n",
       "      <td>4.000000</td>\n",
       "      <td>2.000000</td>\n",
       "      <td>2015.000000</td>\n",
       "    </tr>\n",
       "    <tr>\n",
       "      <th>50%</th>\n",
       "      <td>3.002880e+06</td>\n",
       "      <td>0.0</td>\n",
       "      <td>2018-06-16 12:00:00</td>\n",
       "      <td>1.0</td>\n",
       "      <td>0.000000</td>\n",
       "      <td>3.000000</td>\n",
       "      <td>7.000000</td>\n",
       "      <td>3.000000</td>\n",
       "      <td>2018.000000</td>\n",
       "    </tr>\n",
       "    <tr>\n",
       "      <th>75%</th>\n",
       "      <td>3.003893e+06</td>\n",
       "      <td>0.0</td>\n",
       "      <td>2021-03-24 18:00:00</td>\n",
       "      <td>1.0</td>\n",
       "      <td>1702.500000</td>\n",
       "      <td>5.000000</td>\n",
       "      <td>10.000000</td>\n",
       "      <td>4.000000</td>\n",
       "      <td>2021.000000</td>\n",
       "    </tr>\n",
       "    <tr>\n",
       "      <th>max</th>\n",
       "      <td>3.004905e+06</td>\n",
       "      <td>0.0</td>\n",
       "      <td>2024-01-01 00:00:00</td>\n",
       "      <td>1.0</td>\n",
       "      <td>3023.000000</td>\n",
       "      <td>6.000000</td>\n",
       "      <td>12.000000</td>\n",
       "      <td>4.000000</td>\n",
       "      <td>2024.000000</td>\n",
       "    </tr>\n",
       "    <tr>\n",
       "      <th>std</th>\n",
       "      <td>1.159615e+03</td>\n",
       "      <td>0.0</td>\n",
       "      <td>NaN</td>\n",
       "      <td>0.0</td>\n",
       "      <td>820.566381</td>\n",
       "      <td>2.000178</td>\n",
       "      <td>3.445195</td>\n",
       "      <td>1.115475</td>\n",
       "      <td>3.162641</td>\n",
       "    </tr>\n",
       "  </tbody>\n",
       "</table>\n",
       "</div>"
      ],
      "text/plain": [
       "                 id   sales                           date  store_nbr  \\\n",
       "count  4.050000e+03  4050.0                           4050     4050.0   \n",
       "mean   3.002889e+06     0.0  2018-06-24 16:23:49.333333504        1.0   \n",
       "min    3.000888e+06     0.0            2013-01-01 00:00:00        1.0   \n",
       "25%    3.001886e+06     0.0            2015-09-26 06:00:00        1.0   \n",
       "50%    3.002880e+06     0.0            2018-06-16 12:00:00        1.0   \n",
       "75%    3.003893e+06     0.0            2021-03-24 18:00:00        1.0   \n",
       "max    3.004905e+06     0.0            2024-01-01 00:00:00        1.0   \n",
       "std    1.159615e+03     0.0                            NaN        0.0   \n",
       "\n",
       "       transactions  day_of_week        month      quarter         year  \n",
       "count   4050.000000  4050.000000  4050.000000  4050.000000  4050.000000  \n",
       "mean     641.271605     3.005185     6.529136     2.509877  2017.979506  \n",
       "min        0.000000     0.000000     1.000000     1.000000  2013.000000  \n",
       "25%        0.000000     1.000000     4.000000     2.000000  2015.000000  \n",
       "50%        0.000000     3.000000     7.000000     3.000000  2018.000000  \n",
       "75%     1702.500000     5.000000    10.000000     4.000000  2021.000000  \n",
       "max     3023.000000     6.000000    12.000000     4.000000  2024.000000  \n",
       "std      820.566381     2.000178     3.445195     1.115475     3.162641  "
      ]
     },
     "execution_count": 30,
     "metadata": {},
     "output_type": "execute_result"
    }
   ],
   "source": [
    "train.describe()"
   ]
  },
  {
   "cell_type": "markdown",
   "id": "5f113d1a",
   "metadata": {
    "papermill": {
     "duration": 0.008619,
     "end_time": "2024-11-19T05:56:00.564385",
     "exception": false,
     "start_time": "2024-11-19T05:56:00.555766",
     "status": "completed"
    },
    "tags": []
   },
   "source": [
    "setting date as the index for easier time-based analysis"
   ]
  },
  {
   "cell_type": "code",
   "execution_count": 31,
   "id": "8f2dcd1f",
   "metadata": {
    "execution": {
     "iopub.execute_input": "2024-11-19T05:56:00.582931Z",
     "iopub.status.busy": "2024-11-19T05:56:00.582693Z",
     "iopub.status.idle": "2024-11-19T05:56:00.586904Z",
     "shell.execute_reply": "2024-11-19T05:56:00.586264Z"
    },
    "papermill": {
     "duration": 0.015154,
     "end_time": "2024-11-19T05:56:00.588407",
     "exception": false,
     "start_time": "2024-11-19T05:56:00.573253",
     "status": "completed"
    },
    "tags": []
   },
   "outputs": [],
   "source": [
    "train.set_index('date',inplace= True)\n",
    "train.sort_index(inplace=True)"
   ]
  },
  {
   "cell_type": "code",
   "execution_count": 32,
   "id": "d6d9dd37",
   "metadata": {
    "execution": {
     "iopub.execute_input": "2024-11-19T05:56:00.607297Z",
     "iopub.status.busy": "2024-11-19T05:56:00.606655Z",
     "iopub.status.idle": "2024-11-19T05:56:00.611983Z",
     "shell.execute_reply": "2024-11-19T05:56:00.611204Z"
    },
    "papermill": {
     "duration": 0.016069,
     "end_time": "2024-11-19T05:56:00.613529",
     "exception": false,
     "start_time": "2024-11-19T05:56:00.597460",
     "status": "completed"
    },
    "tags": []
   },
   "outputs": [
    {
     "data": {
      "text/plain": [
       "0"
      ]
     },
     "execution_count": 32,
     "metadata": {},
     "output_type": "execute_result"
    }
   ],
   "source": [
    "train['sales'].isna().sum()"
   ]
  },
  {
   "cell_type": "markdown",
   "id": "d98248f3",
   "metadata": {
    "papermill": {
     "duration": 0.008456,
     "end_time": "2024-11-19T05:56:00.630760",
     "exception": false,
     "start_time": "2024-11-19T05:56:00.622304",
     "status": "completed"
    },
    "tags": []
   },
   "source": [
    "Feature Engineering"
   ]
  },
  {
   "cell_type": "code",
   "execution_count": 33,
   "id": "a02aa587",
   "metadata": {
    "execution": {
     "iopub.execute_input": "2024-11-19T05:56:00.649193Z",
     "iopub.status.busy": "2024-11-19T05:56:00.648936Z",
     "iopub.status.idle": "2024-11-19T05:56:00.653646Z",
     "shell.execute_reply": "2024-11-19T05:56:00.652993Z"
    },
    "papermill": {
     "duration": 0.015736,
     "end_time": "2024-11-19T05:56:00.655127",
     "exception": false,
     "start_time": "2024-11-19T05:56:00.639391",
     "status": "completed"
    },
    "tags": []
   },
   "outputs": [],
   "source": [
    "train['sales_7d_avg'] = train['sales'].rolling(window=7,min_periods=1).mean()"
   ]
  },
  {
   "cell_type": "code",
   "execution_count": 34,
   "id": "bec4964a",
   "metadata": {
    "execution": {
     "iopub.execute_input": "2024-11-19T05:56:00.673740Z",
     "iopub.status.busy": "2024-11-19T05:56:00.673495Z",
     "iopub.status.idle": "2024-11-19T05:56:00.681419Z",
     "shell.execute_reply": "2024-11-19T05:56:00.680728Z"
    },
    "papermill": {
     "duration": 0.019043,
     "end_time": "2024-11-19T05:56:00.682956",
     "exception": false,
     "start_time": "2024-11-19T05:56:00.663913",
     "status": "completed"
    },
    "tags": []
   },
   "outputs": [
    {
     "data": {
      "text/plain": [
       "id                 0\n",
       "sales              0\n",
       "type               0\n",
       "locale             0\n",
       "locale_name        0\n",
       "description        0\n",
       "transferred     3741\n",
       "store_nbr          0\n",
       "transactions       0\n",
       "day_of_week        0\n",
       "month              0\n",
       "quarter            0\n",
       "year               0\n",
       "is_weekend         0\n",
       "sales_7d_avg       0\n",
       "dtype: int64"
      ]
     },
     "execution_count": 34,
     "metadata": {},
     "output_type": "execute_result"
    }
   ],
   "source": [
    "train.isna().sum()"
   ]
  },
  {
   "cell_type": "code",
   "execution_count": 35,
   "id": "9cb92897",
   "metadata": {
    "execution": {
     "iopub.execute_input": "2024-11-19T05:56:00.702641Z",
     "iopub.status.busy": "2024-11-19T05:56:00.702399Z",
     "iopub.status.idle": "2024-11-19T05:56:00.707263Z",
     "shell.execute_reply": "2024-11-19T05:56:00.706507Z"
    },
    "papermill": {
     "duration": 0.017002,
     "end_time": "2024-11-19T05:56:00.708796",
     "exception": false,
     "start_time": "2024-11-19T05:56:00.691794",
     "status": "completed"
    },
    "tags": []
   },
   "outputs": [
    {
     "data": {
      "text/plain": [
       "dtype('O')"
      ]
     },
     "execution_count": 35,
     "metadata": {},
     "output_type": "execute_result"
    }
   ],
   "source": [
    "train['transferred'].dtype"
   ]
  },
  {
   "cell_type": "code",
   "execution_count": 36,
   "id": "5977d0e9",
   "metadata": {
    "execution": {
     "iopub.execute_input": "2024-11-19T05:56:00.727747Z",
     "iopub.status.busy": "2024-11-19T05:56:00.727494Z",
     "iopub.status.idle": "2024-11-19T05:56:00.731406Z",
     "shell.execute_reply": "2024-11-19T05:56:00.730590Z"
    },
    "papermill": {
     "duration": 0.014993,
     "end_time": "2024-11-19T05:56:00.732949",
     "exception": false,
     "start_time": "2024-11-19T05:56:00.717956",
     "status": "completed"
    },
    "tags": []
   },
   "outputs": [],
   "source": [
    "train['transferred'] = train['transferred'].astype(bool)"
   ]
  },
  {
   "cell_type": "code",
   "execution_count": 37,
   "id": "a3253f8f",
   "metadata": {
    "execution": {
     "iopub.execute_input": "2024-11-19T05:56:00.751554Z",
     "iopub.status.busy": "2024-11-19T05:56:00.751306Z",
     "iopub.status.idle": "2024-11-19T05:56:00.755010Z",
     "shell.execute_reply": "2024-11-19T05:56:00.754259Z"
    },
    "papermill": {
     "duration": 0.014717,
     "end_time": "2024-11-19T05:56:00.756601",
     "exception": false,
     "start_time": "2024-11-19T05:56:00.741884",
     "status": "completed"
    },
    "tags": []
   },
   "outputs": [],
   "source": [
    "train['transferred'] = train['transferred'].fillna(False)"
   ]
  },
  {
   "cell_type": "code",
   "execution_count": 38,
   "id": "981c7cc0",
   "metadata": {
    "execution": {
     "iopub.execute_input": "2024-11-19T05:56:00.776178Z",
     "iopub.status.busy": "2024-11-19T05:56:00.775505Z",
     "iopub.status.idle": "2024-11-19T05:56:00.782819Z",
     "shell.execute_reply": "2024-11-19T05:56:00.782097Z"
    },
    "papermill": {
     "duration": 0.018693,
     "end_time": "2024-11-19T05:56:00.784486",
     "exception": false,
     "start_time": "2024-11-19T05:56:00.765793",
     "status": "completed"
    },
    "tags": []
   },
   "outputs": [
    {
     "data": {
      "text/plain": [
       "id              0\n",
       "sales           0\n",
       "type            0\n",
       "locale          0\n",
       "locale_name     0\n",
       "description     0\n",
       "transferred     0\n",
       "store_nbr       0\n",
       "transactions    0\n",
       "day_of_week     0\n",
       "month           0\n",
       "quarter         0\n",
       "year            0\n",
       "is_weekend      0\n",
       "sales_7d_avg    0\n",
       "dtype: int64"
      ]
     },
     "execution_count": 38,
     "metadata": {},
     "output_type": "execute_result"
    }
   ],
   "source": [
    "train.isna().sum()"
   ]
  },
  {
   "cell_type": "code",
   "execution_count": 39,
   "id": "bc948f77",
   "metadata": {
    "execution": {
     "iopub.execute_input": "2024-11-19T05:56:00.804812Z",
     "iopub.status.busy": "2024-11-19T05:56:00.804579Z",
     "iopub.status.idle": "2024-11-19T05:56:00.815767Z",
     "shell.execute_reply": "2024-11-19T05:56:00.814761Z"
    },
    "papermill": {
     "duration": 0.022926,
     "end_time": "2024-11-19T05:56:00.817461",
     "exception": false,
     "start_time": "2024-11-19T05:56:00.794535",
     "status": "completed"
    },
    "tags": []
   },
   "outputs": [
    {
     "name": "stdout",
     "output_type": "stream",
     "text": [
      "<class 'pandas.core.frame.DataFrame'>\n",
      "DatetimeIndex: 4050 entries, 2013-01-01 to 2024-01-01\n",
      "Data columns (total 15 columns):\n",
      " #   Column        Non-Null Count  Dtype  \n",
      "---  ------        --------------  -----  \n",
      " 0   id            4050 non-null   int64  \n",
      " 1   sales         4050 non-null   float64\n",
      " 2   type          4050 non-null   object \n",
      " 3   locale        4050 non-null   object \n",
      " 4   locale_name   4050 non-null   object \n",
      " 5   description   4050 non-null   object \n",
      " 6   transferred   4050 non-null   bool   \n",
      " 7   store_nbr     4050 non-null   int64  \n",
      " 8   transactions  4050 non-null   float64\n",
      " 9   day_of_week   4050 non-null   int32  \n",
      " 10  month         4050 non-null   int32  \n",
      " 11  quarter       4050 non-null   int32  \n",
      " 12  year          4050 non-null   int32  \n",
      " 13  is_weekend    4050 non-null   bool   \n",
      " 14  sales_7d_avg  4050 non-null   float64\n",
      "dtypes: bool(2), float64(3), int32(4), int64(2), object(4)\n",
      "memory usage: 387.6+ KB\n"
     ]
    }
   ],
   "source": [
    "train.info()"
   ]
  },
  {
   "cell_type": "code",
   "execution_count": 40,
   "id": "3e7cbd04",
   "metadata": {
    "execution": {
     "iopub.execute_input": "2024-11-19T05:56:00.836322Z",
     "iopub.status.busy": "2024-11-19T05:56:00.836066Z",
     "iopub.status.idle": "2024-11-19T05:56:00.844894Z",
     "shell.execute_reply": "2024-11-19T05:56:00.844334Z"
    },
    "papermill": {
     "duration": 0.019859,
     "end_time": "2024-11-19T05:56:00.846414",
     "exception": false,
     "start_time": "2024-11-19T05:56:00.826555",
     "status": "completed"
    },
    "tags": []
   },
   "outputs": [],
   "source": [
    "train = pd.get_dummies(train,columns=['type','locale','locale_name'],drop_first=True)"
   ]
  },
  {
   "cell_type": "code",
   "execution_count": 41,
   "id": "2db9dafb",
   "metadata": {
    "execution": {
     "iopub.execute_input": "2024-11-19T05:56:00.865518Z",
     "iopub.status.busy": "2024-11-19T05:56:00.864978Z",
     "iopub.status.idle": "2024-11-19T05:56:00.868999Z",
     "shell.execute_reply": "2024-11-19T05:56:00.868334Z"
    },
    "papermill": {
     "duration": 0.015277,
     "end_time": "2024-11-19T05:56:00.870585",
     "exception": false,
     "start_time": "2024-11-19T05:56:00.855308",
     "status": "completed"
    },
    "tags": []
   },
   "outputs": [],
   "source": [
    "numeric_data = train.select_dtypes(include=['float64','int64','int32'])"
   ]
  },
  {
   "cell_type": "code",
   "execution_count": 42,
   "id": "ce2c6a4c",
   "metadata": {
    "execution": {
     "iopub.execute_input": "2024-11-19T05:56:00.889577Z",
     "iopub.status.busy": "2024-11-19T05:56:00.889367Z",
     "iopub.status.idle": "2024-11-19T05:56:02.566934Z",
     "shell.execute_reply": "2024-11-19T05:56:02.566106Z"
    },
    "papermill": {
     "duration": 1.689086,
     "end_time": "2024-11-19T05:56:02.568751",
     "exception": false,
     "start_time": "2024-11-19T05:56:00.879665",
     "status": "completed"
    },
    "tags": []
   },
   "outputs": [
    {
     "data": {
      "image/png": "[encoded data removed]",
      "text/plain": [
       "<Figure size 1000x600 with 2 Axes>"
      ]
     },
     "metadata": {},
     "output_type": "display_data"
    }
   ],
   "source": [
    "import matplotlib.pyplot as plt\n",
    "import seaborn as sns\n",
    "plt.figure(figsize=(10,6))\n",
    "sns.heatmap(numeric_data.corr(),annot=True, cmap='coolwarm')\n",
    "plt.title('Correlation Heatmap')\n",
    "plt.show()"
   ]
  },
  {
   "cell_type": "markdown",
   "id": "35d2d231",
   "metadata": {
    "papermill": {
     "duration": 0.009636,
     "end_time": "2024-11-19T05:56:02.588660",
     "exception": false,
     "start_time": "2024-11-19T05:56:02.579024",
     "status": "completed"
    },
    "tags": []
   },
   "source": [
    "Feature selection"
   ]
  },
  {
   "cell_type": "code",
   "execution_count": 43,
   "id": "5be07c7a",
   "metadata": {
    "execution": {
     "iopub.execute_input": "2024-11-19T05:56:02.609808Z",
     "iopub.status.busy": "2024-11-19T05:56:02.609002Z",
     "iopub.status.idle": "2024-11-19T05:56:02.616425Z",
     "shell.execute_reply": "2024-11-19T05:56:02.615594Z"
    },
    "papermill": {
     "duration": 0.019619,
     "end_time": "2024-11-19T05:56:02.618051",
     "exception": false,
     "start_time": "2024-11-19T05:56:02.598432",
     "status": "completed"
    },
    "tags": []
   },
   "outputs": [
    {
     "data": {
      "text/plain": [
       "Index(['sales', 'description', 'transferred', 'store_nbr', 'transactions',\n",
       "       'day_of_week', 'month', 'year', 'is_weekend', 'sales_7d_avg',\n",
       "       'type_Bridge', 'type_Event', 'type_Holiday', 'type_No Holiday',\n",
       "       'type_Transfer', 'type_Work Day', 'locale_National', 'locale_Regional',\n",
       "       'locale_name_Cayambe', 'locale_name_Cotopaxi', 'locale_name_Cuenca',\n",
       "       'locale_name_Ecuador', 'locale_name_El Carmen',\n",
       "       'locale_name_Esmeraldas', 'locale_name_Guaranda',\n",
       "       'locale_name_Guayaquil', 'locale_name_Ibarra', 'locale_name_Imbabura',\n",
       "       'locale_name_Latacunga', 'locale_name_Libertad', 'locale_name_Loja',\n",
       "       'locale_name_Machala', 'locale_name_Manta', 'locale_name_Puyo',\n",
       "       'locale_name_Quevedo', 'locale_name_Quito', 'locale_name_Riobamba',\n",
       "       'locale_name_Salinas', 'locale_name_Santa Elena',\n",
       "       'locale_name_Santo Domingo',\n",
       "       'locale_name_Santo Domingo de los Tsachilas'],\n",
       "      dtype='object')"
      ]
     },
     "execution_count": 43,
     "metadata": {},
     "output_type": "execute_result"
    }
   ],
   "source": [
    "train = train.drop(columns=['id','quarter']) \n",
    "train.columns"
   ]
  }
 ],
 "metadata": {
  "kaggle": {
   "accelerator": "nvidiaTeslaT4",
   "dataSources": [
    {
     "databundleVersionId": 2887556,
     "sourceId": 29781,
     "sourceType": "competition"
    }
   ],
   "dockerImageVersionId": 30787,
   "isGpuEnabled": true,
   "isInternetEnabled": true,
   "language": "python",
   "sourceType": "notebook"
  },
  "kernelspec": {
   "display_name": "Python 3",
   "language": "python",
   "name": "python3"
  },
  "language_info": {
   "codemirror_mode": {
    "name": "ipython",
    "version": 3
   },
   "file_extension": ".py",
   "mimetype": "text/x-python",
   "name": "python",
   "nbconvert_exporter": "python",
   "pygments_lexer": "ipython3",
   "version": "3.10.14"
  },
  "papermill": {
   "default_parameters": {},
   "duration": 6.702507,
   "end_time": "2024-11-19T05:56:03.046047",
   "environment_variables": {},
   "exception": null,
   "input_path": "__notebook__.ipynb",
   "output_path": "__notebook__.ipynb",
   "parameters": {},
   "start_time": "2024-11-19T05:55:56.343540",
   "version": "2.6.0"
  }
 },
 "nbformat": 4,
 "nbformat_minor": 5
}
