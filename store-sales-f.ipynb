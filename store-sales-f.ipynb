{
 "cells": [
  {
   "cell_type": "code",
   "execution_count": 1,
   "id": "eef0d3d1",
   "metadata": {
    "_cell_guid": "b1076dfc-b9ad-4769-8c92-a6c4dae69d19",
    "_uuid": "8f2839f25d086af736a60e9eeb907d3b93b6e0e5",
    "execution": {
     "iopub.execute_input": "2024-11-18T05:13:31.778597Z",
     "iopub.status.busy": "2024-11-18T05:13:31.777979Z",
     "iopub.status.idle": "2024-11-18T05:13:32.653316Z",
     "shell.execute_reply": "2024-11-18T05:13:32.652183Z"
    },
    "papermill": {
     "duration": 0.889594,
     "end_time": "2024-11-18T05:13:32.655461",
     "exception": false,
     "start_time": "2024-11-18T05:13:31.765867",
     "status": "completed"
    },
    "tags": []
   },
   "outputs": [
    {
     "name": "stdout",
     "output_type": "stream",
     "text": [
      "/kaggle/input/store-sales-time-series-forecasting/oil.csv\n",
      "/kaggle/input/store-sales-time-series-forecasting/sample_submission.csv\n",
      "/kaggle/input/store-sales-time-series-forecasting/holidays_events.csv\n",
      "/kaggle/input/store-sales-time-series-forecasting/stores.csv\n",
      "/kaggle/input/store-sales-time-series-forecasting/train.csv\n",
      "/kaggle/input/store-sales-time-series-forecasting/test.csv\n",
      "/kaggle/input/store-sales-time-series-forecasting/transactions.csv\n"
     ]
    }
   ],
   "source": [
    "# This Python 3 environment comes with many helpful analytics libraries installed\n",
    "# It is defined by the kaggle/python Docker image: https://github.com/kaggle/docker-python\n",
    "# For example, here's several helpful packages to load\n",
    "\n",
    "import numpy as np # linear algebra\n",
    "import pandas as pd # data processing, CSV file I/O (e.g. pd.read_csv)\n",
    "\n",
    "# Input data files are available in the read-only \"../input/\" directory\n",
    "# For example, running this (by clicking run or pressing Shift+Enter) will list all files under the input directory\n",
    "\n",
    "import os\n",
    "for dirname, _, filenames in os.walk('/kaggle/input'):\n",
    "    for filename in filenames:\n",
    "        print(os.path.join(dirname, filename))\n",
    "\n",
    "# You can write up to 20GB to the current directory (/kaggle/working/) that gets preserved as output when you create a version using \"Save & Run All\" \n",
    "# You can also write temporary files to /kaggle/temp/, but they won't be saved outside of the current session"
   ]
  },
  {
   "cell_type": "code",
   "execution_count": 2,
   "id": "db491fed",
   "metadata": {
    "execution": {
     "iopub.execute_input": "2024-11-18T05:13:32.678766Z",
     "iopub.status.busy": "2024-11-18T05:13:32.678364Z",
     "iopub.status.idle": "2024-11-18T05:13:32.874668Z",
     "shell.execute_reply": "2024-11-18T05:13:32.873553Z"
    },
    "papermill": {
     "duration": 0.209504,
     "end_time": "2024-11-18T05:13:32.876674",
     "exception": false,
     "start_time": "2024-11-18T05:13:32.667170",
     "status": "completed"
    },
    "tags": []
   },
   "outputs": [
    {
     "name": "stdout",
     "output_type": "stream",
     "text": [
      "Train data\n",
      "        id  sales\n",
      "0  3000888    0.0\n",
      "1  3000889    0.0\n",
      "2  3000890    0.0\n",
      "3  3000891    0.0\n",
      "4  3000892    0.0\n",
      "<class 'pandas.core.frame.DataFrame'>\n",
      "RangeIndex: 28512 entries, 0 to 28511\n",
      "Data columns (total 2 columns):\n",
      " #   Column  Non-Null Count  Dtype  \n",
      "---  ------  --------------  -----  \n",
      " 0   id      28512 non-null  int64  \n",
      " 1   sales   28512 non-null  float64\n",
      "dtypes: float64(1), int64(1)\n",
      "memory usage: 445.6 KB\n",
      "None\n",
      "\n",
      "Test data\n",
      "        id        date  store_nbr      family  onpromotion\n",
      "0  3000888  2017-08-16          1  AUTOMOTIVE            0\n",
      "1  3000889  2017-08-16          1   BABY CARE            0\n",
      "2  3000890  2017-08-16          1      BEAUTY            2\n",
      "3  3000891  2017-08-16          1   BEVERAGES           20\n",
      "4  3000892  2017-08-16          1       BOOKS            0\n",
      "<class 'pandas.core.frame.DataFrame'>\n",
      "RangeIndex: 28512 entries, 0 to 28511\n",
      "Data columns (total 5 columns):\n",
      " #   Column       Non-Null Count  Dtype \n",
      "---  ------       --------------  ----- \n",
      " 0   id           28512 non-null  int64 \n",
      " 1   date         28512 non-null  object\n",
      " 2   store_nbr    28512 non-null  int64 \n",
      " 3   family       28512 non-null  object\n",
      " 4   onpromotion  28512 non-null  int64 \n",
      "dtypes: int64(3), object(2)\n",
      "memory usage: 1.1+ MB\n",
      "None\n",
      "\n",
      "Holidays data\n",
      "         date     type    locale locale_name                    description  \\\n",
      "0  2012-03-02  Holiday     Local       Manta             Fundacion de Manta   \n",
      "1  2012-04-01  Holiday  Regional    Cotopaxi  Provincializacion de Cotopaxi   \n",
      "2  2012-04-12  Holiday     Local      Cuenca            Fundacion de Cuenca   \n",
      "3  2012-04-14  Holiday     Local    Libertad      Cantonizacion de Libertad   \n",
      "4  2012-04-21  Holiday     Local    Riobamba      Cantonizacion de Riobamba   \n",
      "\n",
      "   transferred  \n",
      "0        False  \n",
      "1        False  \n",
      "2        False  \n",
      "3        False  \n",
      "4        False  \n",
      "<class 'pandas.core.frame.DataFrame'>\n",
      "RangeIndex: 350 entries, 0 to 349\n",
      "Data columns (total 6 columns):\n",
      " #   Column       Non-Null Count  Dtype \n",
      "---  ------       --------------  ----- \n",
      " 0   date         350 non-null    object\n",
      " 1   type         350 non-null    object\n",
      " 2   locale       350 non-null    object\n",
      " 3   locale_name  350 non-null    object\n",
      " 4   description  350 non-null    object\n",
      " 5   transferred  350 non-null    bool  \n",
      "dtypes: bool(1), object(5)\n",
      "memory usage: 14.1+ KB\n",
      "None\n",
      "\n",
      "Store data\n",
      "   store_nbr           city                           state type  cluster\n",
      "0          1          Quito                       Pichincha    D       13\n",
      "1          2          Quito                       Pichincha    D       13\n",
      "2          3          Quito                       Pichincha    D        8\n",
      "3          4          Quito                       Pichincha    D        9\n",
      "4          5  Santo Domingo  Santo Domingo de los Tsachilas    D        4\n",
      "<class 'pandas.core.frame.DataFrame'>\n",
      "RangeIndex: 54 entries, 0 to 53\n",
      "Data columns (total 5 columns):\n",
      " #   Column     Non-Null Count  Dtype \n",
      "---  ------     --------------  ----- \n",
      " 0   store_nbr  54 non-null     int64 \n",
      " 1   city       54 non-null     object\n",
      " 2   state      54 non-null     object\n",
      " 3   type       54 non-null     object\n",
      " 4   cluster    54 non-null     int64 \n",
      "dtypes: int64(2), object(3)\n",
      "memory usage: 2.2+ KB\n",
      "None\n",
      "\n",
      "Transactions data\n",
      "         date  store_nbr  transactions\n",
      "0  2013-01-01         25           770\n",
      "1  2013-01-02          1          2111\n",
      "2  2013-01-02          2          2358\n",
      "3  2013-01-02          3          3487\n",
      "4  2013-01-02          4          1922\n",
      "<class 'pandas.core.frame.DataFrame'>\n",
      "RangeIndex: 83488 entries, 0 to 83487\n",
      "Data columns (total 3 columns):\n",
      " #   Column        Non-Null Count  Dtype \n",
      "---  ------        --------------  ----- \n",
      " 0   date          83488 non-null  object\n",
      " 1   store_nbr     83488 non-null  int64 \n",
      " 2   transactions  83488 non-null  int64 \n",
      "dtypes: int64(2), object(1)\n",
      "memory usage: 1.9+ MB\n",
      "None\n",
      "\n",
      "Oil data\n",
      "         date  dcoilwtico\n",
      "0  2013-01-01         NaN\n",
      "1  2013-01-02       93.14\n",
      "2  2013-01-03       92.97\n",
      "3  2013-01-04       93.12\n",
      "4  2013-01-07       93.20\n",
      "<class 'pandas.core.frame.DataFrame'>\n",
      "RangeIndex: 1218 entries, 0 to 1217\n",
      "Data columns (total 2 columns):\n",
      " #   Column      Non-Null Count  Dtype  \n",
      "---  ------      --------------  -----  \n",
      " 0   date        1218 non-null   object \n",
      " 1   dcoilwtico  1175 non-null   float64\n",
      "dtypes: float64(1), object(1)\n",
      "memory usage: 19.2+ KB\n",
      "None\n"
     ]
    }
   ],
   "source": [
    "import pandas as pd \n",
    "train = pd.read_csv('/kaggle/input/store-sales-time-series-forecasting/sample_submission.csv')\n",
    "test = pd.read_csv('/kaggle/input/store-sales-time-series-forecasting/test.csv')\n",
    "holidays = pd.read_csv('/kaggle/input/store-sales-time-series-forecasting/holidays_events.csv')\n",
    "stores = pd.read_csv('/kaggle/input/store-sales-time-series-forecasting/stores.csv')\n",
    "transactions = pd.read_csv('/kaggle/input/store-sales-time-series-forecasting/transactions.csv')\n",
    "oil = pd.read_csv('/kaggle/input/store-sales-time-series-forecasting/oil.csv')\n",
    "\n",
    "print(\"Train data\")\n",
    "print(train.head())\n",
    "print(train.info())\n",
    "\n",
    "print('\\nTest data')\n",
    "print(test.head())\n",
    "print(test.info())\n",
    "\n",
    "print('\\nHolidays data')\n",
    "print(holidays.head())\n",
    "print(holidays.info())\n",
    "\n",
    "print('\\nStore data')\n",
    "print(stores.head())\n",
    "print(stores.info())\n",
    "\n",
    "print('\\nTransactions data')\n",
    "print(transactions.head())\n",
    "print(transactions.info())\n",
    "\n",
    "print('\\nOil data')\n",
    "print(oil.head())\n",
    "print(oil.info())"
   ]
  },
  {
   "cell_type": "code",
   "execution_count": 3,
   "id": "b209e821",
   "metadata": {
    "execution": {
     "iopub.execute_input": "2024-11-18T05:13:32.899867Z",
     "iopub.status.busy": "2024-11-18T05:13:32.899558Z",
     "iopub.status.idle": "2024-11-18T05:13:32.906303Z",
     "shell.execute_reply": "2024-11-18T05:13:32.905406Z"
    },
    "papermill": {
     "duration": 0.020112,
     "end_time": "2024-11-18T05:13:32.908295",
     "exception": false,
     "start_time": "2024-11-18T05:13:32.888183",
     "status": "completed"
    },
    "tags": []
   },
   "outputs": [
    {
     "data": {
      "text/plain": [
       "Index(['id', 'sales'], dtype='object')"
      ]
     },
     "execution_count": 3,
     "metadata": {},
     "output_type": "execute_result"
    }
   ],
   "source": [
    "train.columns"
   ]
  },
  {
   "cell_type": "code",
   "execution_count": 4,
   "id": "9f4bba6b",
   "metadata": {
    "execution": {
     "iopub.execute_input": "2024-11-18T05:13:32.931546Z",
     "iopub.status.busy": "2024-11-18T05:13:32.931260Z",
     "iopub.status.idle": "2024-11-18T05:13:32.938221Z",
     "shell.execute_reply": "2024-11-18T05:13:32.937375Z"
    },
    "papermill": {
     "duration": 0.021242,
     "end_time": "2024-11-18T05:13:32.940086",
     "exception": false,
     "start_time": "2024-11-18T05:13:32.918844",
     "status": "completed"
    },
    "tags": []
   },
   "outputs": [
    {
     "data": {
      "text/plain": [
       "id       0\n",
       "sales    0\n",
       "dtype: int64"
      ]
     },
     "execution_count": 4,
     "metadata": {},
     "output_type": "execute_result"
    }
   ],
   "source": [
    "train.isna().sum()"
   ]
  },
  {
   "cell_type": "code",
   "execution_count": 5,
   "id": "dcf08180",
   "metadata": {
    "execution": {
     "iopub.execute_input": "2024-11-18T05:13:32.963236Z",
     "iopub.status.busy": "2024-11-18T05:13:32.962723Z",
     "iopub.status.idle": "2024-11-18T05:13:32.969735Z",
     "shell.execute_reply": "2024-11-18T05:13:32.968815Z"
    },
    "papermill": {
     "duration": 0.020858,
     "end_time": "2024-11-18T05:13:32.971844",
     "exception": false,
     "start_time": "2024-11-18T05:13:32.950986",
     "status": "completed"
    },
    "tags": []
   },
   "outputs": [
    {
     "data": {
      "text/plain": [
       "date           0\n",
       "dcoilwtico    43\n",
       "dtype: int64"
      ]
     },
     "execution_count": 5,
     "metadata": {},
     "output_type": "execute_result"
    }
   ],
   "source": [
    "oil.isna().sum()"
   ]
  },
  {
   "cell_type": "code",
   "execution_count": 6,
   "id": "e564ff15",
   "metadata": {
    "execution": {
     "iopub.execute_input": "2024-11-18T05:13:32.996398Z",
     "iopub.status.busy": "2024-11-18T05:13:32.995776Z",
     "iopub.status.idle": "2024-11-18T05:13:33.013319Z",
     "shell.execute_reply": "2024-11-18T05:13:33.012460Z"
    },
    "papermill": {
     "duration": 0.031742,
     "end_time": "2024-11-18T05:13:33.015225",
     "exception": false,
     "start_time": "2024-11-18T05:13:32.983483",
     "status": "completed"
    },
    "tags": []
   },
   "outputs": [
    {
     "data": {
      "text/plain": [
       "date          0\n",
       "dcoilwtico    0\n",
       "dtype: int64"
      ]
     },
     "execution_count": 6,
     "metadata": {},
     "output_type": "execute_result"
    }
   ],
   "source": [
    "oil['date'] = pd.to_datetime(oil['date']) \n",
    "oil = oil.sort_values(by='date') \n",
    "# Forward fill as an alternative to interpolation\n",
    "oil['dcoilwtico'] = oil['dcoilwtico'].ffill()\n",
    "oil['dcoilwtico'] = oil['dcoilwtico'].bfill()\n",
    "oil.isna().sum()"
   ]
  },
  {
   "cell_type": "code",
   "execution_count": 7,
   "id": "d892b3bb",
   "metadata": {
    "execution": {
     "iopub.execute_input": "2024-11-18T05:13:33.039029Z",
     "iopub.status.busy": "2024-11-18T05:13:33.038760Z",
     "iopub.status.idle": "2024-11-18T05:13:33.045386Z",
     "shell.execute_reply": "2024-11-18T05:13:33.044542Z"
    },
    "papermill": {
     "duration": 0.020672,
     "end_time": "2024-11-18T05:13:33.047306",
     "exception": false,
     "start_time": "2024-11-18T05:13:33.026634",
     "status": "completed"
    },
    "tags": []
   },
   "outputs": [
    {
     "data": {
      "text/plain": [
       "Index(['date', 'type', 'locale', 'locale_name', 'description', 'transferred'], dtype='object')"
      ]
     },
     "execution_count": 7,
     "metadata": {},
     "output_type": "execute_result"
    }
   ],
   "source": [
    "holidays.columns"
   ]
  },
  {
   "cell_type": "code",
   "execution_count": 8,
   "id": "c73f4d5b",
   "metadata": {
    "execution": {
     "iopub.execute_input": "2024-11-18T05:13:33.070862Z",
     "iopub.status.busy": "2024-11-18T05:13:33.070584Z",
     "iopub.status.idle": "2024-11-18T05:13:33.084919Z",
     "shell.execute_reply": "2024-11-18T05:13:33.084101Z"
    },
    "papermill": {
     "duration": 0.028349,
     "end_time": "2024-11-18T05:13:33.086722",
     "exception": false,
     "start_time": "2024-11-18T05:13:33.058373",
     "status": "completed"
    },
    "tags": []
   },
   "outputs": [],
   "source": [
    "holidays['date'] = pd.to_datetime(holidays['date'])\n",
    "holidays = holidays.sort_values(by='date')\n",
    "\n"
   ]
  },
  {
   "cell_type": "code",
   "execution_count": 9,
   "id": "12aa6951",
   "metadata": {
    "execution": {
     "iopub.execute_input": "2024-11-18T05:13:33.109975Z",
     "iopub.status.busy": "2024-11-18T05:13:33.109697Z",
     "iopub.status.idle": "2024-11-18T05:13:33.115087Z",
     "shell.execute_reply": "2024-11-18T05:13:33.114282Z"
    },
    "papermill": {
     "duration": 0.019218,
     "end_time": "2024-11-18T05:13:33.116970",
     "exception": false,
     "start_time": "2024-11-18T05:13:33.097752",
     "status": "completed"
    },
    "tags": []
   },
   "outputs": [
    {
     "data": {
      "text/plain": [
       "Index(['date', 'store_nbr', 'transactions'], dtype='object')"
      ]
     },
     "execution_count": 9,
     "metadata": {},
     "output_type": "execute_result"
    }
   ],
   "source": [
    "transactions.columns"
   ]
  },
  {
   "cell_type": "code",
   "execution_count": 10,
   "id": "4c8d7a4d",
   "metadata": {
    "execution": {
     "iopub.execute_input": "2024-11-18T05:13:33.140174Z",
     "iopub.status.busy": "2024-11-18T05:13:33.139874Z",
     "iopub.status.idle": "2024-11-18T05:13:33.163308Z",
     "shell.execute_reply": "2024-11-18T05:13:33.162472Z"
    },
    "papermill": {
     "duration": 0.037308,
     "end_time": "2024-11-18T05:13:33.165307",
     "exception": false,
     "start_time": "2024-11-18T05:13:33.127999",
     "status": "completed"
    },
    "tags": []
   },
   "outputs": [],
   "source": [
    "transactions['date'] = pd.to_datetime(transactions['date'])\n",
    "transactions = transactions.sort_values(by='date')"
   ]
  },
  {
   "cell_type": "code",
   "execution_count": 11,
   "id": "18b2a81a",
   "metadata": {
    "execution": {
     "iopub.execute_input": "2024-11-18T05:13:33.188736Z",
     "iopub.status.busy": "2024-11-18T05:13:33.188453Z",
     "iopub.status.idle": "2024-11-18T05:13:33.203398Z",
     "shell.execute_reply": "2024-11-18T05:13:33.202503Z"
    },
    "papermill": {
     "duration": 0.028914,
     "end_time": "2024-11-18T05:13:33.205333",
     "exception": false,
     "start_time": "2024-11-18T05:13:33.176419",
     "status": "completed"
    },
    "tags": []
   },
   "outputs": [
    {
     "name": "stdout",
     "output_type": "stream",
     "text": [
      "<class 'pandas.core.frame.DataFrame'>\n",
      "RangeIndex: 28512 entries, 0 to 28511\n",
      "Data columns (total 2 columns):\n",
      " #   Column  Non-Null Count  Dtype  \n",
      "---  ------  --------------  -----  \n",
      " 0   id      28512 non-null  int64  \n",
      " 1   sales   28512 non-null  float64\n",
      "dtypes: float64(1), int64(1)\n",
      "memory usage: 445.6 KB\n"
     ]
    },
    {
     "data": {
      "text/html": [
       "<div>\n",
       "<style scoped>\n",
       "    .dataframe tbody tr th:only-of-type {\n",
       "        vertical-align: middle;\n",
       "    }\n",
       "\n",
       "    .dataframe tbody tr th {\n",
       "        vertical-align: top;\n",
       "    }\n",
       "\n",
       "    .dataframe thead th {\n",
       "        text-align: right;\n",
       "    }\n",
       "</style>\n",
       "<table border=\"1\" class=\"dataframe\">\n",
       "  <thead>\n",
       "    <tr style=\"text-align: right;\">\n",
       "      <th></th>\n",
       "      <th>id</th>\n",
       "      <th>sales</th>\n",
       "    </tr>\n",
       "  </thead>\n",
       "  <tbody>\n",
       "    <tr>\n",
       "      <th>0</th>\n",
       "      <td>3000888</td>\n",
       "      <td>0.0</td>\n",
       "    </tr>\n",
       "    <tr>\n",
       "      <th>1</th>\n",
       "      <td>3000889</td>\n",
       "      <td>0.0</td>\n",
       "    </tr>\n",
       "    <tr>\n",
       "      <th>2</th>\n",
       "      <td>3000890</td>\n",
       "      <td>0.0</td>\n",
       "    </tr>\n",
       "    <tr>\n",
       "      <th>3</th>\n",
       "      <td>3000891</td>\n",
       "      <td>0.0</td>\n",
       "    </tr>\n",
       "    <tr>\n",
       "      <th>4</th>\n",
       "      <td>3000892</td>\n",
       "      <td>0.0</td>\n",
       "    </tr>\n",
       "  </tbody>\n",
       "</table>\n",
       "</div>"
      ],
      "text/plain": [
       "        id  sales\n",
       "0  3000888    0.0\n",
       "1  3000889    0.0\n",
       "2  3000890    0.0\n",
       "3  3000891    0.0\n",
       "4  3000892    0.0"
      ]
     },
     "execution_count": 11,
     "metadata": {},
     "output_type": "execute_result"
    }
   ],
   "source": [
    "train.info()\n",
    "train.head()"
   ]
  },
  {
   "cell_type": "markdown",
   "id": "cf928eb4",
   "metadata": {
    "papermill": {
     "duration": 0.011378,
     "end_time": "2024-11-18T05:13:33.228007",
     "exception": false,
     "start_time": "2024-11-18T05:13:33.216629",
     "status": "completed"
    },
    "tags": []
   },
   "source": [
    "adding a date column in the train dataset"
   ]
  },
  {
   "cell_type": "code",
   "execution_count": 12,
   "id": "c9477435",
   "metadata": {
    "execution": {
     "iopub.execute_input": "2024-11-18T05:13:33.251959Z",
     "iopub.status.busy": "2024-11-18T05:13:33.251684Z",
     "iopub.status.idle": "2024-11-18T05:13:33.259122Z",
     "shell.execute_reply": "2024-11-18T05:13:33.258137Z"
    },
    "papermill": {
     "duration": 0.02155,
     "end_time": "2024-11-18T05:13:33.261096",
     "exception": false,
     "start_time": "2024-11-18T05:13:33.239546",
     "status": "completed"
    },
    "tags": []
   },
   "outputs": [
    {
     "name": "stdout",
     "output_type": "stream",
     "text": [
      "3000888 3029399\n",
      "[nan  1.]\n"
     ]
    }
   ],
   "source": [
    "print(train['id'].min(),train['id'].max())\n",
    "print(train['id'].diff().unique())"
   ]
  },
  {
   "cell_type": "markdown",
   "id": "59d28fbf",
   "metadata": {
    "papermill": {
     "duration": 0.011268,
     "end_time": "2024-11-18T05:13:33.283743",
     "exception": false,
     "start_time": "2024-11-18T05:13:33.272475",
     "status": "completed"
    },
    "tags": []
   },
   "source": []
  },
  {
   "cell_type": "code",
   "execution_count": 13,
   "id": "aabaff33",
   "metadata": {
    "execution": {
     "iopub.execute_input": "2024-11-18T05:13:33.308072Z",
     "iopub.status.busy": "2024-11-18T05:13:33.307792Z",
     "iopub.status.idle": "2024-11-18T05:13:33.319845Z",
     "shell.execute_reply": "2024-11-18T05:13:33.319188Z"
    },
    "papermill": {
     "duration": 0.026645,
     "end_time": "2024-11-18T05:13:33.321761",
     "exception": false,
     "start_time": "2024-11-18T05:13:33.295116",
     "status": "completed"
    },
    "tags": []
   },
   "outputs": [],
   "source": [
    "start_date = transactions['date'].min()\n",
    "train['date'] = pd.date_range(start=start_date,periods=len(train),freq='D')"
   ]
  },
  {
   "cell_type": "code",
   "execution_count": 14,
   "id": "0d600935",
   "metadata": {
    "execution": {
     "iopub.execute_input": "2024-11-18T05:13:33.345670Z",
     "iopub.status.busy": "2024-11-18T05:13:33.345409Z",
     "iopub.status.idle": "2024-11-18T05:13:33.363840Z",
     "shell.execute_reply": "2024-11-18T05:13:33.362923Z"
    },
    "papermill": {
     "duration": 0.032652,
     "end_time": "2024-11-18T05:13:33.365770",
     "exception": false,
     "start_time": "2024-11-18T05:13:33.333118",
     "status": "completed"
    },
    "tags": []
   },
   "outputs": [],
   "source": [
    "train = train.merge(holidays[['date','type','locale','locale_name','description','transferred']],\n",
    "                   on='date',\n",
    "                   how='left')"
   ]
  },
  {
   "cell_type": "code",
   "execution_count": 15,
   "id": "8d5f14e2",
   "metadata": {
    "execution": {
     "iopub.execute_input": "2024-11-18T05:13:33.389939Z",
     "iopub.status.busy": "2024-11-18T05:13:33.389391Z",
     "iopub.status.idle": "2024-11-18T05:13:33.420861Z",
     "shell.execute_reply": "2024-11-18T05:13:33.420121Z"
    },
    "papermill": {
     "duration": 0.046045,
     "end_time": "2024-11-18T05:13:33.423123",
     "exception": false,
     "start_time": "2024-11-18T05:13:33.377078",
     "status": "completed"
    },
    "tags": []
   },
   "outputs": [],
   "source": [
    "train['store_nbr'] = 1\n",
    "train = train.merge(transactions[['date','store_nbr','transactions']],on=['date','store_nbr'],how='left')"
   ]
  },
  {
   "cell_type": "markdown",
   "id": "39457586",
   "metadata": {
    "papermill": {
     "duration": 0.011346,
     "end_time": "2024-11-18T05:13:33.446016",
     "exception": false,
     "start_time": "2024-11-18T05:13:33.434670",
     "status": "completed"
    },
    "tags": []
   },
   "source": [
    " **Feature Engineering**"
   ]
  },
  {
   "cell_type": "markdown",
   "id": "8b4d4376",
   "metadata": {
    "papermill": {
     "duration": 0.011249,
     "end_time": "2024-11-18T05:13:33.468593",
     "exception": false,
     "start_time": "2024-11-18T05:13:33.457344",
     "status": "completed"
    },
    "tags": []
   },
   "source": [
    "Creating date based features"
   ]
  },
  {
   "cell_type": "code",
   "execution_count": 16,
   "id": "ccd6461f",
   "metadata": {
    "execution": {
     "iopub.execute_input": "2024-11-18T05:13:33.493619Z",
     "iopub.status.busy": "2024-11-18T05:13:33.492886Z",
     "iopub.status.idle": "2024-11-18T05:13:33.518281Z",
     "shell.execute_reply": "2024-11-18T05:13:33.517435Z"
    },
    "papermill": {
     "duration": 0.040284,
     "end_time": "2024-11-18T05:13:33.520240",
     "exception": false,
     "start_time": "2024-11-18T05:13:33.479956",
     "status": "completed"
    },
    "tags": []
   },
   "outputs": [
    {
     "data": {
      "text/html": [
       "<div>\n",
       "<style scoped>\n",
       "    .dataframe tbody tr th:only-of-type {\n",
       "        vertical-align: middle;\n",
       "    }\n",
       "\n",
       "    .dataframe tbody tr th {\n",
       "        vertical-align: top;\n",
       "    }\n",
       "\n",
       "    .dataframe thead th {\n",
       "        text-align: right;\n",
       "    }\n",
       "</style>\n",
       "<table border=\"1\" class=\"dataframe\">\n",
       "  <thead>\n",
       "    <tr style=\"text-align: right;\">\n",
       "      <th></th>\n",
       "      <th>id</th>\n",
       "      <th>sales</th>\n",
       "      <th>date</th>\n",
       "      <th>type</th>\n",
       "      <th>locale</th>\n",
       "      <th>locale_name</th>\n",
       "      <th>description</th>\n",
       "      <th>transferred</th>\n",
       "      <th>store_nbr</th>\n",
       "      <th>transactions</th>\n",
       "      <th>day_of_week</th>\n",
       "      <th>month</th>\n",
       "      <th>quarter</th>\n",
       "      <th>year</th>\n",
       "      <th>is_weekend</th>\n",
       "    </tr>\n",
       "  </thead>\n",
       "  <tbody>\n",
       "    <tr>\n",
       "      <th>0</th>\n",
       "      <td>3000888</td>\n",
       "      <td>0.0</td>\n",
       "      <td>2013-01-01</td>\n",
       "      <td>Holiday</td>\n",
       "      <td>National</td>\n",
       "      <td>Ecuador</td>\n",
       "      <td>Primer dia del ano</td>\n",
       "      <td>False</td>\n",
       "      <td>1</td>\n",
       "      <td>NaN</td>\n",
       "      <td>1</td>\n",
       "      <td>1</td>\n",
       "      <td>1</td>\n",
       "      <td>2013</td>\n",
       "      <td>False</td>\n",
       "    </tr>\n",
       "    <tr>\n",
       "      <th>1</th>\n",
       "      <td>3000889</td>\n",
       "      <td>0.0</td>\n",
       "      <td>2013-01-02</td>\n",
       "      <td>NaN</td>\n",
       "      <td>NaN</td>\n",
       "      <td>NaN</td>\n",
       "      <td>NaN</td>\n",
       "      <td>NaN</td>\n",
       "      <td>1</td>\n",
       "      <td>2111.0</td>\n",
       "      <td>2</td>\n",
       "      <td>1</td>\n",
       "      <td>1</td>\n",
       "      <td>2013</td>\n",
       "      <td>False</td>\n",
       "    </tr>\n",
       "    <tr>\n",
       "      <th>2</th>\n",
       "      <td>3000890</td>\n",
       "      <td>0.0</td>\n",
       "      <td>2013-01-03</td>\n",
       "      <td>NaN</td>\n",
       "      <td>NaN</td>\n",
       "      <td>NaN</td>\n",
       "      <td>NaN</td>\n",
       "      <td>NaN</td>\n",
       "      <td>1</td>\n",
       "      <td>1833.0</td>\n",
       "      <td>3</td>\n",
       "      <td>1</td>\n",
       "      <td>1</td>\n",
       "      <td>2013</td>\n",
       "      <td>False</td>\n",
       "    </tr>\n",
       "    <tr>\n",
       "      <th>3</th>\n",
       "      <td>3000891</td>\n",
       "      <td>0.0</td>\n",
       "      <td>2013-01-04</td>\n",
       "      <td>NaN</td>\n",
       "      <td>NaN</td>\n",
       "      <td>NaN</td>\n",
       "      <td>NaN</td>\n",
       "      <td>NaN</td>\n",
       "      <td>1</td>\n",
       "      <td>1863.0</td>\n",
       "      <td>4</td>\n",
       "      <td>1</td>\n",
       "      <td>1</td>\n",
       "      <td>2013</td>\n",
       "      <td>False</td>\n",
       "    </tr>\n",
       "    <tr>\n",
       "      <th>4</th>\n",
       "      <td>3000892</td>\n",
       "      <td>0.0</td>\n",
       "      <td>2013-01-05</td>\n",
       "      <td>Work Day</td>\n",
       "      <td>National</td>\n",
       "      <td>Ecuador</td>\n",
       "      <td>Recupero puente Navidad</td>\n",
       "      <td>False</td>\n",
       "      <td>1</td>\n",
       "      <td>1509.0</td>\n",
       "      <td>5</td>\n",
       "      <td>1</td>\n",
       "      <td>1</td>\n",
       "      <td>2013</td>\n",
       "      <td>True</td>\n",
       "    </tr>\n",
       "  </tbody>\n",
       "</table>\n",
       "</div>"
      ],
      "text/plain": [
       "        id  sales       date      type    locale locale_name  \\\n",
       "0  3000888    0.0 2013-01-01   Holiday  National     Ecuador   \n",
       "1  3000889    0.0 2013-01-02       NaN       NaN         NaN   \n",
       "2  3000890    0.0 2013-01-03       NaN       NaN         NaN   \n",
       "3  3000891    0.0 2013-01-04       NaN       NaN         NaN   \n",
       "4  3000892    0.0 2013-01-05  Work Day  National     Ecuador   \n",
       "\n",
       "               description transferred  store_nbr  transactions  day_of_week  \\\n",
       "0       Primer dia del ano       False          1           NaN            1   \n",
       "1                      NaN         NaN          1        2111.0            2   \n",
       "2                      NaN         NaN          1        1833.0            3   \n",
       "3                      NaN         NaN          1        1863.0            4   \n",
       "4  Recupero puente Navidad       False          1        1509.0            5   \n",
       "\n",
       "   month  quarter  year  is_weekend  \n",
       "0      1        1  2013       False  \n",
       "1      1        1  2013       False  \n",
       "2      1        1  2013       False  \n",
       "3      1        1  2013       False  \n",
       "4      1        1  2013        True  "
      ]
     },
     "execution_count": 16,
     "metadata": {},
     "output_type": "execute_result"
    }
   ],
   "source": [
    "train['day_of_week'] = train['date'].dt.dayofweek\n",
    "train['month'] = train['date'].dt.month\n",
    "train['quarter'] = train['date'].dt.quarter\n",
    "train['year'] = train['date'].dt.year\n",
    "train['is_weekend'] = train['date'].dt.dayofweek >=5\n",
    "train.head()"
   ]
  },
  {
   "cell_type": "code",
   "execution_count": 17,
   "id": "dc59f56a",
   "metadata": {
    "execution": {
     "iopub.execute_input": "2024-11-18T05:13:33.544707Z",
     "iopub.status.busy": "2024-11-18T05:13:33.544425Z",
     "iopub.status.idle": "2024-11-18T05:13:33.557658Z",
     "shell.execute_reply": "2024-11-18T05:13:33.556700Z"
    },
    "papermill": {
     "duration": 0.027765,
     "end_time": "2024-11-18T05:13:33.559639",
     "exception": false,
     "start_time": "2024-11-18T05:13:33.531874",
     "status": "completed"
    },
    "tags": []
   },
   "outputs": [
    {
     "data": {
      "text/plain": [
       "id                  0\n",
       "sales               0\n",
       "date                0\n",
       "type            28235\n",
       "locale          28235\n",
       "locale_name     28235\n",
       "description     28235\n",
       "transferred     28235\n",
       "store_nbr           0\n",
       "transactions    26838\n",
       "day_of_week         0\n",
       "month               0\n",
       "quarter             0\n",
       "year                0\n",
       "is_weekend          0\n",
       "dtype: int64"
      ]
     },
     "execution_count": 17,
     "metadata": {},
     "output_type": "execute_result"
    }
   ],
   "source": [
    "train.isna().sum()"
   ]
  },
  {
   "cell_type": "code",
   "execution_count": 18,
   "id": "daadebd1",
   "metadata": {
    "execution": {
     "iopub.execute_input": "2024-11-18T05:13:33.584296Z",
     "iopub.status.busy": "2024-11-18T05:13:33.583981Z",
     "iopub.status.idle": "2024-11-18T05:13:33.603033Z",
     "shell.execute_reply": "2024-11-18T05:13:33.602056Z"
    },
    "papermill": {
     "duration": 0.033618,
     "end_time": "2024-11-18T05:13:33.605028",
     "exception": false,
     "start_time": "2024-11-18T05:13:33.571410",
     "status": "completed"
    },
    "tags": []
   },
   "outputs": [],
   "source": [
    "train['locale']=train['locale'].ffill()\n",
    "train['locale_name'] = train['locale_name'].ffill()\n",
    "train['description'] = train['description'].ffill()\n",
    "\n"
   ]
  },
  {
   "cell_type": "code",
   "execution_count": 19,
   "id": "74468a64",
   "metadata": {
    "execution": {
     "iopub.execute_input": "2024-11-18T05:13:33.629776Z",
     "iopub.status.busy": "2024-11-18T05:13:33.629498Z",
     "iopub.status.idle": "2024-11-18T05:13:33.647626Z",
     "shell.execute_reply": "2024-11-18T05:13:33.646851Z"
    },
    "papermill": {
     "duration": 0.0326,
     "end_time": "2024-11-18T05:13:33.649446",
     "exception": false,
     "start_time": "2024-11-18T05:13:33.616846",
     "status": "completed"
    },
    "tags": []
   },
   "outputs": [
    {
     "data": {
      "text/plain": [
       "id                  0\n",
       "sales               0\n",
       "date                0\n",
       "type            28235\n",
       "locale              0\n",
       "locale_name         0\n",
       "description         0\n",
       "transferred     28235\n",
       "store_nbr           0\n",
       "transactions    26838\n",
       "day_of_week         0\n",
       "month               0\n",
       "quarter             0\n",
       "year                0\n",
       "is_weekend          0\n",
       "dtype: int64"
      ]
     },
     "execution_count": 19,
     "metadata": {},
     "output_type": "execute_result"
    }
   ],
   "source": [
    "train.isna().sum()"
   ]
  },
  {
   "cell_type": "code",
   "execution_count": 20,
   "id": "1c807465",
   "metadata": {
    "execution": {
     "iopub.execute_input": "2024-11-18T05:13:33.674370Z",
     "iopub.status.busy": "2024-11-18T05:13:33.674046Z",
     "iopub.status.idle": "2024-11-18T05:13:33.681891Z",
     "shell.execute_reply": "2024-11-18T05:13:33.681063Z"
    },
    "papermill": {
     "duration": 0.022474,
     "end_time": "2024-11-18T05:13:33.683830",
     "exception": false,
     "start_time": "2024-11-18T05:13:33.661356",
     "status": "completed"
    },
    "tags": []
   },
   "outputs": [
    {
     "data": {
      "text/plain": [
       "0           NaN\n",
       "1        2111.0\n",
       "2        1833.0\n",
       "3        1863.0\n",
       "4        1509.0\n",
       "          ...  \n",
       "28539    1693.0\n",
       "28540    1693.0\n",
       "28541    1693.0\n",
       "28542    1693.0\n",
       "28543    1693.0\n",
       "Name: transactions, Length: 28544, dtype: float64"
      ]
     },
     "execution_count": 20,
     "metadata": {},
     "output_type": "execute_result"
    }
   ],
   "source": [
    "train['transactions'].ffill()"
   ]
  },
  {
   "cell_type": "code",
   "execution_count": 21,
   "id": "341e08cb",
   "metadata": {
    "execution": {
     "iopub.execute_input": "2024-11-18T05:13:33.709957Z",
     "iopub.status.busy": "2024-11-18T05:13:33.709679Z",
     "iopub.status.idle": "2024-11-18T05:13:33.728409Z",
     "shell.execute_reply": "2024-11-18T05:13:33.727460Z"
    },
    "papermill": {
     "duration": 0.034165,
     "end_time": "2024-11-18T05:13:33.730529",
     "exception": false,
     "start_time": "2024-11-18T05:13:33.696364",
     "status": "completed"
    },
    "tags": []
   },
   "outputs": [
    {
     "data": {
      "text/plain": [
       "id                  0\n",
       "sales               0\n",
       "date                0\n",
       "type            28235\n",
       "locale              0\n",
       "locale_name         0\n",
       "description         0\n",
       "transferred     28235\n",
       "store_nbr           0\n",
       "transactions    26838\n",
       "day_of_week         0\n",
       "month               0\n",
       "quarter             0\n",
       "year                0\n",
       "is_weekend          0\n",
       "dtype: int64"
      ]
     },
     "execution_count": 21,
     "metadata": {},
     "output_type": "execute_result"
    }
   ],
   "source": [
    "train.isna().sum()"
   ]
  },
  {
   "cell_type": "code",
   "execution_count": 22,
   "id": "203627d1",
   "metadata": {
    "execution": {
     "iopub.execute_input": "2024-11-18T05:13:33.757523Z",
     "iopub.status.busy": "2024-11-18T05:13:33.757032Z",
     "iopub.status.idle": "2024-11-18T05:13:33.762582Z",
     "shell.execute_reply": "2024-11-18T05:13:33.761754Z"
    },
    "papermill": {
     "duration": 0.020493,
     "end_time": "2024-11-18T05:13:33.764586",
     "exception": false,
     "start_time": "2024-11-18T05:13:33.744093",
     "status": "completed"
    },
    "tags": []
   },
   "outputs": [
    {
     "data": {
      "text/plain": [
       "dtype('O')"
      ]
     },
     "execution_count": 22,
     "metadata": {},
     "output_type": "execute_result"
    }
   ],
   "source": [
    "train['transferred'].dtype"
   ]
  },
  {
   "cell_type": "code",
   "execution_count": 23,
   "id": "74d8f17d",
   "metadata": {
    "execution": {
     "iopub.execute_input": "2024-11-18T05:13:33.790477Z",
     "iopub.status.busy": "2024-11-18T05:13:33.790212Z",
     "iopub.status.idle": "2024-11-18T05:13:33.801506Z",
     "shell.execute_reply": "2024-11-18T05:13:33.800541Z"
    },
    "papermill": {
     "duration": 0.027748,
     "end_time": "2024-11-18T05:13:33.804737",
     "exception": false,
     "start_time": "2024-11-18T05:13:33.776989",
     "status": "completed"
    },
    "tags": []
   },
   "outputs": [
    {
     "name": "stdout",
     "output_type": "stream",
     "text": [
      "0\n"
     ]
    },
    {
     "name": "stderr",
     "output_type": "stream",
     "text": [
      "/tmp/ipykernel_24/4082374752.py:2: FutureWarning: Downcasting object dtype arrays on .fillna, .ffill, .bfill is deprecated and will change in a future version. Call result.infer_objects(copy=False) instead. To opt-in to the future behavior, set `pd.set_option('future.no_silent_downcasting', True)`\n",
      "  train_subset['transferred'] = train_subset['transferred'].fillna(False)\n"
     ]
    }
   ],
   "source": [
    "train_subset = train[['transferred']].copy()\n",
    "train_subset['transferred'] = train_subset['transferred'].fillna(False)\n",
    "print(train_subset['transferred'].isna().sum())"
   ]
  },
  {
   "cell_type": "code",
   "execution_count": 24,
   "id": "84c09b63",
   "metadata": {
    "execution": {
     "iopub.execute_input": "2024-11-18T05:13:33.831089Z",
     "iopub.status.busy": "2024-11-18T05:13:33.830834Z",
     "iopub.status.idle": "2024-11-18T05:13:33.836887Z",
     "shell.execute_reply": "2024-11-18T05:13:33.836138Z"
    },
    "papermill": {
     "duration": 0.021294,
     "end_time": "2024-11-18T05:13:33.838710",
     "exception": false,
     "start_time": "2024-11-18T05:13:33.817416",
     "status": "completed"
    },
    "tags": []
   },
   "outputs": [],
   "source": [
    "train['type'] = train['type'].fillna('No Holiday')"
   ]
  },
  {
   "cell_type": "code",
   "execution_count": 25,
   "id": "0fa9d97e",
   "metadata": {
    "execution": {
     "iopub.execute_input": "2024-11-18T05:13:33.866054Z",
     "iopub.status.busy": "2024-11-18T05:13:33.865783Z",
     "iopub.status.idle": "2024-11-18T05:13:33.870300Z",
     "shell.execute_reply": "2024-11-18T05:13:33.869569Z"
    },
    "papermill": {
     "duration": 0.020137,
     "end_time": "2024-11-18T05:13:33.872270",
     "exception": false,
     "start_time": "2024-11-18T05:13:33.852133",
     "status": "completed"
    },
    "tags": []
   },
   "outputs": [],
   "source": [
    "train['transactions'] = train['transactions'].fillna(0)"
   ]
  },
  {
   "cell_type": "code",
   "execution_count": 26,
   "id": "346d23f4",
   "metadata": {
    "execution": {
     "iopub.execute_input": "2024-11-18T05:13:33.898849Z",
     "iopub.status.busy": "2024-11-18T05:13:33.898595Z",
     "iopub.status.idle": "2024-11-18T05:13:33.918251Z",
     "shell.execute_reply": "2024-11-18T05:13:33.917464Z"
    },
    "papermill": {
     "duration": 0.035241,
     "end_time": "2024-11-18T05:13:33.920244",
     "exception": false,
     "start_time": "2024-11-18T05:13:33.885003",
     "status": "completed"
    },
    "tags": []
   },
   "outputs": [
    {
     "data": {
      "text/plain": [
       "id                  0\n",
       "sales               0\n",
       "date                0\n",
       "type                0\n",
       "locale              0\n",
       "locale_name         0\n",
       "description         0\n",
       "transferred     28235\n",
       "store_nbr           0\n",
       "transactions        0\n",
       "day_of_week         0\n",
       "month               0\n",
       "quarter             0\n",
       "year                0\n",
       "is_weekend          0\n",
       "dtype: int64"
      ]
     },
     "execution_count": 26,
     "metadata": {},
     "output_type": "execute_result"
    }
   ],
   "source": [
    "train.isna().sum()"
   ]
  },
  {
   "cell_type": "code",
   "execution_count": 27,
   "id": "3b032fe3",
   "metadata": {
    "execution": {
     "iopub.execute_input": "2024-11-18T05:13:33.948014Z",
     "iopub.status.busy": "2024-11-18T05:13:33.947755Z",
     "iopub.status.idle": "2024-11-18T05:13:33.987366Z",
     "shell.execute_reply": "2024-11-18T05:13:33.986556Z"
    },
    "papermill": {
     "duration": 0.054791,
     "end_time": "2024-11-18T05:13:33.989168",
     "exception": false,
     "start_time": "2024-11-18T05:13:33.934377",
     "status": "completed"
    },
    "tags": []
   },
   "outputs": [
    {
     "data": {
      "text/html": [
       "<div>\n",
       "<style scoped>\n",
       "    .dataframe tbody tr th:only-of-type {\n",
       "        vertical-align: middle;\n",
       "    }\n",
       "\n",
       "    .dataframe tbody tr th {\n",
       "        vertical-align: top;\n",
       "    }\n",
       "\n",
       "    .dataframe thead th {\n",
       "        text-align: right;\n",
       "    }\n",
       "</style>\n",
       "<table border=\"1\" class=\"dataframe\">\n",
       "  <thead>\n",
       "    <tr style=\"text-align: right;\">\n",
       "      <th></th>\n",
       "      <th>id</th>\n",
       "      <th>sales</th>\n",
       "      <th>date</th>\n",
       "      <th>store_nbr</th>\n",
       "      <th>transactions</th>\n",
       "      <th>day_of_week</th>\n",
       "      <th>month</th>\n",
       "      <th>quarter</th>\n",
       "      <th>year</th>\n",
       "    </tr>\n",
       "  </thead>\n",
       "  <tbody>\n",
       "    <tr>\n",
       "      <th>count</th>\n",
       "      <td>2.854400e+04</td>\n",
       "      <td>28544.0</td>\n",
       "      <td>28544</td>\n",
       "      <td>28544.0</td>\n",
       "      <td>28544.000000</td>\n",
       "      <td>28544.000000</td>\n",
       "      <td>28544.000000</td>\n",
       "      <td>28544.000000</td>\n",
       "      <td>28544.000000</td>\n",
       "    </tr>\n",
       "    <tr>\n",
       "      <th>mean</th>\n",
       "      <td>3.015129e+06</td>\n",
       "      <td>0.0</td>\n",
       "      <td>2051-12-28 15:51:57.713004544</td>\n",
       "      <td>1.0</td>\n",
       "      <td>90.987598</td>\n",
       "      <td>3.000666</td>\n",
       "      <td>6.519514</td>\n",
       "      <td>2.507567</td>\n",
       "      <td>2051.491487</td>\n",
       "    </tr>\n",
       "    <tr>\n",
       "      <th>min</th>\n",
       "      <td>3.000888e+06</td>\n",
       "      <td>0.0</td>\n",
       "      <td>2013-01-01 00:00:00</td>\n",
       "      <td>1.0</td>\n",
       "      <td>0.000000</td>\n",
       "      <td>0.000000</td>\n",
       "      <td>1.000000</td>\n",
       "      <td>1.000000</td>\n",
       "      <td>2013.000000</td>\n",
       "    </tr>\n",
       "    <tr>\n",
       "      <th>25%</th>\n",
       "      <td>3.007992e+06</td>\n",
       "      <td>0.0</td>\n",
       "      <td>2032-06-13 18:00:00</td>\n",
       "      <td>1.0</td>\n",
       "      <td>0.000000</td>\n",
       "      <td>1.000000</td>\n",
       "      <td>4.000000</td>\n",
       "      <td>2.000000</td>\n",
       "      <td>2032.000000</td>\n",
       "    </tr>\n",
       "    <tr>\n",
       "      <th>50%</th>\n",
       "      <td>3.015128e+06</td>\n",
       "      <td>0.0</td>\n",
       "      <td>2051-12-27 12:00:00</td>\n",
       "      <td>1.0</td>\n",
       "      <td>0.000000</td>\n",
       "      <td>3.000000</td>\n",
       "      <td>7.000000</td>\n",
       "      <td>3.000000</td>\n",
       "      <td>2051.000000</td>\n",
       "    </tr>\n",
       "    <tr>\n",
       "      <th>75%</th>\n",
       "      <td>3.022263e+06</td>\n",
       "      <td>0.0</td>\n",
       "      <td>2071-07-11 06:00:00</td>\n",
       "      <td>1.0</td>\n",
       "      <td>0.000000</td>\n",
       "      <td>5.000000</td>\n",
       "      <td>10.000000</td>\n",
       "      <td>4.000000</td>\n",
       "      <td>2071.000000</td>\n",
       "    </tr>\n",
       "    <tr>\n",
       "      <th>max</th>\n",
       "      <td>3.029399e+06</td>\n",
       "      <td>0.0</td>\n",
       "      <td>2091-01-23 00:00:00</td>\n",
       "      <td>1.0</td>\n",
       "      <td>3023.000000</td>\n",
       "      <td>6.000000</td>\n",
       "      <td>12.000000</td>\n",
       "      <td>4.000000</td>\n",
       "      <td>2091.000000</td>\n",
       "    </tr>\n",
       "    <tr>\n",
       "      <th>std</th>\n",
       "      <td>8.238168e+03</td>\n",
       "      <td>0.0</td>\n",
       "      <td>NaN</td>\n",
       "      <td>0.0</td>\n",
       "      <td>381.558198</td>\n",
       "      <td>2.000026</td>\n",
       "      <td>3.450295</td>\n",
       "      <td>1.117213</td>\n",
       "      <td>22.553822</td>\n",
       "    </tr>\n",
       "  </tbody>\n",
       "</table>\n",
       "</div>"
      ],
      "text/plain": [
       "                 id    sales                           date  store_nbr  \\\n",
       "count  2.854400e+04  28544.0                          28544    28544.0   \n",
       "mean   3.015129e+06      0.0  2051-12-28 15:51:57.713004544        1.0   \n",
       "min    3.000888e+06      0.0            2013-01-01 00:00:00        1.0   \n",
       "25%    3.007992e+06      0.0            2032-06-13 18:00:00        1.0   \n",
       "50%    3.015128e+06      0.0            2051-12-27 12:00:00        1.0   \n",
       "75%    3.022263e+06      0.0            2071-07-11 06:00:00        1.0   \n",
       "max    3.029399e+06      0.0            2091-01-23 00:00:00        1.0   \n",
       "std    8.238168e+03      0.0                            NaN        0.0   \n",
       "\n",
       "       transactions   day_of_week         month       quarter          year  \n",
       "count  28544.000000  28544.000000  28544.000000  28544.000000  28544.000000  \n",
       "mean      90.987598      3.000666      6.519514      2.507567   2051.491487  \n",
       "min        0.000000      0.000000      1.000000      1.000000   2013.000000  \n",
       "25%        0.000000      1.000000      4.000000      2.000000   2032.000000  \n",
       "50%        0.000000      3.000000      7.000000      3.000000   2051.000000  \n",
       "75%        0.000000      5.000000     10.000000      4.000000   2071.000000  \n",
       "max     3023.000000      6.000000     12.000000      4.000000   2091.000000  \n",
       "std      381.558198      2.000026      3.450295      1.117213     22.553822  "
      ]
     },
     "execution_count": 27,
     "metadata": {},
     "output_type": "execute_result"
    }
   ],
   "source": [
    "train.describe()"
   ]
  },
  {
   "cell_type": "markdown",
   "id": "fe95710f",
   "metadata": {
    "papermill": {
     "duration": 0.013103,
     "end_time": "2024-11-18T05:13:34.015375",
     "exception": false,
     "start_time": "2024-11-18T05:13:34.002272",
     "status": "completed"
    },
    "tags": []
   },
   "source": [
    "The date looks so unrealistic.\n",
    "checking if id is aligned with date"
   ]
  },
  {
   "cell_type": "code",
   "execution_count": 28,
   "id": "b14d8b44",
   "metadata": {
    "execution": {
     "iopub.execute_input": "2024-11-18T05:13:34.043031Z",
     "iopub.status.busy": "2024-11-18T05:13:34.042763Z",
     "iopub.status.idle": "2024-11-18T05:13:34.054174Z",
     "shell.execute_reply": "2024-11-18T05:13:34.053147Z"
    },
    "papermill": {
     "duration": 0.027544,
     "end_time": "2024-11-18T05:13:34.056254",
     "exception": false,
     "start_time": "2024-11-18T05:13:34.028710",
     "status": "completed"
    },
    "tags": []
   },
   "outputs": [
    {
     "name": "stdout",
     "output_type": "stream",
     "text": [
      "Unique IDs: 28512,Unique Dates: 28512\n"
     ]
    }
   ],
   "source": [
    "unique_dates = train[['id','date']].drop_duplicates()\n",
    "print(f\"Unique IDs: {unique_dates['id'].nunique()},Unique Dates: {unique_dates['date'].nunique()}\")"
   ]
  },
  {
   "cell_type": "code",
   "execution_count": 29,
   "id": "4e62d9d7",
   "metadata": {
    "execution": {
     "iopub.execute_input": "2024-11-18T05:13:34.084489Z",
     "iopub.status.busy": "2024-11-18T05:13:34.084206Z",
     "iopub.status.idle": "2024-11-18T05:13:34.089660Z",
     "shell.execute_reply": "2024-11-18T05:13:34.088673Z"
    },
    "papermill": {
     "duration": 0.021219,
     "end_time": "2024-11-18T05:13:34.091615",
     "exception": false,
     "start_time": "2024-11-18T05:13:34.070396",
     "status": "completed"
    },
    "tags": []
   },
   "outputs": [
    {
     "name": "stdout",
     "output_type": "stream",
     "text": [
      "Date range: 2013-01-01 00:00:00 to 2091-01-23 00:00:00\n"
     ]
    }
   ],
   "source": [
    "print(f\"Date range: {train['date'].min()} to {train['date'].max()}\")"
   ]
  },
  {
   "cell_type": "code",
   "execution_count": 30,
   "id": "117fed83",
   "metadata": {
    "execution": {
     "iopub.execute_input": "2024-11-18T05:13:34.119296Z",
     "iopub.status.busy": "2024-11-18T05:13:34.118975Z",
     "iopub.status.idle": "2024-11-18T05:13:34.125735Z",
     "shell.execute_reply": "2024-11-18T05:13:34.125046Z"
    },
    "papermill": {
     "duration": 0.022729,
     "end_time": "2024-11-18T05:13:34.127735",
     "exception": false,
     "start_time": "2024-11-18T05:13:34.105006",
     "status": "completed"
    },
    "tags": []
   },
   "outputs": [],
   "source": [
    "start_date = '2012-01-01'\n",
    "end_date = '2024-01-01'\n",
    "\n",
    "train = train[(train['date'] >= start_date) & (train['date'] <= end_date)]"
   ]
  },
  {
   "cell_type": "code",
   "execution_count": 31,
   "id": "f410038b",
   "metadata": {
    "execution": {
     "iopub.execute_input": "2024-11-18T05:13:34.155401Z",
     "iopub.status.busy": "2024-11-18T05:13:34.155108Z",
     "iopub.status.idle": "2024-11-18T05:13:34.188903Z",
     "shell.execute_reply": "2024-11-18T05:13:34.187973Z"
    },
    "papermill": {
     "duration": 0.049621,
     "end_time": "2024-11-18T05:13:34.190749",
     "exception": false,
     "start_time": "2024-11-18T05:13:34.141128",
     "status": "completed"
    },
    "tags": []
   },
   "outputs": [
    {
     "data": {
      "text/html": [
       "<div>\n",
       "<style scoped>\n",
       "    .dataframe tbody tr th:only-of-type {\n",
       "        vertical-align: middle;\n",
       "    }\n",
       "\n",
       "    .dataframe tbody tr th {\n",
       "        vertical-align: top;\n",
       "    }\n",
       "\n",
       "    .dataframe thead th {\n",
       "        text-align: right;\n",
       "    }\n",
       "</style>\n",
       "<table border=\"1\" class=\"dataframe\">\n",
       "  <thead>\n",
       "    <tr style=\"text-align: right;\">\n",
       "      <th></th>\n",
       "      <th>id</th>\n",
       "      <th>sales</th>\n",
       "      <th>date</th>\n",
       "      <th>store_nbr</th>\n",
       "      <th>transactions</th>\n",
       "      <th>day_of_week</th>\n",
       "      <th>month</th>\n",
       "      <th>quarter</th>\n",
       "      <th>year</th>\n",
       "    </tr>\n",
       "  </thead>\n",
       "  <tbody>\n",
       "    <tr>\n",
       "      <th>count</th>\n",
       "      <td>4.050000e+03</td>\n",
       "      <td>4050.0</td>\n",
       "      <td>4050</td>\n",
       "      <td>4050.0</td>\n",
       "      <td>4050.000000</td>\n",
       "      <td>4050.000000</td>\n",
       "      <td>4050.000000</td>\n",
       "      <td>4050.000000</td>\n",
       "      <td>4050.000000</td>\n",
       "    </tr>\n",
       "    <tr>\n",
       "      <th>mean</th>\n",
       "      <td>3.002889e+06</td>\n",
       "      <td>0.0</td>\n",
       "      <td>2018-06-24 16:23:49.333333504</td>\n",
       "      <td>1.0</td>\n",
       "      <td>641.271605</td>\n",
       "      <td>3.005185</td>\n",
       "      <td>6.529136</td>\n",
       "      <td>2.509877</td>\n",
       "      <td>2017.979506</td>\n",
       "    </tr>\n",
       "    <tr>\n",
       "      <th>min</th>\n",
       "      <td>3.000888e+06</td>\n",
       "      <td>0.0</td>\n",
       "      <td>2013-01-01 00:00:00</td>\n",
       "      <td>1.0</td>\n",
       "      <td>0.000000</td>\n",
       "      <td>0.000000</td>\n",
       "      <td>1.000000</td>\n",
       "      <td>1.000000</td>\n",
       "      <td>2013.000000</td>\n",
       "    </tr>\n",
       "    <tr>\n",
       "      <th>25%</th>\n",
       "      <td>3.001886e+06</td>\n",
       "      <td>0.0</td>\n",
       "      <td>2015-09-26 06:00:00</td>\n",
       "      <td>1.0</td>\n",
       "      <td>0.000000</td>\n",
       "      <td>1.000000</td>\n",
       "      <td>4.000000</td>\n",
       "      <td>2.000000</td>\n",
       "      <td>2015.000000</td>\n",
       "    </tr>\n",
       "    <tr>\n",
       "      <th>50%</th>\n",
       "      <td>3.002880e+06</td>\n",
       "      <td>0.0</td>\n",
       "      <td>2018-06-16 12:00:00</td>\n",
       "      <td>1.0</td>\n",
       "      <td>0.000000</td>\n",
       "      <td>3.000000</td>\n",
       "      <td>7.000000</td>\n",
       "      <td>3.000000</td>\n",
       "      <td>2018.000000</td>\n",
       "    </tr>\n",
       "    <tr>\n",
       "      <th>75%</th>\n",
       "      <td>3.003893e+06</td>\n",
       "      <td>0.0</td>\n",
       "      <td>2021-03-24 18:00:00</td>\n",
       "      <td>1.0</td>\n",
       "      <td>1702.500000</td>\n",
       "      <td>5.000000</td>\n",
       "      <td>10.000000</td>\n",
       "      <td>4.000000</td>\n",
       "      <td>2021.000000</td>\n",
       "    </tr>\n",
       "    <tr>\n",
       "      <th>max</th>\n",
       "      <td>3.004905e+06</td>\n",
       "      <td>0.0</td>\n",
       "      <td>2024-01-01 00:00:00</td>\n",
       "      <td>1.0</td>\n",
       "      <td>3023.000000</td>\n",
       "      <td>6.000000</td>\n",
       "      <td>12.000000</td>\n",
       "      <td>4.000000</td>\n",
       "      <td>2024.000000</td>\n",
       "    </tr>\n",
       "    <tr>\n",
       "      <th>std</th>\n",
       "      <td>1.159615e+03</td>\n",
       "      <td>0.0</td>\n",
       "      <td>NaN</td>\n",
       "      <td>0.0</td>\n",
       "      <td>820.566381</td>\n",
       "      <td>2.000178</td>\n",
       "      <td>3.445195</td>\n",
       "      <td>1.115475</td>\n",
       "      <td>3.162641</td>\n",
       "    </tr>\n",
       "  </tbody>\n",
       "</table>\n",
       "</div>"
      ],
      "text/plain": [
       "                 id   sales                           date  store_nbr  \\\n",
       "count  4.050000e+03  4050.0                           4050     4050.0   \n",
       "mean   3.002889e+06     0.0  2018-06-24 16:23:49.333333504        1.0   \n",
       "min    3.000888e+06     0.0            2013-01-01 00:00:00        1.0   \n",
       "25%    3.001886e+06     0.0            2015-09-26 06:00:00        1.0   \n",
       "50%    3.002880e+06     0.0            2018-06-16 12:00:00        1.0   \n",
       "75%    3.003893e+06     0.0            2021-03-24 18:00:00        1.0   \n",
       "max    3.004905e+06     0.0            2024-01-01 00:00:00        1.0   \n",
       "std    1.159615e+03     0.0                            NaN        0.0   \n",
       "\n",
       "       transactions  day_of_week        month      quarter         year  \n",
       "count   4050.000000  4050.000000  4050.000000  4050.000000  4050.000000  \n",
       "mean     641.271605     3.005185     6.529136     2.509877  2017.979506  \n",
       "min        0.000000     0.000000     1.000000     1.000000  2013.000000  \n",
       "25%        0.000000     1.000000     4.000000     2.000000  2015.000000  \n",
       "50%        0.000000     3.000000     7.000000     3.000000  2018.000000  \n",
       "75%     1702.500000     5.000000    10.000000     4.000000  2021.000000  \n",
       "max     3023.000000     6.000000    12.000000     4.000000  2024.000000  \n",
       "std      820.566381     2.000178     3.445195     1.115475     3.162641  "
      ]
     },
     "execution_count": 31,
     "metadata": {},
     "output_type": "execute_result"
    }
   ],
   "source": [
    "train.describe()"
   ]
  },
  {
   "cell_type": "markdown",
   "id": "c36897ef",
   "metadata": {
    "papermill": {
     "duration": 0.013727,
     "end_time": "2024-11-18T05:13:34.218098",
     "exception": false,
     "start_time": "2024-11-18T05:13:34.204371",
     "status": "completed"
    },
    "tags": []
   },
   "source": [
    "setting date as the index for easier time-based analysis"
   ]
  },
  {
   "cell_type": "code",
   "execution_count": 32,
   "id": "1ee98aae",
   "metadata": {
    "execution": {
     "iopub.execute_input": "2024-11-18T05:13:34.246077Z",
     "iopub.status.busy": "2024-11-18T05:13:34.245808Z",
     "iopub.status.idle": "2024-11-18T05:13:34.250626Z",
     "shell.execute_reply": "2024-11-18T05:13:34.249802Z"
    },
    "papermill": {
     "duration": 0.020965,
     "end_time": "2024-11-18T05:13:34.252582",
     "exception": false,
     "start_time": "2024-11-18T05:13:34.231617",
     "status": "completed"
    },
    "tags": []
   },
   "outputs": [],
   "source": [
    "train.set_index('date',inplace= True)\n",
    "train.sort_index(inplace=True)"
   ]
  },
  {
   "cell_type": "code",
   "execution_count": 33,
   "id": "dfa1d2eb",
   "metadata": {
    "execution": {
     "iopub.execute_input": "2024-11-18T05:13:34.280792Z",
     "iopub.status.busy": "2024-11-18T05:13:34.280504Z",
     "iopub.status.idle": "2024-11-18T05:13:34.286513Z",
     "shell.execute_reply": "2024-11-18T05:13:34.285679Z"
    },
    "papermill": {
     "duration": 0.021968,
     "end_time": "2024-11-18T05:13:34.288290",
     "exception": false,
     "start_time": "2024-11-18T05:13:34.266322",
     "status": "completed"
    },
    "tags": []
   },
   "outputs": [
    {
     "data": {
      "text/plain": [
       "0"
      ]
     },
     "execution_count": 33,
     "metadata": {},
     "output_type": "execute_result"
    }
   ],
   "source": [
    "train['sales'].isna().sum()"
   ]
  },
  {
   "cell_type": "markdown",
   "id": "eae0b099",
   "metadata": {
    "papermill": {
     "duration": 0.01352,
     "end_time": "2024-11-18T05:13:34.315341",
     "exception": false,
     "start_time": "2024-11-18T05:13:34.301821",
     "status": "completed"
    },
    "tags": []
   },
   "source": [
    "Feature Engineering"
   ]
  },
  {
   "cell_type": "code",
   "execution_count": 34,
   "id": "d271b4a8",
   "metadata": {
    "execution": {
     "iopub.execute_input": "2024-11-18T05:13:34.343385Z",
     "iopub.status.busy": "2024-11-18T05:13:34.343057Z",
     "iopub.status.idle": "2024-11-18T05:13:34.348780Z",
     "shell.execute_reply": "2024-11-18T05:13:34.347673Z"
    },
    "papermill": {
     "duration": 0.021828,
     "end_time": "2024-11-18T05:13:34.350639",
     "exception": false,
     "start_time": "2024-11-18T05:13:34.328811",
     "status": "completed"
    },
    "tags": []
   },
   "outputs": [],
   "source": [
    "train['sales_7d_avg'] = train['sales'].rolling(window=7,min_periods=1).mean()"
   ]
  },
  {
   "cell_type": "code",
   "execution_count": null,
   "id": "f43c6568",
   "metadata": {
    "papermill": {
     "duration": 0.013098,
     "end_time": "2024-11-18T05:13:34.377104",
     "exception": false,
     "start_time": "2024-11-18T05:13:34.364006",
     "status": "completed"
    },
    "tags": []
   },
   "outputs": [],
   "source": []
  }
 ],
 "metadata": {
  "kaggle": {
   "accelerator": "nvidiaTeslaT4",
   "dataSources": [
    {
     "databundleVersionId": 2887556,
     "sourceId": 29781,
     "sourceType": "competition"
    }
   ],
   "dockerImageVersionId": 30787,
   "isGpuEnabled": true,
   "isInternetEnabled": true,
   "language": "python",
   "sourceType": "notebook"
  },
  "kernelspec": {
   "display_name": "Python 3",
   "language": "python",
   "name": "python3"
  },
  "language_info": {
   "codemirror_mode": {
    "name": "ipython",
    "version": 3
   },
   "file_extension": ".py",
   "mimetype": "text/x-python",
   "name": "python",
   "nbconvert_exporter": "python",
   "pygments_lexer": "ipython3",
   "version": "3.10.14"
  },
  "papermill": {
   "default_parameters": {},
   "duration": 5.955044,
   "end_time": "2024-11-18T05:13:34.709207",
   "environment_variables": {},
   "exception": null,
   "input_path": "__notebook__.ipynb",
   "output_path": "__notebook__.ipynb",
   "parameters": {},
   "start_time": "2024-11-18T05:13:28.754163",
   "version": "2.6.0"
  }
 },
 "nbformat": 4,
 "nbformat_minor": 5
}
