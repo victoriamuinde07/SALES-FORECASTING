{
 "cells": [
  {
   "cell_type": "code",
   "execution_count": 1,
   "id": "833df5ce",
   "metadata": {
    "_cell_guid": "b1076dfc-b9ad-4769-8c92-a6c4dae69d19",
    "_uuid": "8f2839f25d086af736a60e9eeb907d3b93b6e0e5",
    "execution": {
     "iopub.execute_input": "2024-11-20T17:49:27.332804Z",
     "iopub.status.busy": "2024-11-20T17:49:27.332223Z",
     "iopub.status.idle": "2024-11-20T17:49:28.253208Z",
     "shell.execute_reply": "2024-11-20T17:49:28.252228Z"
    },
    "papermill": {
     "duration": 0.933777,
     "end_time": "2024-11-20T17:49:28.255197",
     "exception": false,
     "start_time": "2024-11-20T17:49:27.321420",
     "status": "completed"
    },
    "tags": []
   },
   "outputs": [
    {
     "name": "stdout",
     "output_type": "stream",
     "text": [
      "/kaggle/input/store-sales-time-series-forecasting/oil.csv\n",
      "/kaggle/input/store-sales-time-series-forecasting/sample_submission.csv\n",
      "/kaggle/input/store-sales-time-series-forecasting/holidays_events.csv\n",
      "/kaggle/input/store-sales-time-series-forecasting/stores.csv\n",
      "/kaggle/input/store-sales-time-series-forecasting/train.csv\n",
      "/kaggle/input/store-sales-time-series-forecasting/test.csv\n",
      "/kaggle/input/store-sales-time-series-forecasting/transactions.csv\n"
     ]
    }
   ],
   "source": [
    "# This Python 3 environment comes with many helpful analytics libraries installed\n",
    "# It is defined by the kaggle/python Docker image: https://github.com/kaggle/docker-python\n",
    "# For example, here's several helpful packages to load\n",
    "\n",
    "import numpy as np # linear algebra\n",
    "import pandas as pd # data processing, CSV file I/O (e.g. pd.read_csv)\n",
    "\n",
    "# Input data files are available in the read-only \"../input/\" directory\n",
    "# For example, running this (by clicking run or pressing Shift+Enter) will list all files under the input directory\n",
    "\n",
    "import os\n",
    "for dirname, _, filenames in os.walk('/kaggle/input'):\n",
    "    for filename in filenames:\n",
    "        print(os.path.join(dirname, filename))\n",
    "\n",
    "# You can write up to 20GB to the current directory (/kaggle/working/) that gets preserved as output when you create a version using \"Save & Run All\" \n",
    "# You can also write temporary files to /kaggle/temp/, but they won't be saved outside of the current session"
   ]
  },
  {
   "cell_type": "code",
   "execution_count": 2,
   "id": "0506f17f",
   "metadata": {
    "execution": {
     "iopub.execute_input": "2024-11-20T17:49:28.272288Z",
     "iopub.status.busy": "2024-11-20T17:49:28.271924Z",
     "iopub.status.idle": "2024-11-20T17:49:31.089539Z",
     "shell.execute_reply": "2024-11-20T17:49:31.087986Z"
    },
    "papermill": {
     "duration": 2.829804,
     "end_time": "2024-11-20T17:49:31.093182",
     "exception": false,
     "start_time": "2024-11-20T17:49:28.263378",
     "status": "completed"
    },
    "tags": []
   },
   "outputs": [
    {
     "name": "stdout",
     "output_type": "stream",
     "text": [
      "Train data\n",
      "   id        date  store_nbr      family  sales  onpromotion\n",
      "0   0  2013-01-01          1  AUTOMOTIVE    0.0            0\n",
      "1   1  2013-01-01          1   BABY CARE    0.0            0\n",
      "2   2  2013-01-01          1      BEAUTY    0.0            0\n",
      "3   3  2013-01-01          1   BEVERAGES    0.0            0\n",
      "4   4  2013-01-01          1       BOOKS    0.0            0\n",
      "<class 'pandas.core.frame.DataFrame'>\n",
      "RangeIndex: 3000888 entries, 0 to 3000887\n",
      "Data columns (total 6 columns):\n",
      " #   Column       Dtype  \n",
      "---  ------       -----  \n",
      " 0   id           int64  \n",
      " 1   date         object \n",
      " 2   store_nbr    int64  \n",
      " 3   family       object \n",
      " 4   sales        float64\n",
      " 5   onpromotion  int64  \n",
      "dtypes: float64(1), int64(3), object(2)\n",
      "memory usage: 137.4+ MB\n",
      "None\n",
      "\n",
      "Test data\n",
      "        id        date  store_nbr      family  onpromotion\n",
      "0  3000888  2017-08-16          1  AUTOMOTIVE            0\n",
      "1  3000889  2017-08-16          1   BABY CARE            0\n",
      "2  3000890  2017-08-16          1      BEAUTY            2\n",
      "3  3000891  2017-08-16          1   BEVERAGES           20\n",
      "4  3000892  2017-08-16          1       BOOKS            0\n",
      "<class 'pandas.core.frame.DataFrame'>\n",
      "RangeIndex: 28512 entries, 0 to 28511\n",
      "Data columns (total 5 columns):\n",
      " #   Column       Non-Null Count  Dtype \n",
      "---  ------       --------------  ----- \n",
      " 0   id           28512 non-null  int64 \n",
      " 1   date         28512 non-null  object\n",
      " 2   store_nbr    28512 non-null  int64 \n",
      " 3   family       28512 non-null  object\n",
      " 4   onpromotion  28512 non-null  int64 \n",
      "dtypes: int64(3), object(2)\n",
      "memory usage: 1.1+ MB\n",
      "None\n",
      "\n",
      "Holidays data\n",
      "         date     type    locale locale_name                    description  \\\n",
      "0  2012-03-02  Holiday     Local       Manta             Fundacion de Manta   \n",
      "1  2012-04-01  Holiday  Regional    Cotopaxi  Provincializacion de Cotopaxi   \n",
      "2  2012-04-12  Holiday     Local      Cuenca            Fundacion de Cuenca   \n",
      "3  2012-04-14  Holiday     Local    Libertad      Cantonizacion de Libertad   \n",
      "4  2012-04-21  Holiday     Local    Riobamba      Cantonizacion de Riobamba   \n",
      "\n",
      "   transferred  \n",
      "0        False  \n",
      "1        False  \n",
      "2        False  \n",
      "3        False  \n",
      "4        False  \n",
      "<class 'pandas.core.frame.DataFrame'>\n",
      "RangeIndex: 350 entries, 0 to 349\n",
      "Data columns (total 6 columns):\n",
      " #   Column       Non-Null Count  Dtype \n",
      "---  ------       --------------  ----- \n",
      " 0   date         350 non-null    object\n",
      " 1   type         350 non-null    object\n",
      " 2   locale       350 non-null    object\n",
      " 3   locale_name  350 non-null    object\n",
      " 4   description  350 non-null    object\n",
      " 5   transferred  350 non-null    bool  \n",
      "dtypes: bool(1), object(5)\n",
      "memory usage: 14.1+ KB\n",
      "None\n",
      "\n",
      "Store data\n",
      "   store_nbr           city                           state type  cluster\n",
      "0          1          Quito                       Pichincha    D       13\n",
      "1          2          Quito                       Pichincha    D       13\n",
      "2          3          Quito                       Pichincha    D        8\n",
      "3          4          Quito                       Pichincha    D        9\n",
      "4          5  Santo Domingo  Santo Domingo de los Tsachilas    D        4\n",
      "<class 'pandas.core.frame.DataFrame'>\n",
      "RangeIndex: 54 entries, 0 to 53\n",
      "Data columns (total 5 columns):\n",
      " #   Column     Non-Null Count  Dtype \n",
      "---  ------     --------------  ----- \n",
      " 0   store_nbr  54 non-null     int64 \n",
      " 1   city       54 non-null     object\n",
      " 2   state      54 non-null     object\n",
      " 3   type       54 non-null     object\n",
      " 4   cluster    54 non-null     int64 \n",
      "dtypes: int64(2), object(3)\n",
      "memory usage: 2.2+ KB\n",
      "None\n",
      "\n",
      "Transactions data\n",
      "         date  store_nbr  transactions\n",
      "0  2013-01-01         25           770\n",
      "1  2013-01-02          1          2111\n",
      "2  2013-01-02          2          2358\n",
      "3  2013-01-02          3          3487\n",
      "4  2013-01-02          4          1922\n",
      "<class 'pandas.core.frame.DataFrame'>\n",
      "RangeIndex: 83488 entries, 0 to 83487\n",
      "Data columns (total 3 columns):\n",
      " #   Column        Non-Null Count  Dtype \n",
      "---  ------        --------------  ----- \n",
      " 0   date          83488 non-null  object\n",
      " 1   store_nbr     83488 non-null  int64 \n",
      " 2   transactions  83488 non-null  int64 \n",
      "dtypes: int64(2), object(1)\n",
      "memory usage: 1.9+ MB\n",
      "None\n",
      "\n",
      "Oil data\n",
      "         date  dcoilwtico\n",
      "0  2013-01-01         NaN\n",
      "1  2013-01-02       93.14\n",
      "2  2013-01-03       92.97\n",
      "3  2013-01-04       93.12\n",
      "4  2013-01-07       93.20\n",
      "<class 'pandas.core.frame.DataFrame'>\n",
      "RangeIndex: 1218 entries, 0 to 1217\n",
      "Data columns (total 2 columns):\n",
      " #   Column      Non-Null Count  Dtype  \n",
      "---  ------      --------------  -----  \n",
      " 0   date        1218 non-null   object \n",
      " 1   dcoilwtico  1175 non-null   float64\n",
      "dtypes: float64(1), object(1)\n",
      "memory usage: 19.2+ KB\n",
      "None\n"
     ]
    }
   ],
   "source": [
    "import pandas as pd \n",
    "train = pd.read_csv('/kaggle/input/store-sales-time-series-forecasting/train.csv')\n",
    "\n",
    "test = pd.read_csv('/kaggle/input/store-sales-time-series-forecasting/test.csv')\n",
    "holidays = pd.read_csv('/kaggle/input/store-sales-time-series-forecasting/holidays_events.csv')\n",
    "stores = pd.read_csv('/kaggle/input/store-sales-time-series-forecasting/stores.csv')\n",
    "transactions = pd.read_csv('/kaggle/input/store-sales-time-series-forecasting/transactions.csv')\n",
    "oil = pd.read_csv('/kaggle/input/store-sales-time-series-forecasting/oil.csv')\n",
    "\n",
    "print(\"Train data\")\n",
    "print(train.head())\n",
    "print(train.info())\n",
    "\n",
    "print('\\nTest data')\n",
    "print(test.head())\n",
    "print(test.info())\n",
    "\n",
    "print('\\nHolidays data')\n",
    "print(holidays.head())\n",
    "print(holidays.info())\n",
    "\n",
    "print('\\nStore data')\n",
    "print(stores.head())\n",
    "print(stores.info())\n",
    "\n",
    "print('\\nTransactions data')\n",
    "print(transactions.head())\n",
    "print(transactions.info())\n",
    "\n",
    "print('\\nOil data')\n",
    "print(oil.head())\n",
    "print(oil.info())"
   ]
  },
  {
   "cell_type": "code",
   "execution_count": 3,
   "id": "9a5902e6",
   "metadata": {
    "execution": {
     "iopub.execute_input": "2024-11-20T17:49:31.122752Z",
     "iopub.status.busy": "2024-11-20T17:49:31.122373Z",
     "iopub.status.idle": "2024-11-20T17:49:31.130339Z",
     "shell.execute_reply": "2024-11-20T17:49:31.129598Z"
    },
    "papermill": {
     "duration": 0.024266,
     "end_time": "2024-11-20T17:49:31.133142",
     "exception": false,
     "start_time": "2024-11-20T17:49:31.108876",
     "status": "completed"
    },
    "tags": []
   },
   "outputs": [
    {
     "data": {
      "text/plain": [
       "Index(['id', 'date', 'store_nbr', 'family', 'sales', 'onpromotion'], dtype='object')"
      ]
     },
     "execution_count": 3,
     "metadata": {},
     "output_type": "execute_result"
    }
   ],
   "source": [
    "train.columns"
   ]
  },
  {
   "cell_type": "code",
   "execution_count": 4,
   "id": "468826ae",
   "metadata": {
    "execution": {
     "iopub.execute_input": "2024-11-20T17:49:31.155825Z",
     "iopub.status.busy": "2024-11-20T17:49:31.155576Z",
     "iopub.status.idle": "2024-11-20T17:49:31.428973Z",
     "shell.execute_reply": "2024-11-20T17:49:31.428086Z"
    },
    "papermill": {
     "duration": 0.284002,
     "end_time": "2024-11-20T17:49:31.430758",
     "exception": false,
     "start_time": "2024-11-20T17:49:31.146756",
     "status": "completed"
    },
    "tags": []
   },
   "outputs": [
    {
     "data": {
      "text/plain": [
       "id             0\n",
       "date           0\n",
       "store_nbr      0\n",
       "family         0\n",
       "sales          0\n",
       "onpromotion    0\n",
       "dtype: int64"
      ]
     },
     "execution_count": 4,
     "metadata": {},
     "output_type": "execute_result"
    }
   ],
   "source": [
    "train.isna().sum()"
   ]
  },
  {
   "cell_type": "code",
   "execution_count": 5,
   "id": "0fd5717a",
   "metadata": {
    "execution": {
     "iopub.execute_input": "2024-11-20T17:49:31.448044Z",
     "iopub.status.busy": "2024-11-20T17:49:31.447806Z",
     "iopub.status.idle": "2024-11-20T17:49:31.454123Z",
     "shell.execute_reply": "2024-11-20T17:49:31.453206Z"
    },
    "papermill": {
     "duration": 0.016863,
     "end_time": "2024-11-20T17:49:31.455784",
     "exception": false,
     "start_time": "2024-11-20T17:49:31.438921",
     "status": "completed"
    },
    "tags": []
   },
   "outputs": [
    {
     "data": {
      "text/plain": [
       "date           0\n",
       "dcoilwtico    43\n",
       "dtype: int64"
      ]
     },
     "execution_count": 5,
     "metadata": {},
     "output_type": "execute_result"
    }
   ],
   "source": [
    "oil.isna().sum()"
   ]
  },
  {
   "cell_type": "code",
   "execution_count": 6,
   "id": "b44ce267",
   "metadata": {
    "execution": {
     "iopub.execute_input": "2024-11-20T17:49:31.472757Z",
     "iopub.status.busy": "2024-11-20T17:49:31.472508Z",
     "iopub.status.idle": "2024-11-20T17:49:31.489168Z",
     "shell.execute_reply": "2024-11-20T17:49:31.488499Z"
    },
    "papermill": {
     "duration": 0.026712,
     "end_time": "2024-11-20T17:49:31.490602",
     "exception": false,
     "start_time": "2024-11-20T17:49:31.463890",
     "status": "completed"
    },
    "tags": []
   },
   "outputs": [
    {
     "data": {
      "text/plain": [
       "date          0\n",
       "dcoilwtico    0\n",
       "dtype: int64"
      ]
     },
     "execution_count": 6,
     "metadata": {},
     "output_type": "execute_result"
    }
   ],
   "source": [
    "oil['date'] = pd.to_datetime(oil['date']) \n",
    "oil = oil.sort_values(by='date') \n",
    "# Forward fill as an alternative to interpolation\n",
    "oil['dcoilwtico'] = oil['dcoilwtico'].ffill()\n",
    "oil['dcoilwtico'] = oil['dcoilwtico'].bfill()\n",
    "oil.isna().sum()"
   ]
  },
  {
   "cell_type": "code",
   "execution_count": 7,
   "id": "e04b300e",
   "metadata": {
    "execution": {
     "iopub.execute_input": "2024-11-20T17:49:31.507337Z",
     "iopub.status.busy": "2024-11-20T17:49:31.507121Z",
     "iopub.status.idle": "2024-11-20T17:49:31.511963Z",
     "shell.execute_reply": "2024-11-20T17:49:31.511287Z"
    },
    "papermill": {
     "duration": 0.015101,
     "end_time": "2024-11-20T17:49:31.513679",
     "exception": false,
     "start_time": "2024-11-20T17:49:31.498578",
     "status": "completed"
    },
    "tags": []
   },
   "outputs": [
    {
     "data": {
      "text/plain": [
       "Index(['date', 'type', 'locale', 'locale_name', 'description', 'transferred'], dtype='object')"
      ]
     },
     "execution_count": 7,
     "metadata": {},
     "output_type": "execute_result"
    }
   ],
   "source": [
    "holidays.columns"
   ]
  },
  {
   "cell_type": "code",
   "execution_count": 8,
   "id": "7425f606",
   "metadata": {
    "execution": {
     "iopub.execute_input": "2024-11-20T17:49:31.530886Z",
     "iopub.status.busy": "2024-11-20T17:49:31.530640Z",
     "iopub.status.idle": "2024-11-20T17:49:31.540868Z",
     "shell.execute_reply": "2024-11-20T17:49:31.539957Z"
    },
    "papermill": {
     "duration": 0.02061,
     "end_time": "2024-11-20T17:49:31.542483",
     "exception": false,
     "start_time": "2024-11-20T17:49:31.521873",
     "status": "completed"
    },
    "tags": []
   },
   "outputs": [],
   "source": [
    "holidays['date'] = pd.to_datetime(holidays['date'])\n",
    "holidays = holidays.sort_values(by='date')\n",
    "\n"
   ]
  },
  {
   "cell_type": "code",
   "execution_count": 9,
   "id": "20d70875",
   "metadata": {
    "execution": {
     "iopub.execute_input": "2024-11-20T17:49:31.559545Z",
     "iopub.status.busy": "2024-11-20T17:49:31.559277Z",
     "iopub.status.idle": "2024-11-20T17:49:31.564041Z",
     "shell.execute_reply": "2024-11-20T17:49:31.563279Z"
    },
    "papermill": {
     "duration": 0.015004,
     "end_time": "2024-11-20T17:49:31.565571",
     "exception": false,
     "start_time": "2024-11-20T17:49:31.550567",
     "status": "completed"
    },
    "tags": []
   },
   "outputs": [
    {
     "data": {
      "text/plain": [
       "Index(['date', 'store_nbr', 'transactions'], dtype='object')"
      ]
     },
     "execution_count": 9,
     "metadata": {},
     "output_type": "execute_result"
    }
   ],
   "source": [
    "transactions.columns"
   ]
  },
  {
   "cell_type": "code",
   "execution_count": 10,
   "id": "d2b387a5",
   "metadata": {
    "execution": {
     "iopub.execute_input": "2024-11-20T17:49:31.583051Z",
     "iopub.status.busy": "2024-11-20T17:49:31.582801Z",
     "iopub.status.idle": "2024-11-20T17:49:31.600571Z",
     "shell.execute_reply": "2024-11-20T17:49:31.599776Z"
    },
    "papermill": {
     "duration": 0.02821,
     "end_time": "2024-11-20T17:49:31.602185",
     "exception": false,
     "start_time": "2024-11-20T17:49:31.573975",
     "status": "completed"
    },
    "tags": []
   },
   "outputs": [],
   "source": [
    "transactions['date'] = pd.to_datetime(transactions['date'])\n",
    "transactions = transactions.sort_values(by='date')"
   ]
  },
  {
   "cell_type": "code",
   "execution_count": 11,
   "id": "4970f19f",
   "metadata": {
    "execution": {
     "iopub.execute_input": "2024-11-20T17:49:31.619091Z",
     "iopub.status.busy": "2024-11-20T17:49:31.618852Z",
     "iopub.status.idle": "2024-11-20T17:49:31.634063Z",
     "shell.execute_reply": "2024-11-20T17:49:31.633193Z"
    },
    "papermill": {
     "duration": 0.025423,
     "end_time": "2024-11-20T17:49:31.635638",
     "exception": false,
     "start_time": "2024-11-20T17:49:31.610215",
     "status": "completed"
    },
    "tags": []
   },
   "outputs": [
    {
     "name": "stdout",
     "output_type": "stream",
     "text": [
      "<class 'pandas.core.frame.DataFrame'>\n",
      "RangeIndex: 3000888 entries, 0 to 3000887\n",
      "Data columns (total 6 columns):\n",
      " #   Column       Dtype  \n",
      "---  ------       -----  \n",
      " 0   id           int64  \n",
      " 1   date         object \n",
      " 2   store_nbr    int64  \n",
      " 3   family       object \n",
      " 4   sales        float64\n",
      " 5   onpromotion  int64  \n",
      "dtypes: float64(1), int64(3), object(2)\n",
      "memory usage: 137.4+ MB\n"
     ]
    },
    {
     "data": {
      "text/html": [
       "<div>\n",
       "<style scoped>\n",
       "    .dataframe tbody tr th:only-of-type {\n",
       "        vertical-align: middle;\n",
       "    }\n",
       "\n",
       "    .dataframe tbody tr th {\n",
       "        vertical-align: top;\n",
       "    }\n",
       "\n",
       "    .dataframe thead th {\n",
       "        text-align: right;\n",
       "    }\n",
       "</style>\n",
       "<table border=\"1\" class=\"dataframe\">\n",
       "  <thead>\n",
       "    <tr style=\"text-align: right;\">\n",
       "      <th></th>\n",
       "      <th>id</th>\n",
       "      <th>date</th>\n",
       "      <th>store_nbr</th>\n",
       "      <th>family</th>\n",
       "      <th>sales</th>\n",
       "      <th>onpromotion</th>\n",
       "    </tr>\n",
       "  </thead>\n",
       "  <tbody>\n",
       "    <tr>\n",
       "      <th>0</th>\n",
       "      <td>0</td>\n",
       "      <td>2013-01-01</td>\n",
       "      <td>1</td>\n",
       "      <td>AUTOMOTIVE</td>\n",
       "      <td>0.0</td>\n",
       "      <td>0</td>\n",
       "    </tr>\n",
       "    <tr>\n",
       "      <th>1</th>\n",
       "      <td>1</td>\n",
       "      <td>2013-01-01</td>\n",
       "      <td>1</td>\n",
       "      <td>BABY CARE</td>\n",
       "      <td>0.0</td>\n",
       "      <td>0</td>\n",
       "    </tr>\n",
       "    <tr>\n",
       "      <th>2</th>\n",
       "      <td>2</td>\n",
       "      <td>2013-01-01</td>\n",
       "      <td>1</td>\n",
       "      <td>BEAUTY</td>\n",
       "      <td>0.0</td>\n",
       "      <td>0</td>\n",
       "    </tr>\n",
       "    <tr>\n",
       "      <th>3</th>\n",
       "      <td>3</td>\n",
       "      <td>2013-01-01</td>\n",
       "      <td>1</td>\n",
       "      <td>BEVERAGES</td>\n",
       "      <td>0.0</td>\n",
       "      <td>0</td>\n",
       "    </tr>\n",
       "    <tr>\n",
       "      <th>4</th>\n",
       "      <td>4</td>\n",
       "      <td>2013-01-01</td>\n",
       "      <td>1</td>\n",
       "      <td>BOOKS</td>\n",
       "      <td>0.0</td>\n",
       "      <td>0</td>\n",
       "    </tr>\n",
       "  </tbody>\n",
       "</table>\n",
       "</div>"
      ],
      "text/plain": [
       "   id        date  store_nbr      family  sales  onpromotion\n",
       "0   0  2013-01-01          1  AUTOMOTIVE    0.0            0\n",
       "1   1  2013-01-01          1   BABY CARE    0.0            0\n",
       "2   2  2013-01-01          1      BEAUTY    0.0            0\n",
       "3   3  2013-01-01          1   BEVERAGES    0.0            0\n",
       "4   4  2013-01-01          1       BOOKS    0.0            0"
      ]
     },
     "execution_count": 11,
     "metadata": {},
     "output_type": "execute_result"
    }
   ],
   "source": [
    "train.info()\n",
    "train.head()"
   ]
  },
  {
   "cell_type": "markdown",
   "id": "5b30edfe",
   "metadata": {
    "papermill": {
     "duration": 0.008246,
     "end_time": "2024-11-20T17:49:31.652162",
     "exception": false,
     "start_time": "2024-11-20T17:49:31.643916",
     "status": "completed"
    },
    "tags": []
   },
   "source": [
    "adding a date column in the train dataset"
   ]
  },
  {
   "cell_type": "code",
   "execution_count": 12,
   "id": "836edd5b",
   "metadata": {
    "execution": {
     "iopub.execute_input": "2024-11-20T17:49:31.669862Z",
     "iopub.status.busy": "2024-11-20T17:49:31.669614Z",
     "iopub.status.idle": "2024-11-20T17:49:33.306167Z",
     "shell.execute_reply": "2024-11-20T17:49:33.305487Z"
    },
    "papermill": {
     "duration": 1.647644,
     "end_time": "2024-11-20T17:49:33.308219",
     "exception": false,
     "start_time": "2024-11-20T17:49:31.660575",
     "status": "completed"
    },
    "tags": []
   },
   "outputs": [],
   "source": [
    "train = pd.read_csv('/kaggle/input/store-sales-time-series-forecasting/train.csv')"
   ]
  },
  {
   "cell_type": "code",
   "execution_count": 13,
   "id": "b0a33fcf",
   "metadata": {
    "execution": {
     "iopub.execute_input": "2024-11-20T17:49:33.327688Z",
     "iopub.status.busy": "2024-11-20T17:49:33.327375Z",
     "iopub.status.idle": "2024-11-20T17:49:33.566145Z",
     "shell.execute_reply": "2024-11-20T17:49:33.565184Z"
    },
    "papermill": {
     "duration": 0.250663,
     "end_time": "2024-11-20T17:49:33.568261",
     "exception": false,
     "start_time": "2024-11-20T17:49:33.317598",
     "status": "completed"
    },
    "tags": []
   },
   "outputs": [],
   "source": [
    "test['date'] = pd.to_datetime(test['date'])\n",
    "train['date'] = pd.to_datetime(train['date'])"
   ]
  },
  {
   "cell_type": "markdown",
   "id": "fc0be8ee",
   "metadata": {
    "papermill": {
     "duration": 0.008015,
     "end_time": "2024-11-20T17:49:33.584939",
     "exception": false,
     "start_time": "2024-11-20T17:49:33.576924",
     "status": "completed"
    },
    "tags": []
   },
   "source": [
    " **Feature Engineering**"
   ]
  },
  {
   "cell_type": "markdown",
   "id": "caf0669d",
   "metadata": {
    "papermill": {
     "duration": 0.008053,
     "end_time": "2024-11-20T17:49:33.601154",
     "exception": false,
     "start_time": "2024-11-20T17:49:33.593101",
     "status": "completed"
    },
    "tags": []
   },
   "source": [
    "Creating date based features"
   ]
  },
  {
   "cell_type": "code",
   "execution_count": 14,
   "id": "1e04e876",
   "metadata": {
    "execution": {
     "iopub.execute_input": "2024-11-20T17:49:33.618720Z",
     "iopub.status.busy": "2024-11-20T17:49:33.618378Z",
     "iopub.status.idle": "2024-11-20T17:49:33.996420Z",
     "shell.execute_reply": "2024-11-20T17:49:33.995512Z"
    },
    "papermill": {
     "duration": 0.38896,
     "end_time": "2024-11-20T17:49:33.998215",
     "exception": false,
     "start_time": "2024-11-20T17:49:33.609255",
     "status": "completed"
    },
    "tags": []
   },
   "outputs": [
    {
     "data": {
      "text/html": [
       "<div>\n",
       "<style scoped>\n",
       "    .dataframe tbody tr th:only-of-type {\n",
       "        vertical-align: middle;\n",
       "    }\n",
       "\n",
       "    .dataframe tbody tr th {\n",
       "        vertical-align: top;\n",
       "    }\n",
       "\n",
       "    .dataframe thead th {\n",
       "        text-align: right;\n",
       "    }\n",
       "</style>\n",
       "<table border=\"1\" class=\"dataframe\">\n",
       "  <thead>\n",
       "    <tr style=\"text-align: right;\">\n",
       "      <th></th>\n",
       "      <th>id</th>\n",
       "      <th>date</th>\n",
       "      <th>store_nbr</th>\n",
       "      <th>family</th>\n",
       "      <th>sales</th>\n",
       "      <th>onpromotion</th>\n",
       "      <th>day_of_week</th>\n",
       "      <th>month</th>\n",
       "      <th>quarter</th>\n",
       "      <th>year</th>\n",
       "      <th>is_weekend</th>\n",
       "    </tr>\n",
       "  </thead>\n",
       "  <tbody>\n",
       "    <tr>\n",
       "      <th>0</th>\n",
       "      <td>0</td>\n",
       "      <td>2013-01-01</td>\n",
       "      <td>1</td>\n",
       "      <td>AUTOMOTIVE</td>\n",
       "      <td>0.0</td>\n",
       "      <td>0</td>\n",
       "      <td>1</td>\n",
       "      <td>1</td>\n",
       "      <td>1</td>\n",
       "      <td>2013</td>\n",
       "      <td>False</td>\n",
       "    </tr>\n",
       "    <tr>\n",
       "      <th>1</th>\n",
       "      <td>1</td>\n",
       "      <td>2013-01-01</td>\n",
       "      <td>1</td>\n",
       "      <td>BABY CARE</td>\n",
       "      <td>0.0</td>\n",
       "      <td>0</td>\n",
       "      <td>1</td>\n",
       "      <td>1</td>\n",
       "      <td>1</td>\n",
       "      <td>2013</td>\n",
       "      <td>False</td>\n",
       "    </tr>\n",
       "    <tr>\n",
       "      <th>2</th>\n",
       "      <td>2</td>\n",
       "      <td>2013-01-01</td>\n",
       "      <td>1</td>\n",
       "      <td>BEAUTY</td>\n",
       "      <td>0.0</td>\n",
       "      <td>0</td>\n",
       "      <td>1</td>\n",
       "      <td>1</td>\n",
       "      <td>1</td>\n",
       "      <td>2013</td>\n",
       "      <td>False</td>\n",
       "    </tr>\n",
       "    <tr>\n",
       "      <th>3</th>\n",
       "      <td>3</td>\n",
       "      <td>2013-01-01</td>\n",
       "      <td>1</td>\n",
       "      <td>BEVERAGES</td>\n",
       "      <td>0.0</td>\n",
       "      <td>0</td>\n",
       "      <td>1</td>\n",
       "      <td>1</td>\n",
       "      <td>1</td>\n",
       "      <td>2013</td>\n",
       "      <td>False</td>\n",
       "    </tr>\n",
       "    <tr>\n",
       "      <th>4</th>\n",
       "      <td>4</td>\n",
       "      <td>2013-01-01</td>\n",
       "      <td>1</td>\n",
       "      <td>BOOKS</td>\n",
       "      <td>0.0</td>\n",
       "      <td>0</td>\n",
       "      <td>1</td>\n",
       "      <td>1</td>\n",
       "      <td>1</td>\n",
       "      <td>2013</td>\n",
       "      <td>False</td>\n",
       "    </tr>\n",
       "  </tbody>\n",
       "</table>\n",
       "</div>"
      ],
      "text/plain": [
       "   id       date  store_nbr      family  sales  onpromotion  day_of_week  \\\n",
       "0   0 2013-01-01          1  AUTOMOTIVE    0.0            0            1   \n",
       "1   1 2013-01-01          1   BABY CARE    0.0            0            1   \n",
       "2   2 2013-01-01          1      BEAUTY    0.0            0            1   \n",
       "3   3 2013-01-01          1   BEVERAGES    0.0            0            1   \n",
       "4   4 2013-01-01          1       BOOKS    0.0            0            1   \n",
       "\n",
       "   month  quarter  year  is_weekend  \n",
       "0      1        1  2013       False  \n",
       "1      1        1  2013       False  \n",
       "2      1        1  2013       False  \n",
       "3      1        1  2013       False  \n",
       "4      1        1  2013       False  "
      ]
     },
     "execution_count": 14,
     "metadata": {},
     "output_type": "execute_result"
    }
   ],
   "source": [
    "train['day_of_week'] = train['date'].dt.dayofweek\n",
    "train['month'] = train['date'].dt.month\n",
    "train['quarter'] = train['date'].dt.quarter\n",
    "train['year'] = train['date'].dt.year\n",
    "train['is_weekend'] = train['date'].dt.dayofweek >=5\n",
    "train.head()"
   ]
  },
  {
   "cell_type": "code",
   "execution_count": 15,
   "id": "8ed9961b",
   "metadata": {
    "execution": {
     "iopub.execute_input": "2024-11-20T17:49:34.016386Z",
     "iopub.status.busy": "2024-11-20T17:49:34.016112Z",
     "iopub.status.idle": "2024-11-20T17:49:34.166271Z",
     "shell.execute_reply": "2024-11-20T17:49:34.165336Z"
    },
    "papermill": {
     "duration": 0.161175,
     "end_time": "2024-11-20T17:49:34.168067",
     "exception": false,
     "start_time": "2024-11-20T17:49:34.006892",
     "status": "completed"
    },
    "tags": []
   },
   "outputs": [
    {
     "data": {
      "text/plain": [
       "id             0\n",
       "date           0\n",
       "store_nbr      0\n",
       "family         0\n",
       "sales          0\n",
       "onpromotion    0\n",
       "day_of_week    0\n",
       "month          0\n",
       "quarter        0\n",
       "year           0\n",
       "is_weekend     0\n",
       "dtype: int64"
      ]
     },
     "execution_count": 15,
     "metadata": {},
     "output_type": "execute_result"
    }
   ],
   "source": [
    "train.isna().sum()"
   ]
  },
  {
   "cell_type": "code",
   "execution_count": 16,
   "id": "608f5e29",
   "metadata": {
    "execution": {
     "iopub.execute_input": "2024-11-20T17:49:34.186987Z",
     "iopub.status.busy": "2024-11-20T17:49:34.186678Z",
     "iopub.status.idle": "2024-11-20T17:49:34.334732Z",
     "shell.execute_reply": "2024-11-20T17:49:34.333755Z"
    },
    "papermill": {
     "duration": 0.159449,
     "end_time": "2024-11-20T17:49:34.336520",
     "exception": false,
     "start_time": "2024-11-20T17:49:34.177071",
     "status": "completed"
    },
    "tags": []
   },
   "outputs": [
    {
     "data": {
      "text/plain": [
       "id             0\n",
       "date           0\n",
       "store_nbr      0\n",
       "family         0\n",
       "sales          0\n",
       "onpromotion    0\n",
       "day_of_week    0\n",
       "month          0\n",
       "quarter        0\n",
       "year           0\n",
       "is_weekend     0\n",
       "dtype: int64"
      ]
     },
     "execution_count": 16,
     "metadata": {},
     "output_type": "execute_result"
    }
   ],
   "source": [
    "train.isna().sum()"
   ]
  },
  {
   "cell_type": "code",
   "execution_count": 17,
   "id": "ce43b5ff",
   "metadata": {
    "execution": {
     "iopub.execute_input": "2024-11-20T17:49:34.355183Z",
     "iopub.status.busy": "2024-11-20T17:49:34.354913Z",
     "iopub.status.idle": "2024-11-20T17:49:34.500616Z",
     "shell.execute_reply": "2024-11-20T17:49:34.499841Z"
    },
    "papermill": {
     "duration": 0.156952,
     "end_time": "2024-11-20T17:49:34.502293",
     "exception": false,
     "start_time": "2024-11-20T17:49:34.345341",
     "status": "completed"
    },
    "tags": []
   },
   "outputs": [
    {
     "data": {
      "text/plain": [
       "id             0\n",
       "date           0\n",
       "store_nbr      0\n",
       "family         0\n",
       "sales          0\n",
       "onpromotion    0\n",
       "day_of_week    0\n",
       "month          0\n",
       "quarter        0\n",
       "year           0\n",
       "is_weekend     0\n",
       "dtype: int64"
      ]
     },
     "execution_count": 17,
     "metadata": {},
     "output_type": "execute_result"
    }
   ],
   "source": [
    "train.isna().sum()"
   ]
  },
  {
   "cell_type": "code",
   "execution_count": 18,
   "id": "325a117b",
   "metadata": {
    "execution": {
     "iopub.execute_input": "2024-11-20T17:49:34.520972Z",
     "iopub.status.busy": "2024-11-20T17:49:34.520682Z",
     "iopub.status.idle": "2024-11-20T17:49:34.670932Z",
     "shell.execute_reply": "2024-11-20T17:49:34.669968Z"
    },
    "papermill": {
     "duration": 0.161603,
     "end_time": "2024-11-20T17:49:34.672722",
     "exception": false,
     "start_time": "2024-11-20T17:49:34.511119",
     "status": "completed"
    },
    "tags": []
   },
   "outputs": [
    {
     "data": {
      "text/plain": [
       "id             0\n",
       "date           0\n",
       "store_nbr      0\n",
       "family         0\n",
       "sales          0\n",
       "onpromotion    0\n",
       "day_of_week    0\n",
       "month          0\n",
       "quarter        0\n",
       "year           0\n",
       "is_weekend     0\n",
       "dtype: int64"
      ]
     },
     "execution_count": 18,
     "metadata": {},
     "output_type": "execute_result"
    }
   ],
   "source": [
    "train.isna().sum()"
   ]
  },
  {
   "cell_type": "code",
   "execution_count": 19,
   "id": "081111e2",
   "metadata": {
    "execution": {
     "iopub.execute_input": "2024-11-20T17:49:34.691922Z",
     "iopub.status.busy": "2024-11-20T17:49:34.691648Z",
     "iopub.status.idle": "2024-11-20T17:49:35.317855Z",
     "shell.execute_reply": "2024-11-20T17:49:35.316923Z"
    },
    "papermill": {
     "duration": 0.637771,
     "end_time": "2024-11-20T17:49:35.319639",
     "exception": false,
     "start_time": "2024-11-20T17:49:34.681868",
     "status": "completed"
    },
    "tags": []
   },
   "outputs": [
    {
     "data": {
      "text/html": [
       "<div>\n",
       "<style scoped>\n",
       "    .dataframe tbody tr th:only-of-type {\n",
       "        vertical-align: middle;\n",
       "    }\n",
       "\n",
       "    .dataframe tbody tr th {\n",
       "        vertical-align: top;\n",
       "    }\n",
       "\n",
       "    .dataframe thead th {\n",
       "        text-align: right;\n",
       "    }\n",
       "</style>\n",
       "<table border=\"1\" class=\"dataframe\">\n",
       "  <thead>\n",
       "    <tr style=\"text-align: right;\">\n",
       "      <th></th>\n",
       "      <th>id</th>\n",
       "      <th>date</th>\n",
       "      <th>store_nbr</th>\n",
       "      <th>sales</th>\n",
       "      <th>onpromotion</th>\n",
       "      <th>day_of_week</th>\n",
       "      <th>month</th>\n",
       "      <th>quarter</th>\n",
       "      <th>year</th>\n",
       "    </tr>\n",
       "  </thead>\n",
       "  <tbody>\n",
       "    <tr>\n",
       "      <th>count</th>\n",
       "      <td>3.000888e+06</td>\n",
       "      <td>3000888</td>\n",
       "      <td>3.000888e+06</td>\n",
       "      <td>3.000888e+06</td>\n",
       "      <td>3.000888e+06</td>\n",
       "      <td>3.000888e+06</td>\n",
       "      <td>3.000888e+06</td>\n",
       "      <td>3.000888e+06</td>\n",
       "      <td>3.000888e+06</td>\n",
       "    </tr>\n",
       "    <tr>\n",
       "      <th>mean</th>\n",
       "      <td>1.500444e+06</td>\n",
       "      <td>2015-04-24 08:27:04.703088384</td>\n",
       "      <td>2.750000e+01</td>\n",
       "      <td>3.577757e+02</td>\n",
       "      <td>2.602770e+00</td>\n",
       "      <td>2.997031e+00</td>\n",
       "      <td>6.207838e+00</td>\n",
       "      <td>2.410333e+00</td>\n",
       "      <td>2.014838e+03</td>\n",
       "    </tr>\n",
       "    <tr>\n",
       "      <th>min</th>\n",
       "      <td>0.000000e+00</td>\n",
       "      <td>2013-01-01 00:00:00</td>\n",
       "      <td>1.000000e+00</td>\n",
       "      <td>0.000000e+00</td>\n",
       "      <td>0.000000e+00</td>\n",
       "      <td>0.000000e+00</td>\n",
       "      <td>1.000000e+00</td>\n",
       "      <td>1.000000e+00</td>\n",
       "      <td>2.013000e+03</td>\n",
       "    </tr>\n",
       "    <tr>\n",
       "      <th>25%</th>\n",
       "      <td>7.502218e+05</td>\n",
       "      <td>2014-02-26 18:00:00</td>\n",
       "      <td>1.400000e+01</td>\n",
       "      <td>0.000000e+00</td>\n",
       "      <td>0.000000e+00</td>\n",
       "      <td>1.000000e+00</td>\n",
       "      <td>3.000000e+00</td>\n",
       "      <td>1.000000e+00</td>\n",
       "      <td>2.014000e+03</td>\n",
       "    </tr>\n",
       "    <tr>\n",
       "      <th>50%</th>\n",
       "      <td>1.500444e+06</td>\n",
       "      <td>2015-04-24 12:00:00</td>\n",
       "      <td>2.750000e+01</td>\n",
       "      <td>1.100000e+01</td>\n",
       "      <td>0.000000e+00</td>\n",
       "      <td>3.000000e+00</td>\n",
       "      <td>6.000000e+00</td>\n",
       "      <td>2.000000e+00</td>\n",
       "      <td>2.015000e+03</td>\n",
       "    </tr>\n",
       "    <tr>\n",
       "      <th>75%</th>\n",
       "      <td>2.250665e+06</td>\n",
       "      <td>2016-06-19 06:00:00</td>\n",
       "      <td>4.100000e+01</td>\n",
       "      <td>1.958473e+02</td>\n",
       "      <td>0.000000e+00</td>\n",
       "      <td>5.000000e+00</td>\n",
       "      <td>9.000000e+00</td>\n",
       "      <td>3.000000e+00</td>\n",
       "      <td>2.016000e+03</td>\n",
       "    </tr>\n",
       "    <tr>\n",
       "      <th>max</th>\n",
       "      <td>3.000887e+06</td>\n",
       "      <td>2017-08-15 00:00:00</td>\n",
       "      <td>5.400000e+01</td>\n",
       "      <td>1.247170e+05</td>\n",
       "      <td>7.410000e+02</td>\n",
       "      <td>6.000000e+00</td>\n",
       "      <td>1.200000e+01</td>\n",
       "      <td>4.000000e+00</td>\n",
       "      <td>2.017000e+03</td>\n",
       "    </tr>\n",
       "    <tr>\n",
       "      <th>std</th>\n",
       "      <td>8.662819e+05</td>\n",
       "      <td>NaN</td>\n",
       "      <td>1.558579e+01</td>\n",
       "      <td>1.101998e+03</td>\n",
       "      <td>1.221888e+01</td>\n",
       "      <td>2.000740e+00</td>\n",
       "      <td>3.385668e+00</td>\n",
       "      <td>1.099952e+00</td>\n",
       "      <td>1.345518e+00</td>\n",
       "    </tr>\n",
       "  </tbody>\n",
       "</table>\n",
       "</div>"
      ],
      "text/plain": [
       "                 id                           date     store_nbr  \\\n",
       "count  3.000888e+06                        3000888  3.000888e+06   \n",
       "mean   1.500444e+06  2015-04-24 08:27:04.703088384  2.750000e+01   \n",
       "min    0.000000e+00            2013-01-01 00:00:00  1.000000e+00   \n",
       "25%    7.502218e+05            2014-02-26 18:00:00  1.400000e+01   \n",
       "50%    1.500444e+06            2015-04-24 12:00:00  2.750000e+01   \n",
       "75%    2.250665e+06            2016-06-19 06:00:00  4.100000e+01   \n",
       "max    3.000887e+06            2017-08-15 00:00:00  5.400000e+01   \n",
       "std    8.662819e+05                            NaN  1.558579e+01   \n",
       "\n",
       "              sales   onpromotion   day_of_week         month       quarter  \\\n",
       "count  3.000888e+06  3.000888e+06  3.000888e+06  3.000888e+06  3.000888e+06   \n",
       "mean   3.577757e+02  2.602770e+00  2.997031e+00  6.207838e+00  2.410333e+00   \n",
       "min    0.000000e+00  0.000000e+00  0.000000e+00  1.000000e+00  1.000000e+00   \n",
       "25%    0.000000e+00  0.000000e+00  1.000000e+00  3.000000e+00  1.000000e+00   \n",
       "50%    1.100000e+01  0.000000e+00  3.000000e+00  6.000000e+00  2.000000e+00   \n",
       "75%    1.958473e+02  0.000000e+00  5.000000e+00  9.000000e+00  3.000000e+00   \n",
       "max    1.247170e+05  7.410000e+02  6.000000e+00  1.200000e+01  4.000000e+00   \n",
       "std    1.101998e+03  1.221888e+01  2.000740e+00  3.385668e+00  1.099952e+00   \n",
       "\n",
       "               year  \n",
       "count  3.000888e+06  \n",
       "mean   2.014838e+03  \n",
       "min    2.013000e+03  \n",
       "25%    2.014000e+03  \n",
       "50%    2.015000e+03  \n",
       "75%    2.016000e+03  \n",
       "max    2.017000e+03  \n",
       "std    1.345518e+00  "
      ]
     },
     "execution_count": 19,
     "metadata": {},
     "output_type": "execute_result"
    }
   ],
   "source": [
    "train.describe()"
   ]
  },
  {
   "cell_type": "markdown",
   "id": "2392070b",
   "metadata": {
    "papermill": {
     "duration": 0.009093,
     "end_time": "2024-11-20T17:49:35.338073",
     "exception": false,
     "start_time": "2024-11-20T17:49:35.328980",
     "status": "completed"
    },
    "tags": []
   },
   "source": [
    "The date looks so unrealistic.\n",
    "checking if id is aligned with date"
   ]
  },
  {
   "cell_type": "code",
   "execution_count": 20,
   "id": "decadbb1",
   "metadata": {
    "execution": {
     "iopub.execute_input": "2024-11-20T17:49:35.357111Z",
     "iopub.status.busy": "2024-11-20T17:49:35.356836Z",
     "iopub.status.idle": "2024-11-20T17:49:36.131591Z",
     "shell.execute_reply": "2024-11-20T17:49:36.130499Z"
    },
    "papermill": {
     "duration": 0.786967,
     "end_time": "2024-11-20T17:49:36.133874",
     "exception": false,
     "start_time": "2024-11-20T17:49:35.346907",
     "status": "completed"
    },
    "tags": []
   },
   "outputs": [
    {
     "name": "stdout",
     "output_type": "stream",
     "text": [
      "Unique IDs: 3000888,Unique Dates: 1684\n"
     ]
    }
   ],
   "source": [
    "unique_dates = train[['id','date']].drop_duplicates()\n",
    "print(f\"Unique IDs: {unique_dates['id'].nunique()},Unique Dates: {unique_dates['date'].nunique()}\")"
   ]
  },
  {
   "cell_type": "code",
   "execution_count": 21,
   "id": "792e6892",
   "metadata": {
    "execution": {
     "iopub.execute_input": "2024-11-20T17:49:36.153849Z",
     "iopub.status.busy": "2024-11-20T17:49:36.153562Z",
     "iopub.status.idle": "2024-11-20T17:49:36.169914Z",
     "shell.execute_reply": "2024-11-20T17:49:36.168974Z"
    },
    "papermill": {
     "duration": 0.027913,
     "end_time": "2024-11-20T17:49:36.171630",
     "exception": false,
     "start_time": "2024-11-20T17:49:36.143717",
     "status": "completed"
    },
    "tags": []
   },
   "outputs": [
    {
     "name": "stdout",
     "output_type": "stream",
     "text": [
      "Date range: 2013-01-01 00:00:00 to 2017-08-15 00:00:00\n"
     ]
    }
   ],
   "source": [
    "print(f\"Date range: {train['date'].min()} to {train['date'].max()}\")"
   ]
  },
  {
   "cell_type": "code",
   "execution_count": 22,
   "id": "e6e9ac10",
   "metadata": {
    "execution": {
     "iopub.execute_input": "2024-11-20T17:49:36.192050Z",
     "iopub.status.busy": "2024-11-20T17:49:36.191766Z",
     "iopub.status.idle": "2024-11-20T17:49:36.323337Z",
     "shell.execute_reply": "2024-11-20T17:49:36.322394Z"
    },
    "papermill": {
     "duration": 0.143855,
     "end_time": "2024-11-20T17:49:36.325529",
     "exception": false,
     "start_time": "2024-11-20T17:49:36.181674",
     "status": "completed"
    },
    "tags": []
   },
   "outputs": [],
   "source": [
    "start_date = '2012-01-01'\n",
    "end_date = '2018-01-01'\n",
    "\n",
    "train = train[(train['date'] >= start_date) & (train['date'] <= end_date)]"
   ]
  },
  {
   "cell_type": "code",
   "execution_count": 23,
   "id": "e8d1f7cb",
   "metadata": {
    "execution": {
     "iopub.execute_input": "2024-11-20T17:49:36.345967Z",
     "iopub.status.busy": "2024-11-20T17:49:36.345679Z",
     "iopub.status.idle": "2024-11-20T17:49:36.975260Z",
     "shell.execute_reply": "2024-11-20T17:49:36.974391Z"
    },
    "papermill": {
     "duration": 0.641613,
     "end_time": "2024-11-20T17:49:36.976990",
     "exception": false,
     "start_time": "2024-11-20T17:49:36.335377",
     "status": "completed"
    },
    "tags": []
   },
   "outputs": [
    {
     "data": {
      "text/html": [
       "<div>\n",
       "<style scoped>\n",
       "    .dataframe tbody tr th:only-of-type {\n",
       "        vertical-align: middle;\n",
       "    }\n",
       "\n",
       "    .dataframe tbody tr th {\n",
       "        vertical-align: top;\n",
       "    }\n",
       "\n",
       "    .dataframe thead th {\n",
       "        text-align: right;\n",
       "    }\n",
       "</style>\n",
       "<table border=\"1\" class=\"dataframe\">\n",
       "  <thead>\n",
       "    <tr style=\"text-align: right;\">\n",
       "      <th></th>\n",
       "      <th>id</th>\n",
       "      <th>date</th>\n",
       "      <th>store_nbr</th>\n",
       "      <th>sales</th>\n",
       "      <th>onpromotion</th>\n",
       "      <th>day_of_week</th>\n",
       "      <th>month</th>\n",
       "      <th>quarter</th>\n",
       "      <th>year</th>\n",
       "    </tr>\n",
       "  </thead>\n",
       "  <tbody>\n",
       "    <tr>\n",
       "      <th>count</th>\n",
       "      <td>3.000888e+06</td>\n",
       "      <td>3000888</td>\n",
       "      <td>3.000888e+06</td>\n",
       "      <td>3.000888e+06</td>\n",
       "      <td>3.000888e+06</td>\n",
       "      <td>3.000888e+06</td>\n",
       "      <td>3.000888e+06</td>\n",
       "      <td>3.000888e+06</td>\n",
       "      <td>3.000888e+06</td>\n",
       "    </tr>\n",
       "    <tr>\n",
       "      <th>mean</th>\n",
       "      <td>1.500444e+06</td>\n",
       "      <td>2015-04-24 08:27:04.703088384</td>\n",
       "      <td>2.750000e+01</td>\n",
       "      <td>3.577757e+02</td>\n",
       "      <td>2.602770e+00</td>\n",
       "      <td>2.997031e+00</td>\n",
       "      <td>6.207838e+00</td>\n",
       "      <td>2.410333e+00</td>\n",
       "      <td>2.014838e+03</td>\n",
       "    </tr>\n",
       "    <tr>\n",
       "      <th>min</th>\n",
       "      <td>0.000000e+00</td>\n",
       "      <td>2013-01-01 00:00:00</td>\n",
       "      <td>1.000000e+00</td>\n",
       "      <td>0.000000e+00</td>\n",
       "      <td>0.000000e+00</td>\n",
       "      <td>0.000000e+00</td>\n",
       "      <td>1.000000e+00</td>\n",
       "      <td>1.000000e+00</td>\n",
       "      <td>2.013000e+03</td>\n",
       "    </tr>\n",
       "    <tr>\n",
       "      <th>25%</th>\n",
       "      <td>7.502218e+05</td>\n",
       "      <td>2014-02-26 18:00:00</td>\n",
       "      <td>1.400000e+01</td>\n",
       "      <td>0.000000e+00</td>\n",
       "      <td>0.000000e+00</td>\n",
       "      <td>1.000000e+00</td>\n",
       "      <td>3.000000e+00</td>\n",
       "      <td>1.000000e+00</td>\n",
       "      <td>2.014000e+03</td>\n",
       "    </tr>\n",
       "    <tr>\n",
       "      <th>50%</th>\n",
       "      <td>1.500444e+06</td>\n",
       "      <td>2015-04-24 12:00:00</td>\n",
       "      <td>2.750000e+01</td>\n",
       "      <td>1.100000e+01</td>\n",
       "      <td>0.000000e+00</td>\n",
       "      <td>3.000000e+00</td>\n",
       "      <td>6.000000e+00</td>\n",
       "      <td>2.000000e+00</td>\n",
       "      <td>2.015000e+03</td>\n",
       "    </tr>\n",
       "    <tr>\n",
       "      <th>75%</th>\n",
       "      <td>2.250665e+06</td>\n",
       "      <td>2016-06-19 06:00:00</td>\n",
       "      <td>4.100000e+01</td>\n",
       "      <td>1.958473e+02</td>\n",
       "      <td>0.000000e+00</td>\n",
       "      <td>5.000000e+00</td>\n",
       "      <td>9.000000e+00</td>\n",
       "      <td>3.000000e+00</td>\n",
       "      <td>2.016000e+03</td>\n",
       "    </tr>\n",
       "    <tr>\n",
       "      <th>max</th>\n",
       "      <td>3.000887e+06</td>\n",
       "      <td>2017-08-15 00:00:00</td>\n",
       "      <td>5.400000e+01</td>\n",
       "      <td>1.247170e+05</td>\n",
       "      <td>7.410000e+02</td>\n",
       "      <td>6.000000e+00</td>\n",
       "      <td>1.200000e+01</td>\n",
       "      <td>4.000000e+00</td>\n",
       "      <td>2.017000e+03</td>\n",
       "    </tr>\n",
       "    <tr>\n",
       "      <th>std</th>\n",
       "      <td>8.662819e+05</td>\n",
       "      <td>NaN</td>\n",
       "      <td>1.558579e+01</td>\n",
       "      <td>1.101998e+03</td>\n",
       "      <td>1.221888e+01</td>\n",
       "      <td>2.000740e+00</td>\n",
       "      <td>3.385668e+00</td>\n",
       "      <td>1.099952e+00</td>\n",
       "      <td>1.345518e+00</td>\n",
       "    </tr>\n",
       "  </tbody>\n",
       "</table>\n",
       "</div>"
      ],
      "text/plain": [
       "                 id                           date     store_nbr  \\\n",
       "count  3.000888e+06                        3000888  3.000888e+06   \n",
       "mean   1.500444e+06  2015-04-24 08:27:04.703088384  2.750000e+01   \n",
       "min    0.000000e+00            2013-01-01 00:00:00  1.000000e+00   \n",
       "25%    7.502218e+05            2014-02-26 18:00:00  1.400000e+01   \n",
       "50%    1.500444e+06            2015-04-24 12:00:00  2.750000e+01   \n",
       "75%    2.250665e+06            2016-06-19 06:00:00  4.100000e+01   \n",
       "max    3.000887e+06            2017-08-15 00:00:00  5.400000e+01   \n",
       "std    8.662819e+05                            NaN  1.558579e+01   \n",
       "\n",
       "              sales   onpromotion   day_of_week         month       quarter  \\\n",
       "count  3.000888e+06  3.000888e+06  3.000888e+06  3.000888e+06  3.000888e+06   \n",
       "mean   3.577757e+02  2.602770e+00  2.997031e+00  6.207838e+00  2.410333e+00   \n",
       "min    0.000000e+00  0.000000e+00  0.000000e+00  1.000000e+00  1.000000e+00   \n",
       "25%    0.000000e+00  0.000000e+00  1.000000e+00  3.000000e+00  1.000000e+00   \n",
       "50%    1.100000e+01  0.000000e+00  3.000000e+00  6.000000e+00  2.000000e+00   \n",
       "75%    1.958473e+02  0.000000e+00  5.000000e+00  9.000000e+00  3.000000e+00   \n",
       "max    1.247170e+05  7.410000e+02  6.000000e+00  1.200000e+01  4.000000e+00   \n",
       "std    1.101998e+03  1.221888e+01  2.000740e+00  3.385668e+00  1.099952e+00   \n",
       "\n",
       "               year  \n",
       "count  3.000888e+06  \n",
       "mean   2.014838e+03  \n",
       "min    2.013000e+03  \n",
       "25%    2.014000e+03  \n",
       "50%    2.015000e+03  \n",
       "75%    2.016000e+03  \n",
       "max    2.017000e+03  \n",
       "std    1.345518e+00  "
      ]
     },
     "execution_count": 23,
     "metadata": {},
     "output_type": "execute_result"
    }
   ],
   "source": [
    "train.describe()"
   ]
  },
  {
   "cell_type": "markdown",
   "id": "0c212bad",
   "metadata": {
    "papermill": {
     "duration": 0.00928,
     "end_time": "2024-11-20T17:49:36.995883",
     "exception": false,
     "start_time": "2024-11-20T17:49:36.986603",
     "status": "completed"
    },
    "tags": []
   },
   "source": [
    "setting date as the index for easier time-based analysis"
   ]
  },
  {
   "cell_type": "code",
   "execution_count": 24,
   "id": "36541f88",
   "metadata": {
    "execution": {
     "iopub.execute_input": "2024-11-20T17:49:37.015413Z",
     "iopub.status.busy": "2024-11-20T17:49:37.015139Z",
     "iopub.status.idle": "2024-11-20T17:49:37.024812Z",
     "shell.execute_reply": "2024-11-20T17:49:37.024005Z"
    },
    "papermill": {
     "duration": 0.021431,
     "end_time": "2024-11-20T17:49:37.026395",
     "exception": false,
     "start_time": "2024-11-20T17:49:37.004964",
     "status": "completed"
    },
    "tags": []
   },
   "outputs": [],
   "source": [
    "train.set_index('date',inplace= True)\n",
    "train.sort_index(inplace=True)"
   ]
  },
  {
   "cell_type": "code",
   "execution_count": 25,
   "id": "c5cea759",
   "metadata": {
    "execution": {
     "iopub.execute_input": "2024-11-20T17:49:37.046395Z",
     "iopub.status.busy": "2024-11-20T17:49:37.045620Z",
     "iopub.status.idle": "2024-11-20T17:49:37.055271Z",
     "shell.execute_reply": "2024-11-20T17:49:37.054623Z"
    },
    "papermill": {
     "duration": 0.021273,
     "end_time": "2024-11-20T17:49:37.056952",
     "exception": false,
     "start_time": "2024-11-20T17:49:37.035679",
     "status": "completed"
    },
    "tags": []
   },
   "outputs": [
    {
     "data": {
      "text/plain": [
       "0"
      ]
     },
     "execution_count": 25,
     "metadata": {},
     "output_type": "execute_result"
    }
   ],
   "source": [
    "train['sales'].isna().sum()"
   ]
  },
  {
   "cell_type": "markdown",
   "id": "6c859cfa",
   "metadata": {
    "papermill": {
     "duration": 0.009104,
     "end_time": "2024-11-20T17:49:37.075227",
     "exception": false,
     "start_time": "2024-11-20T17:49:37.066123",
     "status": "completed"
    },
    "tags": []
   },
   "source": [
    "Feature Engineering"
   ]
  },
  {
   "cell_type": "code",
   "execution_count": 26,
   "id": "4365c671",
   "metadata": {
    "execution": {
     "iopub.execute_input": "2024-11-20T17:49:37.094807Z",
     "iopub.status.busy": "2024-11-20T17:49:37.094578Z",
     "iopub.status.idle": "2024-11-20T17:49:37.171176Z",
     "shell.execute_reply": "2024-11-20T17:49:37.170212Z"
    },
    "papermill": {
     "duration": 0.088908,
     "end_time": "2024-11-20T17:49:37.173333",
     "exception": false,
     "start_time": "2024-11-20T17:49:37.084425",
     "status": "completed"
    },
    "tags": []
   },
   "outputs": [],
   "source": [
    "train['sales_7d_avg'] = train['sales'].rolling(window=7,min_periods=1).mean()"
   ]
  },
  {
   "cell_type": "code",
   "execution_count": 27,
   "id": "587be76f",
   "metadata": {
    "execution": {
     "iopub.execute_input": "2024-11-20T17:49:37.193783Z",
     "iopub.status.busy": "2024-11-20T17:49:37.193490Z",
     "iopub.status.idle": "2024-11-20T17:49:37.343763Z",
     "shell.execute_reply": "2024-11-20T17:49:37.342905Z"
    },
    "papermill": {
     "duration": 0.162495,
     "end_time": "2024-11-20T17:49:37.345711",
     "exception": false,
     "start_time": "2024-11-20T17:49:37.183216",
     "status": "completed"
    },
    "tags": []
   },
   "outputs": [
    {
     "data": {
      "text/plain": [
       "id              0\n",
       "store_nbr       0\n",
       "family          0\n",
       "sales           0\n",
       "onpromotion     0\n",
       "day_of_week     0\n",
       "month           0\n",
       "quarter         0\n",
       "year            0\n",
       "is_weekend      0\n",
       "sales_7d_avg    0\n",
       "dtype: int64"
      ]
     },
     "execution_count": 27,
     "metadata": {},
     "output_type": "execute_result"
    }
   ],
   "source": [
    "train.isna().sum()"
   ]
  },
  {
   "cell_type": "code",
   "execution_count": 28,
   "id": "50f13098",
   "metadata": {
    "execution": {
     "iopub.execute_input": "2024-11-20T17:49:37.366605Z",
     "iopub.status.busy": "2024-11-20T17:49:37.366310Z",
     "iopub.status.idle": "2024-11-20T17:49:37.512288Z",
     "shell.execute_reply": "2024-11-20T17:49:37.511526Z"
    },
    "papermill": {
     "duration": 0.157873,
     "end_time": "2024-11-20T17:49:37.514054",
     "exception": false,
     "start_time": "2024-11-20T17:49:37.356181",
     "status": "completed"
    },
    "tags": []
   },
   "outputs": [
    {
     "data": {
      "text/plain": [
       "id              0\n",
       "store_nbr       0\n",
       "family          0\n",
       "sales           0\n",
       "onpromotion     0\n",
       "day_of_week     0\n",
       "month           0\n",
       "quarter         0\n",
       "year            0\n",
       "is_weekend      0\n",
       "sales_7d_avg    0\n",
       "dtype: int64"
      ]
     },
     "execution_count": 28,
     "metadata": {},
     "output_type": "execute_result"
    }
   ],
   "source": [
    "train.isna().sum()"
   ]
  },
  {
   "cell_type": "code",
   "execution_count": 29,
   "id": "687fb212",
   "metadata": {
    "execution": {
     "iopub.execute_input": "2024-11-20T17:49:37.534497Z",
     "iopub.status.busy": "2024-11-20T17:49:37.534238Z",
     "iopub.status.idle": "2024-11-20T17:49:37.583500Z",
     "shell.execute_reply": "2024-11-20T17:49:37.582408Z"
    },
    "papermill": {
     "duration": 0.061244,
     "end_time": "2024-11-20T17:49:37.585129",
     "exception": false,
     "start_time": "2024-11-20T17:49:37.523885",
     "status": "completed"
    },
    "tags": []
   },
   "outputs": [
    {
     "name": "stdout",
     "output_type": "stream",
     "text": [
      "<class 'pandas.core.frame.DataFrame'>\n",
      "DatetimeIndex: 3000888 entries, 2013-01-01 to 2017-08-15\n",
      "Data columns (total 11 columns):\n",
      " #   Column        Dtype  \n",
      "---  ------        -----  \n",
      " 0   id            int64  \n",
      " 1   store_nbr     int64  \n",
      " 2   family        object \n",
      " 3   sales         float64\n",
      " 4   onpromotion   int64  \n",
      " 5   day_of_week   int32  \n",
      " 6   month         int32  \n",
      " 7   quarter       int32  \n",
      " 8   year          int32  \n",
      " 9   is_weekend    bool   \n",
      " 10  sales_7d_avg  float64\n",
      "dtypes: bool(1), float64(2), int32(4), int64(3), object(1)\n",
      "memory usage: 208.9+ MB\n"
     ]
    }
   ],
   "source": [
    "train.info()"
   ]
  },
  {
   "cell_type": "code",
   "execution_count": 30,
   "id": "a250de9e",
   "metadata": {
    "execution": {
     "iopub.execute_input": "2024-11-20T17:49:37.605858Z",
     "iopub.status.busy": "2024-11-20T17:49:37.605591Z",
     "iopub.status.idle": "2024-11-20T17:49:38.249936Z",
     "shell.execute_reply": "2024-11-20T17:49:38.249226Z"
    },
    "papermill": {
     "duration": 0.657124,
     "end_time": "2024-11-20T17:49:38.252188",
     "exception": false,
     "start_time": "2024-11-20T17:49:37.595064",
     "status": "completed"
    },
    "tags": []
   },
   "outputs": [],
   "source": [
    "train = pd.get_dummies(train,columns=['family'],drop_first=True)"
   ]
  },
  {
   "cell_type": "code",
   "execution_count": 31,
   "id": "975e2f64",
   "metadata": {
    "execution": {
     "iopub.execute_input": "2024-11-20T17:49:38.273781Z",
     "iopub.status.busy": "2024-11-20T17:49:38.273408Z",
     "iopub.status.idle": "2024-11-20T17:49:38.329724Z",
     "shell.execute_reply": "2024-11-20T17:49:38.328744Z"
    },
    "papermill": {
     "duration": 0.069425,
     "end_time": "2024-11-20T17:49:38.331766",
     "exception": false,
     "start_time": "2024-11-20T17:49:38.262341",
     "status": "completed"
    },
    "tags": []
   },
   "outputs": [],
   "source": [
    "numeric_data = train.select_dtypes(include=['float64','int64','int32'])"
   ]
  },
  {
   "cell_type": "code",
   "execution_count": 32,
   "id": "18bf1a8e",
   "metadata": {
    "execution": {
     "iopub.execute_input": "2024-11-20T17:49:38.353812Z",
     "iopub.status.busy": "2024-11-20T17:49:38.353501Z",
     "iopub.status.idle": "2024-11-20T17:49:41.083538Z",
     "shell.execute_reply": "2024-11-20T17:49:41.081969Z"
    },
    "papermill": {
     "duration": 2.745802,
     "end_time": "2024-11-20T17:49:41.087988",
     "exception": false,
     "start_time": "2024-11-20T17:49:38.342186",
     "status": "completed"
    },
    "tags": []
   },
   "outputs": [
    {
     "data": {
      "image/png": "[encoded data removed]",
      "text/plain": [
       "<Figure size 1000x600 with 2 Axes>"
      ]
     },
     "metadata": {},
     "output_type": "display_data"
    }
   ],
   "source": [
    "import matplotlib.pyplot as plt\n",
    "import seaborn as sns\n",
    "plt.figure(figsize=(10,6))\n",
    "sns.heatmap(numeric_data.corr(),annot=True, cmap='coolwarm')\n",
    "plt.title('Correlation Heatmap')\n",
    "plt.show()"
   ]
  },
  {
   "cell_type": "markdown",
   "id": "0d8de829",
   "metadata": {
    "papermill": {
     "duration": 0.016902,
     "end_time": "2024-11-20T17:49:41.121223",
     "exception": false,
     "start_time": "2024-11-20T17:49:41.104321",
     "status": "completed"
    },
    "tags": []
   },
   "source": [
    "Feature selection"
   ]
  },
  {
   "cell_type": "code",
   "execution_count": 33,
   "id": "68819107",
   "metadata": {
    "execution": {
     "iopub.execute_input": "2024-11-20T17:49:41.150270Z",
     "iopub.status.busy": "2024-11-20T17:49:41.149132Z",
     "iopub.status.idle": "2024-11-20T17:49:41.160519Z",
     "shell.execute_reply": "2024-11-20T17:49:41.159381Z"
    },
    "papermill": {
     "duration": 0.026137,
     "end_time": "2024-11-20T17:49:41.162309",
     "exception": false,
     "start_time": "2024-11-20T17:49:41.136172",
     "status": "completed"
    },
    "tags": []
   },
   "outputs": [
    {
     "name": "stdout",
     "output_type": "stream",
     "text": [
      "<class 'pandas.core.frame.DataFrame'>\n",
      "DatetimeIndex: 3000888 entries, 2013-01-01 to 2017-08-15\n",
      "Data columns (total 42 columns):\n",
      " #   Column                             Dtype  \n",
      "---  ------                             -----  \n",
      " 0   id                                 int64  \n",
      " 1   store_nbr                          int64  \n",
      " 2   sales                              float64\n",
      " 3   onpromotion                        int64  \n",
      " 4   day_of_week                        int32  \n",
      " 5   month                              int32  \n",
      " 6   quarter                            int32  \n",
      " 7   year                               int32  \n",
      " 8   is_weekend                         bool   \n",
      " 9   sales_7d_avg                       float64\n",
      " 10  family_BABY CARE                   bool   \n",
      " 11  family_BEAUTY                      bool   \n",
      " 12  family_BEVERAGES                   bool   \n",
      " 13  family_BOOKS                       bool   \n",
      " 14  family_BREAD/BAKERY                bool   \n",
      " 15  family_CELEBRATION                 bool   \n",
      " 16  family_CLEANING                    bool   \n",
      " 17  family_DAIRY                       bool   \n",
      " 18  family_DELI                        bool   \n",
      " 19  family_EGGS                        bool   \n",
      " 20  family_FROZEN FOODS                bool   \n",
      " 21  family_GROCERY I                   bool   \n",
      " 22  family_GROCERY II                  bool   \n",
      " 23  family_HARDWARE                    bool   \n",
      " 24  family_HOME AND KITCHEN I          bool   \n",
      " 25  family_HOME AND KITCHEN II         bool   \n",
      " 26  family_HOME APPLIANCES             bool   \n",
      " 27  family_HOME CARE                   bool   \n",
      " 28  family_LADIESWEAR                  bool   \n",
      " 29  family_LAWN AND GARDEN             bool   \n",
      " 30  family_LINGERIE                    bool   \n",
      " 31  family_LIQUOR,WINE,BEER            bool   \n",
      " 32  family_MAGAZINES                   bool   \n",
      " 33  family_MEATS                       bool   \n",
      " 34  family_PERSONAL CARE               bool   \n",
      " 35  family_PET SUPPLIES                bool   \n",
      " 36  family_PLAYERS AND ELECTRONICS     bool   \n",
      " 37  family_POULTRY                     bool   \n",
      " 38  family_PREPARED FOODS              bool   \n",
      " 39  family_PRODUCE                     bool   \n",
      " 40  family_SCHOOL AND OFFICE SUPPLIES  bool   \n",
      " 41  family_SEAFOOD                     bool   \n",
      "dtypes: bool(33), float64(2), int32(4), int64(3)\n",
      "memory usage: 277.6 MB\n"
     ]
    }
   ],
   "source": [
    "\n",
    "train.info()"
   ]
  },
  {
   "cell_type": "code",
   "execution_count": 34,
   "id": "aca75b6d",
   "metadata": {
    "execution": {
     "iopub.execute_input": "2024-11-20T17:49:41.185126Z",
     "iopub.status.busy": "2024-11-20T17:49:41.184862Z",
     "iopub.status.idle": "2024-11-20T17:49:41.517886Z",
     "shell.execute_reply": "2024-11-20T17:49:41.517038Z"
    },
    "papermill": {
     "duration": 0.346434,
     "end_time": "2024-11-20T17:49:41.519639",
     "exception": false,
     "start_time": "2024-11-20T17:49:41.173205",
     "status": "completed"
    },
    "tags": []
   },
   "outputs": [
    {
     "data": {
      "image/png": "[encoded data removed]",
      "text/plain": [
       "<Figure size 640x480 with 1 Axes>"
      ]
     },
     "metadata": {},
     "output_type": "display_data"
    }
   ],
   "source": [
    "import matplotlib.pyplot as plt\n",
    "import numpy as np\n",
    "\n",
    "plt.hist(train['sales'], bins=50)\n",
    "plt.title('Sales Distribution')\n",
    "plt.show()"
   ]
  },
  {
   "cell_type": "code",
   "execution_count": 35,
   "id": "f87dfe68",
   "metadata": {
    "execution": {
     "iopub.execute_input": "2024-11-20T17:49:41.543791Z",
     "iopub.status.busy": "2024-11-20T17:49:41.543462Z",
     "iopub.status.idle": "2024-11-20T17:49:41.568588Z",
     "shell.execute_reply": "2024-11-20T17:49:41.567933Z"
    },
    "papermill": {
     "duration": 0.039032,
     "end_time": "2024-11-20T17:49:41.570283",
     "exception": false,
     "start_time": "2024-11-20T17:49:41.531251",
     "status": "completed"
    },
    "tags": []
   },
   "outputs": [],
   "source": [
    "import numpy as np\n",
    "train['log_sales'] = np.log1p(train['sales'])"
   ]
  },
  {
   "cell_type": "code",
   "execution_count": 36,
   "id": "7c0acbee",
   "metadata": {
    "execution": {
     "iopub.execute_input": "2024-11-20T17:49:41.593607Z",
     "iopub.status.busy": "2024-11-20T17:49:41.593333Z",
     "iopub.status.idle": "2024-11-20T17:49:41.602076Z",
     "shell.execute_reply": "2024-11-20T17:49:41.601251Z"
    },
    "papermill": {
     "duration": 0.022097,
     "end_time": "2024-11-20T17:49:41.603663",
     "exception": false,
     "start_time": "2024-11-20T17:49:41.581566",
     "status": "completed"
    },
    "tags": []
   },
   "outputs": [],
   "source": [
    "train['is_zero_sales'] = train['sales'] == 0"
   ]
  },
  {
   "cell_type": "code",
   "execution_count": 37,
   "id": "6c02a0c5",
   "metadata": {
    "execution": {
     "iopub.execute_input": "2024-11-20T17:49:41.626356Z",
     "iopub.status.busy": "2024-11-20T17:49:41.626097Z",
     "iopub.status.idle": "2024-11-20T17:49:55.523468Z",
     "shell.execute_reply": "2024-11-20T17:49:55.522486Z"
    },
    "papermill": {
     "duration": 13.91085,
     "end_time": "2024-11-20T17:49:55.525493",
     "exception": false,
     "start_time": "2024-11-20T17:49:41.614643",
     "status": "completed"
    },
    "tags": []
   },
   "outputs": [
    {
     "name": "stdout",
     "output_type": "stream",
     "text": [
      "sales                                1.000000\n",
      "log_sales                            0.566665\n",
      "family_GROCERY I                     0.548490\n",
      "sales_7d_avg                         0.468110\n",
      "onpromotion                          0.427923\n",
      "family_BEVERAGES                     0.325324\n",
      "family_PRODUCE                       0.159064\n",
      "family_CLEANING                      0.114639\n",
      "id                                   0.085784\n",
      "year                                 0.081093\n",
      "family_DAIRY                         0.056366\n",
      "is_weekend                           0.051874\n",
      "store_nbr                            0.041196\n",
      "day_of_week                          0.036869\n",
      "month                                0.019790\n",
      "quarter                              0.018237\n",
      "family_BREAD/BAKERY                  0.016933\n",
      "family_POULTRY                      -0.001162\n",
      "family_MEATS                        -0.002555\n",
      "family_PERSONAL CARE                -0.014011\n",
      "family_DELI                         -0.014861\n",
      "family_HOME CARE                    -0.029128\n",
      "family_EGGS                         -0.029894\n",
      "family_FROZEN FOODS                 -0.032566\n",
      "family_PREPARED FOODS               -0.041869\n",
      "family_LIQUOR,WINE,BEER             -0.043727\n",
      "family_SEAFOOD                      -0.053837\n",
      "family_GROCERY II                   -0.053930\n",
      "family_HOME AND KITCHEN I           -0.054109\n",
      "family_HOME AND KITCHEN II          -0.054710\n",
      "family_CELEBRATION                  -0.056050\n",
      "family_LINGERIE                     -0.056240\n",
      "family_LADIESWEAR                   -0.056244\n",
      "family_PLAYERS AND ELECTRONICS      -0.056400\n",
      "family_LAWN AND GARDEN              -0.056424\n",
      "family_PET SUPPLIES                 -0.056763\n",
      "family_BEAUTY                       -0.056796\n",
      "family_SCHOOL AND OFFICE SUPPLIES   -0.056917\n",
      "family_MAGAZINES                    -0.056923\n",
      "family_HARDWARE                     -0.057210\n",
      "family_HOME APPLIANCES              -0.057319\n",
      "family_BABY CARE                    -0.057375\n",
      "family_BOOKS                        -0.057381\n",
      "is_zero_sales                       -0.219116\n",
      "Name: sales, dtype: float64\n"
     ]
    }
   ],
   "source": [
    "correlation = train.corr()\n",
    "print(correlation['sales'].sort_values(ascending=False))"
   ]
  },
  {
   "cell_type": "markdown",
   "id": "3bb1a4d1",
   "metadata": {
    "papermill": {
     "duration": 0.010905,
     "end_time": "2024-11-20T17:49:55.547845",
     "exception": false,
     "start_time": "2024-11-20T17:49:55.536940",
     "status": "completed"
    },
    "tags": []
   },
   "source": [
    "Retaining important features"
   ]
  },
  {
   "cell_type": "code",
   "execution_count": 38,
   "id": "e3f50185",
   "metadata": {
    "execution": {
     "iopub.execute_input": "2024-11-20T17:49:55.571564Z",
     "iopub.status.busy": "2024-11-20T17:49:55.571242Z",
     "iopub.status.idle": "2024-11-20T17:49:55.575162Z",
     "shell.execute_reply": "2024-11-20T17:49:55.574484Z"
    },
    "papermill": {
     "duration": 0.017658,
     "end_time": "2024-11-20T17:49:55.576767",
     "exception": false,
     "start_time": "2024-11-20T17:49:55.559109",
     "status": "completed"
    },
    "tags": []
   },
   "outputs": [],
   "source": [
    "important_features = ['sales','sales_7d_avg','onpromotion','family_GROCERY I',\n",
    "'family_BEVERAGES','family_PRODUCE','is_zero_sales']"
   ]
  },
  {
   "cell_type": "markdown",
   "id": "e214a486",
   "metadata": {
    "papermill": {
     "duration": 0.0114,
     "end_time": "2024-11-20T17:49:55.599488",
     "exception": false,
     "start_time": "2024-11-20T17:49:55.588088",
     "status": "completed"
    },
    "tags": []
   },
   "source": [
    "Including temporal features"
   ]
  },
  {
   "cell_type": "code",
   "execution_count": 39,
   "id": "10aa5a99",
   "metadata": {
    "execution": {
     "iopub.execute_input": "2024-11-20T17:49:55.623277Z",
     "iopub.status.busy": "2024-11-20T17:49:55.623024Z",
     "iopub.status.idle": "2024-11-20T17:49:55.626572Z",
     "shell.execute_reply": "2024-11-20T17:49:55.625925Z"
    },
    "papermill": {
     "duration": 0.01732,
     "end_time": "2024-11-20T17:49:55.628125",
     "exception": false,
     "start_time": "2024-11-20T17:49:55.610805",
     "status": "completed"
    },
    "tags": []
   },
   "outputs": [],
   "source": [
    "important_features += ['day_of_week','month','year','quarter']"
   ]
  },
  {
   "cell_type": "markdown",
   "id": "a58eb2c1",
   "metadata": {
    "papermill": {
     "duration": 0.010815,
     "end_time": "2024-11-20T17:49:55.650065",
     "exception": false,
     "start_time": "2024-11-20T17:49:55.639250",
     "status": "completed"
    },
    "tags": []
   },
   "source": [
    "One-hot encoding remaining family categories"
   ]
  },
  {
   "cell_type": "code",
   "execution_count": 40,
   "id": "b6fe4001",
   "metadata": {
    "execution": {
     "iopub.execute_input": "2024-11-20T17:49:55.674865Z",
     "iopub.status.busy": "2024-11-20T17:49:55.674598Z",
     "iopub.status.idle": "2024-11-20T17:49:55.737938Z",
     "shell.execute_reply": "2024-11-20T17:49:55.737220Z"
    },
    "papermill": {
     "duration": 0.078201,
     "end_time": "2024-11-20T17:49:55.740108",
     "exception": false,
     "start_time": "2024-11-20T17:49:55.661907",
     "status": "completed"
    },
    "tags": []
   },
   "outputs": [],
   "source": [
    "refined_train = train[important_features]"
   ]
  },
  {
   "cell_type": "code",
   "execution_count": 41,
   "id": "98154a8b",
   "metadata": {
    "execution": {
     "iopub.execute_input": "2024-11-20T17:49:55.766011Z",
     "iopub.status.busy": "2024-11-20T17:49:55.765295Z",
     "iopub.status.idle": "2024-11-20T17:49:55.943939Z",
     "shell.execute_reply": "2024-11-20T17:49:55.942933Z"
    },
    "papermill": {
     "duration": 0.193868,
     "end_time": "2024-11-20T17:49:55.946165",
     "exception": false,
     "start_time": "2024-11-20T17:49:55.752297",
     "status": "completed"
    },
    "tags": []
   },
   "outputs": [],
   "source": [
    "categorical_families = [col for col in train.columns if 'family' in col and col not in important_features]\n",
    "refined_train = pd.concat([refined_train, train[categorical_families]], axis =1)"
   ]
  },
  {
   "cell_type": "code",
   "execution_count": 42,
   "id": "534432e1",
   "metadata": {
    "execution": {
     "iopub.execute_input": "2024-11-20T17:49:55.970927Z",
     "iopub.status.busy": "2024-11-20T17:49:55.970191Z",
     "iopub.status.idle": "2024-11-20T17:50:07.490405Z",
     "shell.execute_reply": "2024-11-20T17:50:07.489508Z"
    },
    "papermill": {
     "duration": 11.53489,
     "end_time": "2024-11-20T17:50:07.492703",
     "exception": false,
     "start_time": "2024-11-20T17:49:55.957813",
     "status": "completed"
    },
    "tags": []
   },
   "outputs": [
    {
     "name": "stdout",
     "output_type": "stream",
     "text": [
      "sales                                1.000000\n",
      "family_GROCERY I                     0.548490\n",
      "sales_7d_avg                         0.468110\n",
      "onpromotion                          0.427923\n",
      "family_BEVERAGES                     0.325324\n",
      "family_PRODUCE                       0.159064\n",
      "family_CLEANING                      0.114639\n",
      "year                                 0.081093\n",
      "family_DAIRY                         0.056366\n",
      "day_of_week                          0.036869\n",
      "month                                0.019790\n",
      "quarter                              0.018237\n",
      "family_BREAD/BAKERY                  0.016933\n",
      "family_POULTRY                      -0.001162\n",
      "family_MEATS                        -0.002555\n",
      "family_PERSONAL CARE                -0.014011\n",
      "family_DELI                         -0.014861\n",
      "family_HOME CARE                    -0.029128\n",
      "family_EGGS                         -0.029894\n",
      "family_FROZEN FOODS                 -0.032566\n",
      "family_PREPARED FOODS               -0.041869\n",
      "family_LIQUOR,WINE,BEER             -0.043727\n",
      "family_SEAFOOD                      -0.053837\n",
      "family_GROCERY II                   -0.053930\n",
      "family_HOME AND KITCHEN I           -0.054109\n",
      "family_HOME AND KITCHEN II          -0.054710\n",
      "family_CELEBRATION                  -0.056050\n",
      "family_LINGERIE                     -0.056240\n",
      "family_LADIESWEAR                   -0.056244\n",
      "family_PLAYERS AND ELECTRONICS      -0.056400\n",
      "family_LAWN AND GARDEN              -0.056424\n",
      "family_PET SUPPLIES                 -0.056763\n",
      "family_BEAUTY                       -0.056796\n",
      "family_SCHOOL AND OFFICE SUPPLIES   -0.056917\n",
      "family_MAGAZINES                    -0.056923\n",
      "family_HARDWARE                     -0.057210\n",
      "family_HOME APPLIANCES              -0.057319\n",
      "family_BABY CARE                    -0.057375\n",
      "family_BOOKS                        -0.057381\n",
      "is_zero_sales                       -0.219116\n",
      "Name: sales, dtype: float64\n"
     ]
    }
   ],
   "source": [
    "correlation = refined_train.corr()\n",
    "print(correlation['sales'].sort_values(ascending=False))"
   ]
  },
  {
   "cell_type": "code",
   "execution_count": 43,
   "id": "8ecfdc4a",
   "metadata": {
    "execution": {
     "iopub.execute_input": "2024-11-20T17:50:07.517766Z",
     "iopub.status.busy": "2024-11-20T17:50:07.517478Z",
     "iopub.status.idle": "2024-11-20T17:50:09.774949Z",
     "shell.execute_reply": "2024-11-20T17:50:09.773845Z"
    },
    "papermill": {
     "duration": 2.271786,
     "end_time": "2024-11-20T17:50:09.776925",
     "exception": false,
     "start_time": "2024-11-20T17:50:07.505139",
     "status": "completed"
    },
    "tags": []
   },
   "outputs": [
    {
     "name": "stdout",
     "output_type": "stream",
     "text": [
      "Features with low correlation\n",
      "['id', 'store_nbr', 'day_of_week', 'month', 'quarter', 'year', 'is_weekend', 'family_BABY CARE', 'family_BEAUTY', 'family_BOOKS', 'family_BREAD/BAKERY', 'family_CELEBRATION', 'family_DAIRY', 'family_DELI', 'family_EGGS', 'family_FROZEN FOODS', 'family_GROCERY II', 'family_HARDWARE', 'family_HOME AND KITCHEN I', 'family_HOME AND KITCHEN II', 'family_HOME APPLIANCES', 'family_HOME CARE', 'family_LADIESWEAR', 'family_LAWN AND GARDEN', 'family_LINGERIE', 'family_LIQUOR,WINE,BEER', 'family_MAGAZINES', 'family_MEATS', 'family_PERSONAL CARE', 'family_PET SUPPLIES', 'family_PLAYERS AND ELECTRONICS', 'family_POULTRY', 'family_PREPARED FOODS', 'family_SCHOOL AND OFFICE SUPPLIES', 'family_SEAFOOD']\n"
     ]
    }
   ],
   "source": [
    "correlation_threshold = 0.1\n",
    "low_corr = [col for col in train.columns if col != 'sales' and abs(train[col].corr(train['sales'])) < correlation_threshold]\n",
    "print('Features with low correlation')\n",
    "print(low_corr)"
   ]
  },
  {
   "cell_type": "code",
   "execution_count": 44,
   "id": "2b87ca49",
   "metadata": {
    "execution": {
     "iopub.execute_input": "2024-11-20T17:50:09.804389Z",
     "iopub.status.busy": "2024-11-20T17:50:09.804093Z",
     "iopub.status.idle": "2024-11-20T17:50:09.860135Z",
     "shell.execute_reply": "2024-11-20T17:50:09.859167Z"
    },
    "papermill": {
     "duration": 0.071936,
     "end_time": "2024-11-20T17:50:09.861975",
     "exception": false,
     "start_time": "2024-11-20T17:50:09.790039",
     "status": "completed"
    },
    "tags": []
   },
   "outputs": [
    {
     "name": "stdout",
     "output_type": "stream",
     "text": [
      "remaining features\n"
     ]
    },
    {
     "data": {
      "text/plain": [
       "Index(['sales', 'onpromotion', 'sales_7d_avg', 'family_BEVERAGES',\n",
       "       'family_CLEANING', 'family_GROCERY I', 'family_PRODUCE', 'log_sales',\n",
       "       'is_zero_sales'],\n",
       "      dtype='object')"
      ]
     },
     "execution_count": 44,
     "metadata": {},
     "output_type": "execute_result"
    }
   ],
   "source": [
    "refined_train = train.drop(columns= low_corr)\n",
    "print(\"remaining features\")\n",
    "refined_train.columns"
   ]
  },
  {
   "cell_type": "code",
   "execution_count": 45,
   "id": "5677d504",
   "metadata": {
    "execution": {
     "iopub.execute_input": "2024-11-20T17:50:09.888904Z",
     "iopub.status.busy": "2024-11-20T17:50:09.888188Z",
     "iopub.status.idle": "2024-11-20T17:50:09.897337Z",
     "shell.execute_reply": "2024-11-20T17:50:09.896410Z"
    },
    "papermill": {
     "duration": 0.024179,
     "end_time": "2024-11-20T17:50:09.899025",
     "exception": false,
     "start_time": "2024-11-20T17:50:09.874846",
     "status": "completed"
    },
    "tags": []
   },
   "outputs": [
    {
     "name": "stdout",
     "output_type": "stream",
     "text": [
      "<class 'pandas.core.frame.DataFrame'>\n",
      "DatetimeIndex: 3000888 entries, 2013-01-01 to 2017-08-15\n",
      "Data columns (total 9 columns):\n",
      " #   Column            Dtype  \n",
      "---  ------            -----  \n",
      " 0   sales             float64\n",
      " 1   onpromotion       int64  \n",
      " 2   sales_7d_avg      float64\n",
      " 3   family_BEVERAGES  bool   \n",
      " 4   family_CLEANING   bool   \n",
      " 5   family_GROCERY I  bool   \n",
      " 6   family_PRODUCE    bool   \n",
      " 7   log_sales         float64\n",
      " 8   is_zero_sales     bool   \n",
      "dtypes: bool(5), float64(3), int64(1)\n",
      "memory usage: 128.8 MB\n"
     ]
    }
   ],
   "source": [
    "refined_train.info()"
   ]
  },
  {
   "cell_type": "code",
   "execution_count": 46,
   "id": "c9eba982",
   "metadata": {
    "execution": {
     "iopub.execute_input": "2024-11-20T17:50:09.923871Z",
     "iopub.status.busy": "2024-11-20T17:50:09.923622Z",
     "iopub.status.idle": "2024-11-20T17:50:09.953394Z",
     "shell.execute_reply": "2024-11-20T17:50:09.952565Z"
    },
    "papermill": {
     "duration": 0.043805,
     "end_time": "2024-11-20T17:50:09.955072",
     "exception": false,
     "start_time": "2024-11-20T17:50:09.911267",
     "status": "completed"
    },
    "tags": []
   },
   "outputs": [
    {
     "data": {
      "text/plain": [
       "sales               0\n",
       "onpromotion         0\n",
       "sales_7d_avg        0\n",
       "family_BEVERAGES    0\n",
       "family_CLEANING     0\n",
       "family_GROCERY I    0\n",
       "family_PRODUCE      0\n",
       "log_sales           0\n",
       "is_zero_sales       0\n",
       "dtype: int64"
      ]
     },
     "execution_count": 46,
     "metadata": {},
     "output_type": "execute_result"
    }
   ],
   "source": [
    "refined_train.isnull().sum()"
   ]
  },
  {
   "cell_type": "markdown",
   "id": "95a041da",
   "metadata": {
    "papermill": {
     "duration": 0.012165,
     "end_time": "2024-11-20T17:50:09.978800",
     "exception": false,
     "start_time": "2024-11-20T17:50:09.966635",
     "status": "completed"
    },
    "tags": []
   },
   "source": [
    "Splitting and training the model"
   ]
  },
  {
   "cell_type": "code",
   "execution_count": 47,
   "id": "91abb60f",
   "metadata": {
    "execution": {
     "iopub.execute_input": "2024-11-20T17:50:10.003595Z",
     "iopub.status.busy": "2024-11-20T17:50:10.003032Z",
     "iopub.status.idle": "2024-11-20T17:50:10.704376Z",
     "shell.execute_reply": "2024-11-20T17:50:10.703539Z"
    },
    "papermill": {
     "duration": 0.716185,
     "end_time": "2024-11-20T17:50:10.706347",
     "exception": false,
     "start_time": "2024-11-20T17:50:09.990162",
     "status": "completed"
    },
    "tags": []
   },
   "outputs": [
    {
     "name": "stdout",
     "output_type": "stream",
     "text": [
      "Training set size: (2400710, 8)\n",
      "Testing set size: (600178, 8)\n"
     ]
    }
   ],
   "source": [
    "from sklearn.model_selection import train_test_split\n",
    "\n",
    "X= refined_train.drop(columns=['sales'])\n",
    "y = refined_train['sales']\n",
    "\n",
    "X_train,X_test,y_train,y_test = train_test_split(X,y,test_size=0.2,random_state=42)\n",
    "print(\"Training set size:\",X_train.shape)\n",
    "print(\"Testing set size:\",X_test.shape)"
   ]
  }
 ],
 "metadata": {
  "kaggle": {
   "accelerator": "nvidiaTeslaT4",
   "dataSources": [
    {
     "databundleVersionId": 2887556,
     "sourceId": 29781,
     "sourceType": "competition"
    }
   ],
   "dockerImageVersionId": 30787,
   "isGpuEnabled": true,
   "isInternetEnabled": true,
   "language": "python",
   "sourceType": "notebook"
  },
  "kernelspec": {
   "display_name": "Python 3",
   "language": "python",
   "name": "python3"
  },
  "language_info": {
   "codemirror_mode": {
    "name": "ipython",
    "version": 3
   },
   "file_extension": ".py",
   "mimetype": "text/x-python",
   "name": "python",
   "nbconvert_exporter": "python",
   "pygments_lexer": "ipython3",
   "version": "3.10.14"
  },
  "papermill": {
   "default_parameters": {},
   "duration": 46.606625,
   "end_time": "2024-11-20T17:50:11.237476",
   "environment_variables": {},
   "exception": null,
   "input_path": "__notebook__.ipynb",
   "output_path": "__notebook__.ipynb",
   "parameters": {},
   "start_time": "2024-11-20T17:49:24.630851",
   "version": "2.6.0"
  }
 },
 "nbformat": 4,
 "nbformat_minor": 5
}
