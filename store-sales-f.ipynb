{
 "cells": [
  {
   "cell_type": "code",
   "execution_count": 1,
   "id": "6086bdd2",
   "metadata": {
    "_cell_guid": "b1076dfc-b9ad-4769-8c92-a6c4dae69d19",
    "_uuid": "8f2839f25d086af736a60e9eeb907d3b93b6e0e5",
    "execution": {
     "iopub.execute_input": "2024-11-14T08:19:44.237360Z",
     "iopub.status.busy": "2024-11-14T08:19:44.237060Z",
     "iopub.status.idle": "2024-11-14T08:19:44.979502Z",
     "shell.execute_reply": "2024-11-14T08:19:44.978459Z"
    },
    "papermill": {
     "duration": 0.750012,
     "end_time": "2024-11-14T08:19:44.981583",
     "exception": false,
     "start_time": "2024-11-14T08:19:44.231571",
     "status": "completed"
    },
    "tags": []
   },
   "outputs": [
    {
     "name": "stdout",
     "output_type": "stream",
     "text": [
      "/kaggle/input/store-sales-time-series-forecasting/oil.csv\n",
      "/kaggle/input/store-sales-time-series-forecasting/sample_submission.csv\n",
      "/kaggle/input/store-sales-time-series-forecasting/holidays_events.csv\n",
      "/kaggle/input/store-sales-time-series-forecasting/stores.csv\n",
      "/kaggle/input/store-sales-time-series-forecasting/train.csv\n",
      "/kaggle/input/store-sales-time-series-forecasting/test.csv\n",
      "/kaggle/input/store-sales-time-series-forecasting/transactions.csv\n"
     ]
    }
   ],
   "source": [
    "# This Python 3 environment comes with many helpful analytics libraries installed\n",
    "# It is defined by the kaggle/python Docker image: https://github.com/kaggle/docker-python\n",
    "# For example, here's several helpful packages to load\n",
    "\n",
    "import numpy as np # linear algebra\n",
    "import pandas as pd # data processing, CSV file I/O (e.g. pd.read_csv)\n",
    "\n",
    "# Input data files are available in the read-only \"../input/\" directory\n",
    "# For example, running this (by clicking run or pressing Shift+Enter) will list all files under the input directory\n",
    "\n",
    "import os\n",
    "for dirname, _, filenames in os.walk('/kaggle/input'):\n",
    "    for filename in filenames:\n",
    "        print(os.path.join(dirname, filename))\n",
    "\n",
    "# You can write up to 20GB to the current directory (/kaggle/working/) that gets preserved as output when you create a version using \"Save & Run All\" \n",
    "# You can also write temporary files to /kaggle/temp/, but they won't be saved outside of the current session"
   ]
  },
  {
   "cell_type": "code",
   "execution_count": 2,
   "id": "97333826",
   "metadata": {
    "execution": {
     "iopub.execute_input": "2024-11-14T08:19:44.990300Z",
     "iopub.status.busy": "2024-11-14T08:19:44.989938Z",
     "iopub.status.idle": "2024-11-14T08:19:45.191331Z",
     "shell.execute_reply": "2024-11-14T08:19:45.190256Z"
    },
    "papermill": {
     "duration": 0.207806,
     "end_time": "2024-11-14T08:19:45.193316",
     "exception": false,
     "start_time": "2024-11-14T08:19:44.985510",
     "status": "completed"
    },
    "tags": []
   },
   "outputs": [
    {
     "name": "stdout",
     "output_type": "stream",
     "text": [
      "Train data\n",
      "        id  sales\n",
      "0  3000888    0.0\n",
      "1  3000889    0.0\n",
      "2  3000890    0.0\n",
      "3  3000891    0.0\n",
      "4  3000892    0.0\n",
      "<class 'pandas.core.frame.DataFrame'>\n",
      "RangeIndex: 28512 entries, 0 to 28511\n",
      "Data columns (total 2 columns):\n",
      " #   Column  Non-Null Count  Dtype  \n",
      "---  ------  --------------  -----  \n",
      " 0   id      28512 non-null  int64  \n",
      " 1   sales   28512 non-null  float64\n",
      "dtypes: float64(1), int64(1)\n",
      "memory usage: 445.6 KB\n",
      "None\n",
      "\n",
      "Test data\n",
      "        id        date  store_nbr      family  onpromotion\n",
      "0  3000888  2017-08-16          1  AUTOMOTIVE            0\n",
      "1  3000889  2017-08-16          1   BABY CARE            0\n",
      "2  3000890  2017-08-16          1      BEAUTY            2\n",
      "3  3000891  2017-08-16          1   BEVERAGES           20\n",
      "4  3000892  2017-08-16          1       BOOKS            0\n",
      "<class 'pandas.core.frame.DataFrame'>\n",
      "RangeIndex: 28512 entries, 0 to 28511\n",
      "Data columns (total 5 columns):\n",
      " #   Column       Non-Null Count  Dtype \n",
      "---  ------       --------------  ----- \n",
      " 0   id           28512 non-null  int64 \n",
      " 1   date         28512 non-null  object\n",
      " 2   store_nbr    28512 non-null  int64 \n",
      " 3   family       28512 non-null  object\n",
      " 4   onpromotion  28512 non-null  int64 \n",
      "dtypes: int64(3), object(2)\n",
      "memory usage: 1.1+ MB\n",
      "None\n",
      "\n",
      "Holidays data\n",
      "         date     type    locale locale_name                    description  \\\n",
      "0  2012-03-02  Holiday     Local       Manta             Fundacion de Manta   \n",
      "1  2012-04-01  Holiday  Regional    Cotopaxi  Provincializacion de Cotopaxi   \n",
      "2  2012-04-12  Holiday     Local      Cuenca            Fundacion de Cuenca   \n",
      "3  2012-04-14  Holiday     Local    Libertad      Cantonizacion de Libertad   \n",
      "4  2012-04-21  Holiday     Local    Riobamba      Cantonizacion de Riobamba   \n",
      "\n",
      "   transferred  \n",
      "0        False  \n",
      "1        False  \n",
      "2        False  \n",
      "3        False  \n",
      "4        False  \n",
      "<class 'pandas.core.frame.DataFrame'>\n",
      "RangeIndex: 350 entries, 0 to 349\n",
      "Data columns (total 6 columns):\n",
      " #   Column       Non-Null Count  Dtype \n",
      "---  ------       --------------  ----- \n",
      " 0   date         350 non-null    object\n",
      " 1   type         350 non-null    object\n",
      " 2   locale       350 non-null    object\n",
      " 3   locale_name  350 non-null    object\n",
      " 4   description  350 non-null    object\n",
      " 5   transferred  350 non-null    bool  \n",
      "dtypes: bool(1), object(5)\n",
      "memory usage: 14.1+ KB\n",
      "None\n",
      "\n",
      "Store data\n",
      "   store_nbr           city                           state type  cluster\n",
      "0          1          Quito                       Pichincha    D       13\n",
      "1          2          Quito                       Pichincha    D       13\n",
      "2          3          Quito                       Pichincha    D        8\n",
      "3          4          Quito                       Pichincha    D        9\n",
      "4          5  Santo Domingo  Santo Domingo de los Tsachilas    D        4\n",
      "<class 'pandas.core.frame.DataFrame'>\n",
      "RangeIndex: 54 entries, 0 to 53\n",
      "Data columns (total 5 columns):\n",
      " #   Column     Non-Null Count  Dtype \n",
      "---  ------     --------------  ----- \n",
      " 0   store_nbr  54 non-null     int64 \n",
      " 1   city       54 non-null     object\n",
      " 2   state      54 non-null     object\n",
      " 3   type       54 non-null     object\n",
      " 4   cluster    54 non-null     int64 \n",
      "dtypes: int64(2), object(3)\n",
      "memory usage: 2.2+ KB\n",
      "None\n",
      "\n",
      "Transactions data\n",
      "         date  store_nbr  transactions\n",
      "0  2013-01-01         25           770\n",
      "1  2013-01-02          1          2111\n",
      "2  2013-01-02          2          2358\n",
      "3  2013-01-02          3          3487\n",
      "4  2013-01-02          4          1922\n",
      "<class 'pandas.core.frame.DataFrame'>\n",
      "RangeIndex: 83488 entries, 0 to 83487\n",
      "Data columns (total 3 columns):\n",
      " #   Column        Non-Null Count  Dtype \n",
      "---  ------        --------------  ----- \n",
      " 0   date          83488 non-null  object\n",
      " 1   store_nbr     83488 non-null  int64 \n",
      " 2   transactions  83488 non-null  int64 \n",
      "dtypes: int64(2), object(1)\n",
      "memory usage: 1.9+ MB\n",
      "None\n",
      "\n",
      "Oil data\n",
      "         date  dcoilwtico\n",
      "0  2013-01-01         NaN\n",
      "1  2013-01-02       93.14\n",
      "2  2013-01-03       92.97\n",
      "3  2013-01-04       93.12\n",
      "4  2013-01-07       93.20\n",
      "<class 'pandas.core.frame.DataFrame'>\n",
      "RangeIndex: 1218 entries, 0 to 1217\n",
      "Data columns (total 2 columns):\n",
      " #   Column      Non-Null Count  Dtype  \n",
      "---  ------      --------------  -----  \n",
      " 0   date        1218 non-null   object \n",
      " 1   dcoilwtico  1175 non-null   float64\n",
      "dtypes: float64(1), object(1)\n",
      "memory usage: 19.2+ KB\n",
      "None\n"
     ]
    }
   ],
   "source": [
    "import pandas as pd \n",
    "train = pd.read_csv('/kaggle/input/store-sales-time-series-forecasting/sample_submission.csv')\n",
    "test = pd.read_csv('/kaggle/input/store-sales-time-series-forecasting/test.csv')\n",
    "holidays = pd.read_csv('/kaggle/input/store-sales-time-series-forecasting/holidays_events.csv')\n",
    "stores = pd.read_csv('/kaggle/input/store-sales-time-series-forecasting/stores.csv')\n",
    "transactions = pd.read_csv('/kaggle/input/store-sales-time-series-forecasting/transactions.csv')\n",
    "oil = pd.read_csv('/kaggle/input/store-sales-time-series-forecasting/oil.csv')\n",
    "\n",
    "print(\"Train data\")\n",
    "print(train.head())\n",
    "print(train.info())\n",
    "\n",
    "print('\\nTest data')\n",
    "print(test.head())\n",
    "print(test.info())\n",
    "\n",
    "print('\\nHolidays data')\n",
    "print(holidays.head())\n",
    "print(holidays.info())\n",
    "\n",
    "print('\\nStore data')\n",
    "print(stores.head())\n",
    "print(stores.info())\n",
    "\n",
    "print('\\nTransactions data')\n",
    "print(transactions.head())\n",
    "print(transactions.info())\n",
    "\n",
    "print('\\nOil data')\n",
    "print(oil.head())\n",
    "print(oil.info())"
   ]
  },
  {
   "cell_type": "code",
   "execution_count": 3,
   "id": "04361b54",
   "metadata": {
    "execution": {
     "iopub.execute_input": "2024-11-14T08:19:45.202081Z",
     "iopub.status.busy": "2024-11-14T08:19:45.201812Z",
     "iopub.status.idle": "2024-11-14T08:19:45.208249Z",
     "shell.execute_reply": "2024-11-14T08:19:45.207403Z"
    },
    "papermill": {
     "duration": 0.012999,
     "end_time": "2024-11-14T08:19:45.210206",
     "exception": false,
     "start_time": "2024-11-14T08:19:45.197207",
     "status": "completed"
    },
    "tags": []
   },
   "outputs": [
    {
     "data": {
      "text/plain": [
       "Index(['id', 'sales'], dtype='object')"
      ]
     },
     "execution_count": 3,
     "metadata": {},
     "output_type": "execute_result"
    }
   ],
   "source": [
    "train.columns"
   ]
  },
  {
   "cell_type": "code",
   "execution_count": 4,
   "id": "56c26cae",
   "metadata": {
    "execution": {
     "iopub.execute_input": "2024-11-14T08:19:45.219390Z",
     "iopub.status.busy": "2024-11-14T08:19:45.218727Z",
     "iopub.status.idle": "2024-11-14T08:19:45.225754Z",
     "shell.execute_reply": "2024-11-14T08:19:45.224990Z"
    },
    "papermill": {
     "duration": 0.013551,
     "end_time": "2024-11-14T08:19:45.227683",
     "exception": false,
     "start_time": "2024-11-14T08:19:45.214132",
     "status": "completed"
    },
    "tags": []
   },
   "outputs": [
    {
     "data": {
      "text/plain": [
       "id       0\n",
       "sales    0\n",
       "dtype: int64"
      ]
     },
     "execution_count": 4,
     "metadata": {},
     "output_type": "execute_result"
    }
   ],
   "source": [
    "train.isna().sum()"
   ]
  },
  {
   "cell_type": "code",
   "execution_count": 5,
   "id": "d68311f0",
   "metadata": {
    "execution": {
     "iopub.execute_input": "2024-11-14T08:19:45.236697Z",
     "iopub.status.busy": "2024-11-14T08:19:45.236433Z",
     "iopub.status.idle": "2024-11-14T08:19:45.243106Z",
     "shell.execute_reply": "2024-11-14T08:19:45.242212Z"
    },
    "papermill": {
     "duration": 0.013477,
     "end_time": "2024-11-14T08:19:45.245154",
     "exception": false,
     "start_time": "2024-11-14T08:19:45.231677",
     "status": "completed"
    },
    "tags": []
   },
   "outputs": [
    {
     "data": {
      "text/plain": [
       "date           0\n",
       "dcoilwtico    43\n",
       "dtype: int64"
      ]
     },
     "execution_count": 5,
     "metadata": {},
     "output_type": "execute_result"
    }
   ],
   "source": [
    "oil.isna().sum()"
   ]
  },
  {
   "cell_type": "code",
   "execution_count": 6,
   "id": "88bd47d5",
   "metadata": {
    "execution": {
     "iopub.execute_input": "2024-11-14T08:19:45.255754Z",
     "iopub.status.busy": "2024-11-14T08:19:45.255133Z",
     "iopub.status.idle": "2024-11-14T08:19:45.270613Z",
     "shell.execute_reply": "2024-11-14T08:19:45.269755Z"
    },
    "papermill": {
     "duration": 0.023229,
     "end_time": "2024-11-14T08:19:45.272480",
     "exception": false,
     "start_time": "2024-11-14T08:19:45.249251",
     "status": "completed"
    },
    "tags": []
   },
   "outputs": [
    {
     "data": {
      "text/plain": [
       "date          0\n",
       "dcoilwtico    0\n",
       "dtype: int64"
      ]
     },
     "execution_count": 6,
     "metadata": {},
     "output_type": "execute_result"
    }
   ],
   "source": [
    "oil['date'] = pd.to_datetime(oil['date']) \n",
    "oil = oil.sort_values(by='date') \n",
    "# Forward fill as an alternative to interpolation\n",
    "oil['dcoilwtico'] = oil['dcoilwtico'].ffill()\n",
    "oil['dcoilwtico'] = oil['dcoilwtico'].bfill()\n",
    "oil.isna().sum()"
   ]
  },
  {
   "cell_type": "code",
   "execution_count": 7,
   "id": "a8681fb2",
   "metadata": {
    "execution": {
     "iopub.execute_input": "2024-11-14T08:19:45.281920Z",
     "iopub.status.busy": "2024-11-14T08:19:45.281629Z",
     "iopub.status.idle": "2024-11-14T08:19:45.287065Z",
     "shell.execute_reply": "2024-11-14T08:19:45.286277Z"
    },
    "papermill": {
     "duration": 0.012248,
     "end_time": "2024-11-14T08:19:45.288919",
     "exception": false,
     "start_time": "2024-11-14T08:19:45.276671",
     "status": "completed"
    },
    "tags": []
   },
   "outputs": [
    {
     "data": {
      "text/plain": [
       "Index(['date', 'type', 'locale', 'locale_name', 'description', 'transferred'], dtype='object')"
      ]
     },
     "execution_count": 7,
     "metadata": {},
     "output_type": "execute_result"
    }
   ],
   "source": [
    "holidays.columns"
   ]
  },
  {
   "cell_type": "code",
   "execution_count": 8,
   "id": "432fee09",
   "metadata": {
    "execution": {
     "iopub.execute_input": "2024-11-14T08:19:45.299025Z",
     "iopub.status.busy": "2024-11-14T08:19:45.298280Z",
     "iopub.status.idle": "2024-11-14T08:19:45.305126Z",
     "shell.execute_reply": "2024-11-14T08:19:45.304306Z"
    },
    "papermill": {
     "duration": 0.013784,
     "end_time": "2024-11-14T08:19:45.307086",
     "exception": false,
     "start_time": "2024-11-14T08:19:45.293302",
     "status": "completed"
    },
    "tags": []
   },
   "outputs": [],
   "source": [
    "holidays['date'] = pd.to_datetime(holidays['date'])\n",
    "holidays = holidays.sort_values(by='date')\n",
    "\n"
   ]
  },
  {
   "cell_type": "code",
   "execution_count": 9,
   "id": "e254e5e4",
   "metadata": {
    "execution": {
     "iopub.execute_input": "2024-11-14T08:19:45.316853Z",
     "iopub.status.busy": "2024-11-14T08:19:45.316556Z",
     "iopub.status.idle": "2024-11-14T08:19:45.322029Z",
     "shell.execute_reply": "2024-11-14T08:19:45.321212Z"
    },
    "papermill": {
     "duration": 0.012345,
     "end_time": "2024-11-14T08:19:45.323899",
     "exception": false,
     "start_time": "2024-11-14T08:19:45.311554",
     "status": "completed"
    },
    "tags": []
   },
   "outputs": [
    {
     "data": {
      "text/plain": [
       "Index(['date', 'store_nbr', 'transactions'], dtype='object')"
      ]
     },
     "execution_count": 9,
     "metadata": {},
     "output_type": "execute_result"
    }
   ],
   "source": [
    "transactions.columns"
   ]
  },
  {
   "cell_type": "code",
   "execution_count": 10,
   "id": "41b65afe",
   "metadata": {
    "execution": {
     "iopub.execute_input": "2024-11-14T08:19:45.333939Z",
     "iopub.status.busy": "2024-11-14T08:19:45.333438Z",
     "iopub.status.idle": "2024-11-14T08:19:45.356944Z",
     "shell.execute_reply": "2024-11-14T08:19:45.356074Z"
    },
    "papermill": {
     "duration": 0.030606,
     "end_time": "2024-11-14T08:19:45.358944",
     "exception": false,
     "start_time": "2024-11-14T08:19:45.328338",
     "status": "completed"
    },
    "tags": []
   },
   "outputs": [],
   "source": [
    "transactions['date'] = pd.to_datetime(transactions['date'])\n",
    "transactions = transactions.sort_values(by='date')"
   ]
  }
 ],
 "metadata": {
  "kaggle": {
   "accelerator": "nvidiaTeslaT4",
   "dataSources": [
    {
     "databundleVersionId": 2887556,
     "sourceId": 29781,
     "sourceType": "competition"
    }
   ],
   "dockerImageVersionId": 30787,
   "isGpuEnabled": true,
   "isInternetEnabled": true,
   "language": "python",
   "sourceType": "notebook"
  },
  "kernelspec": {
   "display_name": "Python 3",
   "language": "python",
   "name": "python3"
  },
  "language_info": {
   "codemirror_mode": {
    "name": "ipython",
    "version": 3
   },
   "file_extension": ".py",
   "mimetype": "text/x-python",
   "name": "python",
   "nbconvert_exporter": "python",
   "pygments_lexer": "ipython3",
   "version": "3.10.14"
  },
  "papermill": {
   "default_parameters": {},
   "duration": 4.087117,
   "end_time": "2024-11-14T08:19:45.681591",
   "environment_variables": {},
   "exception": null,
   "input_path": "__notebook__.ipynb",
   "output_path": "__notebook__.ipynb",
   "parameters": {},
   "start_time": "2024-11-14T08:19:41.594474",
   "version": "2.6.0"
  }
 },
 "nbformat": 4,
 "nbformat_minor": 5
}
